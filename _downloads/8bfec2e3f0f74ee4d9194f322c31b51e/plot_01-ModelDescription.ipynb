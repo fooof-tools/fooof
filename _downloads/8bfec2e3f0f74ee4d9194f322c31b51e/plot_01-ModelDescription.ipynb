{
  "cells": [
    {
      "cell_type": "markdown",
      "metadata": {},
      "source": [
        "\n# 01: Model Description\n\nA description of and introduction to the power spectrum model.\n"
      ]
    },
    {
      "cell_type": "markdown",
      "metadata": {},
      "source": [
        "## Introduction\n\nWelcome to the tutorials!\n\nIn this first tutorial, we will introduce an overview and description of power spectrum\nmodel, as well as visualizing some examples.\n\nKeep in mind as you go, that if you want more information that describes, motivates, and\njustifies our modeling approach, you can also check out the associated\n[paper](https://www.biorxiv.org/content/early/2018/04/11/299859),\nand/or the\n[motivations](https://fooof-tools.github.io/fooof/auto_tutorials/index.html)\nsection of the site.\n\n\n"
      ]
    },
    {
      "cell_type": "markdown",
      "metadata": {},
      "source": [
        "### Example Power Spectra and Models\n\nFirst, we will import and run some code to simulate some example power spectra, and\nfit some power spectrum models to them, to use as examples.\n\nFor the purpose of this tutorial, you don't need to know how this code works\nyet, and can skip past reading the code itself.\n\n\n"
      ]
    },
    {
      "cell_type": "code",
      "execution_count": null,
      "metadata": {
        "collapsed": false
      },
      "outputs": [],
      "source": [
        "# Import required code for visualizing example models\nfrom fooof import FOOOF\nfrom fooof.sim.gen import gen_power_spectrum\nfrom fooof.sim.utils import set_random_seed\nfrom fooof.plts.spectra import plot_spectra\nfrom fooof.plts.annotate import plot_annotated_model"
      ]
    },
    {
      "cell_type": "code",
      "execution_count": null,
      "metadata": {
        "collapsed": false
      },
      "outputs": [],
      "source": [
        "# Set random seed, for consistency generating simulated data\nset_random_seed(21)\n\n# Simulate example power spectra\nfreqs1, powers1 = gen_power_spectrum([3, 40], [1, 1],\n                                     [[10, 0.2, 1.25], [30, 0.15, 2]])\nfreqs2, powers2 = gen_power_spectrum([1, 150], [1, 125, 1.25],\n                                     [[8, 0.15, 1.], [30, 0.1, 2]])"
      ]
    },
    {
      "cell_type": "code",
      "execution_count": null,
      "metadata": {
        "collapsed": false
      },
      "outputs": [],
      "source": [
        "# Initialize power spectrum model objects and fit the power spectra\nfm1 = FOOOF(min_peak_height=0.05, verbose=False)\nfm2 = FOOOF(min_peak_height=0.05, aperiodic_mode='knee', verbose=False)\nfm1.fit(freqs1, powers1)\nfm2.fit(freqs2, powers2)"
      ]
    },
    {
      "cell_type": "markdown",
      "metadata": {},
      "source": [
        "Now, we have some data and models to work with.\n\nTo start with, we can plot one of our simulated power spectra.\n\nPlotted below is an example power spectrum, plotted in semi-log space (log10 power values\nand linear frequencies). This is our data, that we will be trying to model.\n\nIn the plot, we see a power spectrum in which there is decreasing power across increasing\nfrequencies. In some frequency regions, there is a 'peak' of power, over and above the general\ntrend across frequencies. These properties - a pattern of decreasing power across frequencies,\nwith overlying peaks - are considered to be hallmarks of neural field data.\n\n\n"
      ]
    },
    {
      "cell_type": "code",
      "execution_count": null,
      "metadata": {
        "collapsed": false
      },
      "outputs": [],
      "source": [
        "# Plot one of the example power spectra\nplot_spectra(freqs1, powers1, log_powers=True,\n             color='black', label='Original Spectrum')"
      ]
    },
    {
      "cell_type": "markdown",
      "metadata": {},
      "source": [
        "## Conceptual Overview\n\nThe goal of this module is to fit models to parameterize neural power spectra.\n\nOne reason to do so is the idea that there are multiple distinct 'components' within\nneural field data. The model is therefore designed to measure these different\n'components' of the data.\n\nBy components, we mean that we are going to conceptualize neural field data as consisting\nof a combination of periodic (oscillatory) and aperiodic activity. Restated, we could say\nthat neural data contains both periodic and aperiodic components.\n\nThe goal of the model is to measure these components, separately and explicitly,\nfrom frequency representations of neural field data (neural power spectra).\n\n\n"
      ]
    },
    {
      "cell_type": "markdown",
      "metadata": {},
      "source": [
        "### Visualizing Power Spectrum Models\n\nFirst, let's start by revisiting the example power spectrum, this time also adding the model\nfit to the plot.\n\nIn the plot below, black is the data, same as before, and in red we've added the\nmodel fit of the data. If things are working, this line should be good approximation\nof the data.\n\n\n"
      ]
    },
    {
      "cell_type": "code",
      "execution_count": null,
      "metadata": {
        "collapsed": false
      },
      "outputs": [],
      "source": [
        "# Plot an example power spectrum, with a model fit\nfm1.plot(plot_peaks='shade', peak_kwargs={'color' : 'green'})"
      ]
    },
    {
      "cell_type": "markdown",
      "metadata": {},
      "source": [
        "Given the full model, in red, we can then describe this spectrum in terms of the\n'components' that make up the model fit, which are:\n\n- `aperiodic`: activity with no characteristic frequency (or 'non-frequency specific' activity)\n\n  - in power spectra, this looks like a trend across all frequencies\n  - in the plot above, this is what is captured by the dashed blue line\n- `periodic` : activity with a characteristic frequency\n\n  - in power spectra, this looks like a 'peak', or 'bump', reflecting frequency specific power\n  - in the plot above, this is what is captured by the green shaded peaks\n\nEach of these components also has different 'features' or 'properties', that we want to\ndescribe and measure. Since these 'features' are things that we will be fitting in\nthe model, we will call them `parameters` (as in, the 'model parameters').\n\nThe full model of the power spectrum is the combination of the two components:\nthe aperiodic component and the periodic component (the set of peaks).\n\nThe goal of the model is to measure these two components, to create the full model\nfit, in a way that accurately and quantitatively describes the data.\n\n\n"
      ]
    },
    {
      "cell_type": "markdown",
      "metadata": {},
      "source": [
        "### Mathematical Description of Overall Model\n\nTo enact the conceptual idea described above, we will need to formalize the model. To do\nso, throughout the rest of this tutorial, we will lay out the mathematical description of\nhow neural power spectra can be modeled as a combination of periodic and aperiodic activity.\n\nOverall, the goal is to describe a neural power spectrum, described as $NPS$, as\na combination of periodic and aperiodic components. We will describe each of these\ncomponents in their own section.\n\nNote that as we go, we will continue to consider power in log10 spacing. You will\nalso see each component includes $(F)$, where $F$ is the array of\nfrequency values (in linear spacing) for the power spectrum, which just indicates that\neach component is a function of frequency.\n\n\n"
      ]
    },
    {
      "cell_type": "markdown",
      "metadata": {},
      "source": [
        "## Periodic Component\n\nBy periodic activity, we mean activity that has a characteristic frequency.\nThis includes what are typically referred to as neural oscillations, often described\nin particular frequency bands such as delta, theta, alpha, beta, gamma, etc.\n\nIn the frequency domain, putative oscillations are frequency regions in which\nthere are 'bumps' of power over and above the aperiodic component.\nWe will generally refer to the these as 'peaks' in the neural power spectrum.\n\nTo measure the periodic activity, we would like to describe these peaks, without our\nmeasures of these peaks being influenced by co-occurring aperiodic activity.\nThis is important, since, as we can see in the plots above, the aperiodic and periodic\ncomponents of the data can 'overlap', in frequency space. This means the total power\nat a given frequency may have contributions from both components. To measure periodic power,\nspecifically, we need to measure the power relative to the aperiodic component of the data.\n\nNext, let's explore an annotated version of our power spectrum model.\n\n\n"
      ]
    },
    {
      "cell_type": "code",
      "execution_count": null,
      "metadata": {
        "collapsed": false
      },
      "outputs": [],
      "source": [
        "# Plot an annotated version of the power spectrum model\nplot_annotated_model(fm1, annotate_aperiodic=False)"
      ]
    },
    {
      "cell_type": "markdown",
      "metadata": {},
      "source": [
        "In the labeled plot above, we can again see the different components of the model,\nas well as the labeled peak parameters.\n\nNote that vertical labels reflect parameters measured in the x-axis units, so in frequency,\nwhere as horizontal labels reflect parameters measured in y-axis units, so power.\n\nThe periodic parameters are:\n\n- the `center frequency` of the peak, in units of frequency\n- the `power` of the peak, over the aperiodic component, in units of power\n- the `bandwidth`, or the width of the peak, in units of frequency\n\nWherever we detect a peak, these are the parameters that we will fit to the peak,\nto describe this component of the data.\n\n\n"
      ]
    },
    {
      "cell_type": "markdown",
      "metadata": {},
      "source": [
        "### Mathematical Description of the Periodic Component\n\nTo fit this periodic activity - the regions of power over above the aperiodic component,\nor 'peaks' - the model uses Gaussians. As we've seen, there can be multiple peaks in the model.\n\nEach Gaussian, $n$, referred to as $G(F)_n$, is of the form:\n\n\\begin{align}G(F)_n = a * exp (\\frac{- (F - c)^2}{2 * w^2})\\end{align}\n\nThis describes each peak in terms of parameters `a`, `c` and `w`, where:\n\n- $a$ is the height of the peak, over and above the aperiodic component\n- $c$ is the center frequency of the peak\n- $w$ is the width of the peak\n- $F$ is the array of frequency values\n\n\n"
      ]
    },
    {
      "cell_type": "markdown",
      "metadata": {},
      "source": [
        "## Aperiodic Component\n\nBy 'aperiodic' activity, we mean activity that is not rhythmic, or activity that has\nno characteristic frequency.\n\nIn the power spectrum, we typically see this as 1/f-like activity, whereby (in linear space)\nthe power across frequencies decreases with a $\\frac{1}{F^\\chi}$ relationship.\n\nTo measure the aperiodic activity, we would like to describe the pattern of activity\nacross all frequencies, without our measure being influenced by co-occurring periodic\nactivity (peaks).\n\n\n"
      ]
    },
    {
      "cell_type": "code",
      "execution_count": null,
      "metadata": {
        "collapsed": false
      },
      "outputs": [],
      "source": [
        "# Plot an annotated version of the power spectrum model\nplot_annotated_model(fm1, annotate_peaks=False)"
      ]
    },
    {
      "cell_type": "markdown",
      "metadata": {},
      "source": [
        "The aperiodic parameters in the above plot are:\n\n- the `offset`, or overall up/down translation of the whole spectrum\n- the `exponent`, which describes the 'curve', or overall 'line' of the aperiodic component\n\nNote that diagonal labels indicate unit-less measures (in neither units of frequency or power).\n\n\n"
      ]
    },
    {
      "cell_type": "markdown",
      "metadata": {},
      "source": [
        "### Mathematical Description of the Aperiodic Component\n\nTo fit the aperiodic component, we will use the function $L$:\n\n\\begin{align}L(F) = b - \\log(k + F^\\chi)\\end{align}\n\nNote that this function is fit on the semi-log power spectrum, meaning linear frequencies\nand $log_{10}$ power values.\n\nIn this formulation, the parameters $b$, $k$, and $\\chi$\ndefine the aperiodic component, as:\n\n- $b$ is the broadband 'offset'\n- $k$ is the 'knee'\n- $\\chi$ is the 'exponent' of the aperiodic fit\n- $F$ is the array of frequency values\n\nNote that fitting the knee parameter is optional. If used, the knee parameter defines a\n'bend' in the aperiodic `1/f` like component of the data. If not used, the 'knee'\nparameter is set to zero.\n\nThis function form is technically described as a Lorentzian function. We use the option\nof adding a knee parameter, since even though neural data is often discussed in terms\nof having `1/f` activity, there is often not a single `1/f` characteristic, especially\nacross broader frequency ranges. Therefore, using this function form allows for modeling\nbends in the power spectrum of the aperiodic component, if and when they occur.\n\nNote that if we were to want the equivalent function in linear power, using $AP$\nto indicate the aperiodic component in linear spacing, it would be:\n\n\\begin{align}AP(F) = 10^b * \\frac{1}{(k + F^\\chi)}\\end{align}\n\n\n"
      ]
    },
    {
      "cell_type": "markdown",
      "metadata": {},
      "source": [
        "### A Note on Logging\n\nSo far, we have been plotting in semi-log, meaning the x-axis (frequency) is in linear\nspacing, and the y-axis (power) is in log10 space. This is common practice, as power values\nare exponentially distributed.\n\nIt can also be useful, for visualization, to plot with both axes on a log scale.\nNote that in this module, plotting in log-log is just a visualization choice, and does\nnot affect how the data is stored and/or how models are fit.\n\nBelow we can see the same spectrum again, with all the annotations on, plotted in log-log.\nThe most notable difference is that the aperiodic component is a straight line in log-log\nspacing. This is a hallmark of `1/f` activity.\n\n\n"
      ]
    },
    {
      "cell_type": "code",
      "execution_count": null,
      "metadata": {
        "collapsed": false
      },
      "outputs": [],
      "source": [
        "# Plot the power spectrum model, in log-log space\nplot_annotated_model(fm1, plt_log=True)"
      ]
    },
    {
      "cell_type": "markdown",
      "metadata": {},
      "source": [
        "### Relating Exponents to Power Spectrum Slope\n\nAnother way to measure 1/f properties in neural power spectra is to measure the slope\nof the spectrum in log-log spacing, fitting a linear equation as:\n\n\\begin{align}L(log(F)) = aF + b\\end{align}\n\nWhere:\n\n- $a$ is the power spectrum slope\n- $b$ is the offset\n- $F$ is the array of frequency values\n\nIn this formulation, the data is considered in log-log space, meaning the frequency values\nare also in log space. Since 1/f is a straight line in log-log spacing, this approach captures\n1/f activity.\n\nThis is equivalent to the power spectrum model in this module, when fitting with no knee,\nwith a direct relationship between the slope ($a$) and the exponent ($\\chi$):\n\n\\begin{align}\\chi = -a\\end{align}\n\n\n"
      ]
    },
    {
      "cell_type": "markdown",
      "metadata": {},
      "source": [
        "### Fitting Knees\n\nIn the original model we fit and explored, there was no aperiodic 'knee'. Depending on\nthe data, or the frequency range, there may or may not be a knee present in the data\n(more on that later in the tutorial).\n\nIn the next plot, there is another annotated model, from a broader frequency range that also\nincludes a knee. When plotted in log-log, the presence of a knee can be seen as 'bend' or\n'knee' in the  aperiodic component.\n\n\n"
      ]
    },
    {
      "cell_type": "code",
      "execution_count": null,
      "metadata": {
        "collapsed": false
      },
      "outputs": [],
      "source": [
        "# Plot an annotated version of the power spectrum model\nplot_annotated_model(fm2, plt_log=True)"
      ]
    },
    {
      "cell_type": "markdown",
      "metadata": {},
      "source": [
        "The knee parameter fit to the model is a unit-less value that describes the curve of the\naperiodic component (when plotted in log-log spacing). On the plot above, the annotation\nreferences the knee as the dot on the plot at the bend point.\n\n\n"
      ]
    },
    {
      "cell_type": "markdown",
      "metadata": {},
      "source": [
        "## Conclusion\n\nSo far, we have explored how neural power spectra, $NPS$, across a set of frequencies\n$F$ can be modeled as a combination of an aperiodic component, $L$, and the\nperiodic component, which is comprised of `N` peaks, where each $G_n$ is a Gaussian.\n\nTo summarize, the full model is:\n\n\\begin{align}NPS(F) = L(F) + G(F)_n\\end{align}\n\nwhere:\n\n\\begin{align}L(F) = b - \\log(k + F^\\chi) \\quad \\quad G(F)_n = a * exp (\\frac{- (F - c)^2}{2 * w^2})\\end{align}\n\nThis approach allows us to measure periodic and aperiodic activity from neural\npower spectra, and describe them with model parameters:\n\n- $b$, $k$, and $\\chi$ of the aperiodic component which reflect\n  the `offset`, `knee` and `exponent`, respectively\n- $c$, $a$, $w$ for each periodic peak, relating to the\n  `center frequency`, `power` and `bandwidth` of putative periodic activity\n\nFor more technical details on the model formulation and fitting process, check out the\n[paper](https://www.biorxiv.org/content/early/2018/04/11/299859).\n\nIn the next tutorial, we will start to use this model.\n\n\n"
      ]
    }
  ],
  "metadata": {
    "kernelspec": {
      "display_name": "Python 3",
      "language": "python",
      "name": "python3"
    },
    "language_info": {
      "codemirror_mode": {
        "name": "ipython",
        "version": 3
      },
      "file_extension": ".py",
      "mimetype": "text/x-python",
      "name": "python",
      "nbconvert_exporter": "python",
      "pygments_lexer": "ipython3",
      "version": "3.8.3"
    }
  },
  "nbformat": 4,
  "nbformat_minor": 0
}