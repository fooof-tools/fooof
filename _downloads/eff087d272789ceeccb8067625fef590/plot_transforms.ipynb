{
  "cells": [
    {
      "cell_type": "markdown",
      "metadata": {},
      "source": [
        "\n# Transforming Power Spectra\n\nApply transformations to power spectra.\n\nOne of the goals of parameterizing neural power spectra is to be able to understand\nif and how power spectra may be different and/or be changing across time or context.\n\nIn order to explore how power spectra can change, the simulation framework also\nprovides functions and utilities for transforming power spectra. These approaches\ncan be useful to specifically define changes and how spectra relate to each other,\nand track how outcome measures relate to changes in the power spectra.\n"
      ]
    },
    {
      "cell_type": "code",
      "execution_count": null,
      "metadata": {
        "collapsed": false
      },
      "outputs": [],
      "source": [
        "import numpy as np\nimport matplotlib.pyplot as plt\n\n# Import the FOOOF object\nfrom fooof import FOOOF\n\n# Import simulation utilities to create example data\nfrom fooof.sim.gen import gen_power_spectrum\n\n# Import functions that can transform power spectra\nfrom fooof.sim.transform import (rotate_spectrum, translate_spectrum,\n                                 rotate_sim_spectrum, translate_sim_spectrum,\n                                 compute_rotation_offset, compute_rotation_frequency)\n\n# Import plot function to visualize power spectra\nfrom fooof.plts.spectra import plot_spectra"
      ]
    },
    {
      "cell_type": "code",
      "execution_count": null,
      "metadata": {
        "collapsed": false
      },
      "outputs": [],
      "source": [
        "# Generate a simulated power spectrum\nfreqs, powers, params = gen_power_spectrum([3, 40], [1, 1], [10, 0.5, 1],\n                                           return_params=True)"
      ]
    },
    {
      "cell_type": "markdown",
      "metadata": {},
      "source": [
        "## Rotating Power Spectra\n\nThe :func:`~.rotate_spectrum` function takes in a power spectrum, and\nrotates the power spectrum a specified amount, around a specified frequency point,\nchanging the aperiodic exponent of the spectrum.\n\n\n"
      ]
    },
    {
      "cell_type": "code",
      "execution_count": null,
      "metadata": {
        "collapsed": false
      },
      "outputs": [],
      "source": [
        "# Rotation settings\ndelta_exp = 0.25        # How much to change the exponent by\nf_rotation = 20         # The frequency at which to rotate the spectrum\n\n# Rotate the power spectrum\nr_powers = rotate_spectrum(freqs, powers, delta_exp, f_rotation)"
      ]
    },
    {
      "cell_type": "code",
      "execution_count": null,
      "metadata": {
        "collapsed": false
      },
      "outputs": [],
      "source": [
        "# Plot the two power spectra, with the rotation applied\nplot_spectra(freqs, [powers, r_powers], log_freqs=True, log_powers=True)"
      ]
    },
    {
      "cell_type": "markdown",
      "metadata": {},
      "source": [
        "Next, we can fit power spectrum models to check if our change in exponent worked as expected.\n\n\n"
      ]
    },
    {
      "cell_type": "code",
      "execution_count": null,
      "metadata": {
        "collapsed": false
      },
      "outputs": [],
      "source": [
        "# Initialize FOOOF objects\nfm1 = FOOOF(verbose=False)\nfm2 = FOOOF(verbose=False)\n\n# Fit power spectrum models to the original, and rotated, spectrum\nfm1.fit(freqs, powers)\nfm2.fit(freqs, r_powers)\n\n# Check the measured exponent values\nprint(\"Original exponent value:\\t {:1.2f}\".format(\\\n    fm1.get_params('aperiodic_params', 'exponent')))\nprint(\"Rotated exponent value:\\t{:1.2f}\".format(\\\n    fm2.get_params('aperiodic_params', 'exponent')))"
      ]
    },
    {
      "cell_type": "markdown",
      "metadata": {},
      "source": [
        "### Rotation Related Offset Changes\n\nNote that when you rotate a power spectrum, the offset also necessarily changes.\n\nIf you wish to compute the change in offset that occurs due to a change in exponent,\nyou can use the :func:`~.compute_rotation_offset` function.\n\n\n"
      ]
    },
    {
      "cell_type": "code",
      "execution_count": null,
      "metadata": {
        "collapsed": false
      },
      "outputs": [],
      "source": [
        "# Calculate the change in offset from an exponent change\noff_change = compute_rotation_offset(delta_exp, f_rotation)\n\n# Check the change in offset\nprint(\"The induced change in offset is: \\t {:1.2f}\".format(off_change))"
      ]
    },
    {
      "cell_type": "markdown",
      "metadata": {},
      "source": [
        "## Translating Power Spectra\n\nAnother transformation you can apply to power spectra is a translation, which changes\nthe offset, effectively moving the whole spectrum up or down.\n\nNote that changing the offset does not change the exponent.\n\n\n"
      ]
    },
    {
      "cell_type": "code",
      "execution_count": null,
      "metadata": {
        "collapsed": false
      },
      "outputs": [],
      "source": [
        "# Translation settings\ndelta_offset = 0.5        # How much to change the offset by\n\n# Translate the power spectrum\nt_powers = translate_spectrum(powers, delta_offset)"
      ]
    },
    {
      "cell_type": "code",
      "execution_count": null,
      "metadata": {
        "collapsed": false
      },
      "outputs": [],
      "source": [
        "# Plot the two power spectra, with the translation applied\nplot_spectra(freqs, [powers, t_powers], log_freqs=True, log_powers=True)"
      ]
    },
    {
      "cell_type": "markdown",
      "metadata": {},
      "source": [
        "## Transforming while Tracking Simulation Parameters\n\nAs we've seen, transforming power spectra changes their definitions, and sometimes\nmore than just the parameter we are manipulating directly.\n\nIf you are transforming simulated spectra, it can be useful to keep track of these changes.\n\nTo do so, there are also the functions :func:`~.rotate_sim_spectrum` and\n:func:`~.translate_sim_spectrum`, which work the same as what we've seen so far,\nwith the addition that they take in a :obj:`~.SimParams` object, and update and\nreturn a new :obj:`~.SimParams` object that tracks the updated simulation parameters.\n\n\n"
      ]
    },
    {
      "cell_type": "code",
      "execution_count": null,
      "metadata": {
        "collapsed": false
      },
      "outputs": [],
      "source": [
        "# Rotate a power spectrum, tracking and updating simulation parameters\nr_s_powers, r_params = rotate_sim_spectrum(freqs, powers, delta_exp, f_rotation, params)\n\n# Check the updated sim params from after the rotation\nprint(r_params)"
      ]
    },
    {
      "cell_type": "code",
      "execution_count": null,
      "metadata": {
        "collapsed": false
      },
      "outputs": [],
      "source": [
        "# Translate a power spectrum, tracking and updating simulation parameters\nt_s_powers, t_params = translate_sim_spectrum(powers, delta_offset, params)\n\n# Check the updated sim params from after the translation\nprint(t_params)"
      ]
    },
    {
      "cell_type": "markdown",
      "metadata": {},
      "source": [
        "## Relations Between Power Spectra\n\nIn some cases, what we care about when transforming power spectra, is the relation\nbetween multiple transformed power spectra.\n\nFor example, if we start with a power spectrum 'A', and compute two transformations\non it, call them 'B' and 'C' at the same or different changes in exponent and/or\nrotation frequencies, what is the relation between 'B' and 'C'?\n\nIn the following examples, we will explore the relations between transformed\npower spectra.\n\n\n"
      ]
    },
    {
      "cell_type": "code",
      "execution_count": null,
      "metadata": {
        "collapsed": false
      },
      "outputs": [],
      "source": [
        "# Create a baseline power spectrum\nfreqs, powers = gen_power_spectrum([3, 50], [0, 1.5], [10, 0.3, 0.5], nlv=0)"
      ]
    },
    {
      "cell_type": "code",
      "execution_count": null,
      "metadata": {
        "collapsed": false
      },
      "outputs": [],
      "source": [
        "# Initialize some power spectrum models for checking our transformations\nfm1 = FOOOF(verbose=False)\nfm2 = FOOOF(verbose=False)"
      ]
    },
    {
      "cell_type": "markdown",
      "metadata": {},
      "source": [
        "### Rotate at the Same Rotation Frequencies\n\nFirst, let's consider the case in which we rotate a spectrum by the different delta\nexponents, at the same rotation frequency.\n\nIn this case, each rotation creates the same change in offset between 'B' & 'C', and\nso B & C end up with the same offset. The difference in exponent between 'B' and 'C'\nis computable as the different of delta exponents applied to each spectrum.\n\n\n"
      ]
    },
    {
      "cell_type": "code",
      "execution_count": null,
      "metadata": {
        "collapsed": false
      },
      "outputs": [],
      "source": [
        "# Settings for rotating power spectra\ndelta_exp_1 = 0.25\ndelta_exp_2 = 0.5\nf_rotation = 20\n\n# Rotate a spectrum, different amounts, at the same rotation frequency\npowers_1 = rotate_spectrum(freqs, powers, delta_exp_1, f_rotation)\npowers_2 = rotate_spectrum(freqs, powers, delta_exp_2, f_rotation)"
      ]
    },
    {
      "cell_type": "code",
      "execution_count": null,
      "metadata": {
        "collapsed": false
      },
      "outputs": [],
      "source": [
        "# Calculate the expected difference in exponent\nexp_diff = delta_exp_1 - delta_exp_2\n\n# Calculate the measured difference in exponent\nfm1.fit(freqs, powers_1); fm2.fit(freqs, powers_2)\nexp_diff_meas = fm1.get_params('aperiodic', 'exponent') - \\\n    fm2.get_params('aperiodic', 'exponent')"
      ]
    },
    {
      "cell_type": "code",
      "execution_count": null,
      "metadata": {
        "collapsed": false
      },
      "outputs": [],
      "source": [
        "# Print out the expected and measured changes in exponent\ntemplate = \"Exponent Difference: \\n  expected: \\t{:1.4f} \\n  actual: \\t{:1.4f}\"\nprint(template.format(exp_diff, exp_diff_meas))"
      ]
    },
    {
      "cell_type": "code",
      "execution_count": null,
      "metadata": {
        "collapsed": false
      },
      "outputs": [],
      "source": [
        "# Visualize the transformed power spectra\nplot_spectra(freqs, [powers_1, powers_2],\n             log_freqs=True, log_powers=True)"
      ]
    },
    {
      "cell_type": "markdown",
      "metadata": {},
      "source": [
        "### Rotate at Different Rotation Frequencies\n\nNext, let's consider the case in which we rotate a spectrum by the same delta exponent,\nbut do so at different rotation frequencies.\n\nThe resulting power spectra will have the same final exponent value, but there will\nbe a difference in offset between them, as each rotation, at different rotation points,\ncreates a different change in offset. The difference in offset between 'B' & 'C' is\ncomputed as the difference of rotation offset changes between them.\n\n\n"
      ]
    },
    {
      "cell_type": "code",
      "execution_count": null,
      "metadata": {
        "collapsed": false
      },
      "outputs": [],
      "source": [
        "# Settings for rotating power spectra\ndelta_exp = 0.25\nf_rotation_1 = 5\nf_rotation_2 = 25\n\n# Rotate a spectrum, the same amount, at two different rotation frequencies\npowers_1 = rotate_spectrum(freqs, powers, delta_exp, f_rotation_1)\npowers_2 = rotate_spectrum(freqs, powers, delta_exp, f_rotation_2)"
      ]
    },
    {
      "cell_type": "code",
      "execution_count": null,
      "metadata": {
        "collapsed": false
      },
      "outputs": [],
      "source": [
        "# Calculate the expected difference in offset\noff_diff = compute_rotation_offset(delta_exp, f_rotation_1) - \\\n    compute_rotation_offset(delta_exp, f_rotation_2)\n\n# Calculate the measured difference in offset\nfm1.fit(freqs, powers_1)\nfm2.fit(freqs, powers_2)\noff_diff_2 = fm1.get_params('aperiodic', 'offset') - \\\n    fm2.get_params('aperiodic', 'offset')"
      ]
    },
    {
      "cell_type": "code",
      "execution_count": null,
      "metadata": {
        "collapsed": false
      },
      "outputs": [],
      "source": [
        "# Print out the expected and measured changes in offset\ntemplate = \"Offset Difference: \\n  expected: \\t{:1.4f} \\n  actual: \\t{:1.4f}\"\nprint(template.format(off_diff, off_diff_2))"
      ]
    },
    {
      "cell_type": "code",
      "execution_count": null,
      "metadata": {
        "collapsed": false
      },
      "outputs": [],
      "source": [
        "# Visualize the transformed power spectra\nplot_spectra(freqs, [powers_1, powers_2],\n             log_freqs=True, log_powers=True)"
      ]
    },
    {
      "cell_type": "markdown",
      "metadata": {},
      "source": [
        "### Rotate Different Amounts at Different Frequencies\n\nFinally, let's consider the case in which we rotate a spectrum by different delta exponents,\nand do so at different rotation frequencies.\n\nAs before, the changes in offset cancel out, and the total change in exponent is\nthe difference of the two delta values.\n\nHowever, in this case, the frequency of rotation between 'B' and 'C' is neither of the\noriginal rotation frequencies. To calculate the rotation frequency between 'B' and 'C',\nwe can use the :func:`~.compute_rotation_frequency` function, which calculates the new\nrelationship between 'B' and 'C', using the formula for how spectra are rotated.\n\n\n"
      ]
    },
    {
      "cell_type": "code",
      "execution_count": null,
      "metadata": {
        "collapsed": false
      },
      "outputs": [],
      "source": [
        "# Settings for rotating power spectra\ndelta_exp_1 = 0.5\ndelta_exp_2 = 0.75\nf_rotation_1 = 2\nf_rotation_2 = 5\n\n# Rotate a spectrum, different amounts, at different rotation frequencies\npowers_1 = rotate_spectrum(freqs, powers, delta_exp_1, f_rotation_1)\npowers_2 = rotate_spectrum(freqs, powers, delta_exp_2, f_rotation_2)"
      ]
    },
    {
      "cell_type": "code",
      "execution_count": null,
      "metadata": {
        "collapsed": false
      },
      "outputs": [],
      "source": [
        "# Calculate the rotation frequency between the two spectra\nf_rotation = compute_rotation_frequency(delta_exp_1, f_rotation_1,\n                                        delta_exp_2, f_rotation_2)"
      ]
    },
    {
      "cell_type": "code",
      "execution_count": null,
      "metadata": {
        "collapsed": false
      },
      "outputs": [],
      "source": [
        "# Print out the measured rotation frequency\ntemplate = \"Rotation frequency: \\t{:1.4f}\"\nprint(template.format(f_rotation))"
      ]
    },
    {
      "cell_type": "code",
      "execution_count": null,
      "metadata": {
        "collapsed": false
      },
      "outputs": [],
      "source": [
        "# Visualize the transformed power spectra, marking the rotation frequency\nplot_spectra(freqs, [powers_1, powers_2],\n             log_freqs=True, log_powers=True)\nplt.axvline(np.log10(f_rotation))"
      ]
    }
  ],
  "metadata": {
    "kernelspec": {
      "display_name": "Python 3",
      "language": "python",
      "name": "python3"
    },
    "language_info": {
      "codemirror_mode": {
        "name": "ipython",
        "version": 3
      },
      "file_extension": ".py",
      "mimetype": "text/x-python",
      "name": "python",
      "nbconvert_exporter": "python",
      "pygments_lexer": "ipython3",
      "version": "3.8.3"
    }
  },
  "nbformat": 4,
  "nbformat_minor": 0
}