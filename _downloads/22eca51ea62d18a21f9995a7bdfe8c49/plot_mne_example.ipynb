{
  "cells": [
    {
      "cell_type": "markdown",
      "metadata": {},
      "source": [
        "\n# Topographical Analyses with MNE\n\nParameterizing neural power spectra with MNE, doing a topographical analysis.\n\nThis tutorial requires that you have [MNE](https://mne-tools.github.io/)\ninstalled. This tutorial needs mne >= 1.2.\n\nIf you don't already have MNE, you can follow instructions to get it\n[here](https://mne-tools.github.io/stable/getting_started.html).\n\nFor this example, we will explore how to parameterize power spectra using data loaded\nand managed with MNE, and how to plot topographies of resulting model parameters.\n"
      ]
    },
    {
      "cell_type": "code",
      "execution_count": null,
      "metadata": {
        "collapsed": false
      },
      "outputs": [],
      "source": [
        "# General imports\nimport numpy as np\nimport matplotlib.pyplot as plt\nfrom matplotlib import cm, colors, colorbar\n\n# Import MNE, as well as the MNE sample dataset\nimport mne\nfrom mne.datasets import sample\n\n# FOOOF imports\nfrom fooof import FOOOFGroup\nfrom fooof.bands import Bands\nfrom fooof.analysis import get_band_peak_fg\nfrom fooof.plts.spectra import plot_spectra"
      ]
    },
    {
      "cell_type": "markdown",
      "metadata": {},
      "source": [
        "## Load & Check MNE Data\n\nWe will use the\n[MNE sample dataset](https://mne.tools/stable/overview/datasets_index.html?#sample)\nwhich is a combined MEG/EEG recording with an audiovisual task.\n\nFirst we will load the dataset from MNE, have a quick look at the data,\nand extract the EEG data that we will use for this example.\n\nNote that if you are running this locally, the following cell will download\nthe example dataset, if you do not already have it.\n\n\n"
      ]
    },
    {
      "cell_type": "code",
      "execution_count": null,
      "metadata": {
        "collapsed": false
      },
      "outputs": [],
      "source": [
        "# Get the data path for the MNE example data\nraw_fname = sample.data_path() / 'MEG' / 'sample' / 'sample_audvis_filt-0-40_raw.fif'\n\n# Load the example MNE data\nraw = mne.io.read_raw_fif(raw_fname, preload=True, verbose=False)"
      ]
    },
    {
      "cell_type": "code",
      "execution_count": null,
      "metadata": {
        "collapsed": false
      },
      "outputs": [],
      "source": [
        "# Select EEG channels from the dataset\nraw = raw.pick(['eeg'], exclude='bads')"
      ]
    },
    {
      "cell_type": "code",
      "execution_count": null,
      "metadata": {
        "collapsed": false
      },
      "outputs": [],
      "source": [
        "# Set the reference to be average reference\nraw = raw.set_eeg_reference()"
      ]
    },
    {
      "cell_type": "markdown",
      "metadata": {},
      "source": [
        "## Dealing with NaN Values\n\nOne thing to keep in mind when parameterizing power spectra, and extracting bands of\ninterest, is that there is no guarantee that the model will detect peaks in any given range.\n\nWe consider this a pro, since power spectrum model is able to adjudicate whether there is\nevidence of oscillatory power within a given band, but it does also mean that sometimes\nresults for a given band can be NaN, which doesn't always work very well with further\nanalyses that we may want to do.\n\nTo be able to deal with nan-values, we will define a helper function to\ncheck for NaN values and apply a specified policy for how to deal with them.\n\n\n"
      ]
    },
    {
      "cell_type": "code",
      "execution_count": null,
      "metadata": {
        "collapsed": false
      },
      "outputs": [],
      "source": [
        "def check_nans(data, nan_policy='zero'):\n    \"\"\"Check an array for nan values, and replace, based on policy.\"\"\"\n\n    # Find where there are nan values in the data\n    nan_inds = np.where(np.isnan(data))\n\n    # Apply desired nan policy to data\n    if nan_policy == 'zero':\n        data[nan_inds] = 0\n    elif nan_policy == 'mean':\n        data[nan_inds] = np.nanmean(data)\n    else:\n        raise ValueError('Nan policy not understood.')\n\n    return data"
      ]
    },
    {
      "cell_type": "markdown",
      "metadata": {},
      "source": [
        "## Calculating Power Spectra\n\nTo fit power spectrum models, we need to convert the time-series data we have loaded in\nfrequency representations - meaning we have to calculate power spectra.\n\nTo do so, we will leverage the time frequency tools available with MNE,\nin the `time_frequency` module. In particular, we can use the ``compute_psd``\nmethod, that takes in MNE data objects and calculates and returns power spectra.\n\n\n"
      ]
    },
    {
      "cell_type": "code",
      "execution_count": null,
      "metadata": {
        "collapsed": false
      },
      "outputs": [],
      "source": [
        "# Calculate power spectra across the continuous data\npsd = raw.compute_psd(method=\"welch\", fmin=1, fmax=40, tmin=0, tmax=250,\n                      n_overlap=150, n_fft=300)\nspectra, freqs = psd.get_data(return_freqs=True)"
      ]
    },
    {
      "cell_type": "markdown",
      "metadata": {},
      "source": [
        "## Fitting Power Spectrum Models\n\nNow that we have power spectra, we can fit some power spectrum models.\n\nSince we have multiple power spectra, we will use the :class:`~fooof.FOOOFGroup` object.\n\n\n"
      ]
    },
    {
      "cell_type": "code",
      "execution_count": null,
      "metadata": {
        "collapsed": false
      },
      "outputs": [],
      "source": [
        "# Initialize a FOOOFGroup object, with desired settings\nfg = FOOOFGroup(peak_width_limits=[1, 6], min_peak_height=0.15,\n                peak_threshold=2., max_n_peaks=6, verbose=False)\n\n# Define the frequency range to fit\nfreq_range = [1, 30]"
      ]
    },
    {
      "cell_type": "code",
      "execution_count": null,
      "metadata": {
        "collapsed": false
      },
      "outputs": [],
      "source": [
        "# Fit the power spectrum model across all channels\nfg.fit(freqs, spectra, freq_range)"
      ]
    },
    {
      "cell_type": "code",
      "execution_count": null,
      "metadata": {
        "collapsed": false
      },
      "outputs": [],
      "source": [
        "# Check the overall results of the group fits\nfg.plot()"
      ]
    },
    {
      "cell_type": "markdown",
      "metadata": {},
      "source": [
        "## Plotting Topographies\n\nNow that we have our power spectrum models calculated across all channels,\nlet's start by plotting topographies of some of the resulting model parameters.\n\nTo do so, we can leverage the fact that both MNE and FOOOF objects preserve data order.\nSo, when we calculated power spectra, our output spectra kept the channel order\nthat is described in the MNE data object, and so did our :class:`~fooof.FOOOFGroup`\nobject.\n\nThat means that to plot our topography, we can use the MNE ``plot_topomap``\nfunction, passing in extracted data for power spectrum parameters per channel, and\nusing the MNE object to define the corresponding channel locations.\n\n\n"
      ]
    },
    {
      "cell_type": "markdown",
      "metadata": {},
      "source": [
        "### Plotting Periodic Topographies\n\nLets start start by plotting some periodic model parameters.\n\nTo do so, we will use to :obj:`~.Bands` object to manage some band\ndefinitions, and some analysis utilities to extracts peaks from bands of interest.\n\n\n"
      ]
    },
    {
      "cell_type": "code",
      "execution_count": null,
      "metadata": {
        "collapsed": false
      },
      "outputs": [],
      "source": [
        "# Define frequency bands of interest\nbands = Bands({'theta': [3, 7],\n               'alpha': [7, 14],\n               'beta': [15, 30]})"
      ]
    },
    {
      "cell_type": "code",
      "execution_count": null,
      "metadata": {
        "collapsed": false
      },
      "outputs": [],
      "source": [
        "# Extract alpha peaks\nalphas = get_band_peak_fg(fg, bands.alpha)\n\n# Extract the power values from the detected peaks\nalpha_pw = alphas[:, 1]"
      ]
    },
    {
      "cell_type": "code",
      "execution_count": null,
      "metadata": {
        "collapsed": false
      },
      "outputs": [],
      "source": [
        "# Plot the topography of alpha power\nmne.viz.plot_topomap(alpha_pw, raw.info, cmap=cm.viridis, contours=0, size=4)"
      ]
    },
    {
      "cell_type": "markdown",
      "metadata": {},
      "source": [
        "And there we have it, our first topography of parameterized spectra, showing alpha power!\n\nThe topography makes sense, as we can see a centro-posterior distribution.\n\nNow we can extend this to plot the power of each of our other defined frequency bands.\n\n\n"
      ]
    },
    {
      "cell_type": "code",
      "execution_count": null,
      "metadata": {
        "collapsed": false
      },
      "outputs": [],
      "source": [
        "# Plot the topographies across different frequency bands\nfig, axes = plt.subplots(1, 3, figsize=(15, 5))\nfor ind, (label, band_def) in enumerate(bands):\n\n    # Get the power values across channels for the current band\n    band_power = check_nans(get_band_peak_fg(fg, band_def)[:, 1])\n\n    # Create a topomap for the current oscillation band\n    mne.viz.plot_topomap(band_power, raw.info, cmap=cm.viridis, contours=0, axes=axes[ind])\n\n    # Set the plot title\n    axes[ind].set_title(label + ' power', {'fontsize' : 20})"
      ]
    },
    {
      "cell_type": "markdown",
      "metadata": {},
      "source": [
        "You might notice that the topographies of some of the bands look a little 'patchy'.\nThis is because we are setting any channels for which we did not find a peak as zero\nwith our `check_nan` approach. Note this is also a single subject analysis.\n\n\n"
      ]
    },
    {
      "cell_type": "markdown",
      "metadata": {},
      "source": [
        "Since we have the power spectrum models for each of our channels, we can also explore\nwhat these peaks look like in the underlying power spectra.\n\nNext, lets check the power spectra for the largest detected peaks within each band.\n\n\n"
      ]
    },
    {
      "cell_type": "code",
      "execution_count": null,
      "metadata": {
        "collapsed": false
      },
      "outputs": [],
      "source": [
        "fig, axes = plt.subplots(1, 3, figsize=(15, 6))\nfor ind, (label, band_def) in enumerate(bands):\n\n    # Get the power values across channels for the current band\n    band_power = check_nans(get_band_peak_fg(fg, band_def)[:, 1])\n\n    # Extracted and plot the power spectrum model with the most band power\n    fg.get_fooof(np.argmax(band_power)).plot(ax=axes[ind], add_legend=False)\n\n    # Set some plot aesthetics & plot title\n    axes[ind].yaxis.set_ticklabels([])\n    axes[ind].set_title('biggest ' + label + ' peak', {'fontsize' : 16})"
      ]
    },
    {
      "cell_type": "markdown",
      "metadata": {},
      "source": [
        "### Plotting Aperiodic Topographies\n\nNext up, let's plot the topography of the aperiodic exponent.\n\nTo do so, we can simply extract the aperiodic parameters from our power spectrum models,\nand plot them.\n\n\n"
      ]
    },
    {
      "cell_type": "code",
      "execution_count": null,
      "metadata": {
        "collapsed": false
      },
      "outputs": [],
      "source": [
        "# Extract aperiodic exponent values\nexps = fg.get_params('aperiodic_params', 'exponent')"
      ]
    },
    {
      "cell_type": "code",
      "execution_count": null,
      "metadata": {
        "collapsed": false
      },
      "outputs": [],
      "source": [
        "# Plot the topography of aperiodic exponents\nmne.viz.plot_topomap(exps, raw.info, cmap=cm.viridis, contours=0, size=4)"
      ]
    },
    {
      "cell_type": "markdown",
      "metadata": {},
      "source": [
        "In the topography above, we can see that there is a fair amount of variation\nacross the scalp in terms of aperiodic exponent value, and there seems to be some\nspatial structure to it.\n\nTo visualize how much the exponent values vary, we can again plot some example power\nspectra, in this case extracting those with the highest and lower exponent values.\n\n\n"
      ]
    },
    {
      "cell_type": "code",
      "execution_count": null,
      "metadata": {
        "collapsed": false
      },
      "outputs": [],
      "source": [
        "# Compare the power spectra between low and high exponent channels\nfig, ax = plt.subplots(figsize=(8, 6))\n\nspectra = [fg.get_fooof(np.argmin(exps)).power_spectrum,\n           fg.get_fooof(np.argmax(exps)).power_spectrum]\n\nplot_spectra(fg.freqs, spectra, ax=ax, labels=['Low Exponent', 'High Exponent'])"
      ]
    },
    {
      "cell_type": "markdown",
      "metadata": {},
      "source": [
        "## Conclusion\n\nIn this example, we have seen how to apply power spectrum models to data that is\nmanaged and processed with MNE.\n\n\n"
      ]
    }
  ],
  "metadata": {
    "kernelspec": {
      "display_name": "Python 3",
      "language": "python",
      "name": "python3"
    },
    "language_info": {
      "codemirror_mode": {
        "name": "ipython",
        "version": 3
      },
      "file_extension": ".py",
      "mimetype": "text/x-python",
      "name": "python",
      "nbconvert_exporter": "python",
      "pygments_lexer": "ipython3",
      "version": "3.8.3"
    }
  },
  "nbformat": 4,
  "nbformat_minor": 0
}