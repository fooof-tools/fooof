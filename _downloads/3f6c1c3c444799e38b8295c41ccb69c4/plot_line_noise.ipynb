{
  "cells": [
    {
      "cell_type": "markdown",
      "metadata": {},
      "source": [
        "\n# Dealing with Line Noise\n\nThis example covers strategies for dealing with line noise.\n"
      ]
    },
    {
      "cell_type": "code",
      "execution_count": null,
      "metadata": {
        "collapsed": false
      },
      "outputs": [],
      "source": [
        "# Import the spectral parameterization object and utilities\nfrom fooof import FOOOF\nfrom fooof.plts import plot_spectra\nfrom fooof.utils import trim_spectrum, interpolate_spectrum\n\n# Import simulation functions to create some example data\nfrom fooof.sim.gen import gen_power_spectrum\n\n# Import NeuroDSP functions for simulating & processing time series\nfrom neurodsp.sim import sim_combined\nfrom neurodsp.filt import filter_signal\nfrom neurodsp.spectral import compute_spectrum"
      ]
    },
    {
      "cell_type": "markdown",
      "metadata": {},
      "source": [
        "## Line Noise Peaks\n\nNeural recordings typically have power line artifacts, at either 50 or 60 Hz, depending on\nwhere the data were collected, which can impact spectral parameterization.\n\nIn this example, we explore some options for dealing with line noise artifacts.\n\n### Interpolating Line Noise Peaks\n\nOne approach is to interpolate away line noise peaks, in the frequency domain. This\napproach simply gets rid of the peaks, interpolating the data to maintain the 1/f\ncharacter of the data, allowing for subsequent fitting.\n\nThe :func:`~fooof.utils.interpolate_spectrum` function allows for doing simple\ninterpolation. Given a narrow frequency region, this function interpolates the spectrum,\nsuch that the 'peak' of the line noise is removed.\n\n\n"
      ]
    },
    {
      "cell_type": "code",
      "execution_count": null,
      "metadata": {
        "collapsed": false
      },
      "outputs": [],
      "source": [
        "# Generate an example power spectrum, with line noise\nfreqs1, powers1 = gen_power_spectrum([3, 75], [1, 1],\n                                     [[10, 0.75, 2], [60, 1, 0.5]])\n\n# Visualize the generated power spectrum\nplot_spectra(freqs1, powers1, log_powers=True)"
      ]
    },
    {
      "cell_type": "markdown",
      "metadata": {},
      "source": [
        "In the plot above, we have an example spectrum, with some power line noise.\n\nTo prepare this data for fitting, we can interpolate away the line noise region.\n\n\n"
      ]
    },
    {
      "cell_type": "code",
      "execution_count": null,
      "metadata": {
        "collapsed": false
      },
      "outputs": [],
      "source": [
        "# Interpolate away the line noise region\ninterp_range = [58, 62]\nfreqs_int1, powers_int1 = interpolate_spectrum(freqs1, powers1, interp_range)"
      ]
    },
    {
      "cell_type": "code",
      "execution_count": null,
      "metadata": {
        "collapsed": false
      },
      "outputs": [],
      "source": [
        "# Plot the spectra for the power spectra before and after interpolation\nplot_spectra(freqs1, [powers1, powers_int1], log_powers=True,\n             labels=['Original Spectrum', 'Interpolated Spectrum'])"
      ]
    },
    {
      "cell_type": "markdown",
      "metadata": {},
      "source": [
        "As we can see in the above, the interpolation removed the peak from the data.\n\nWe can now go ahead and parameterize the spectrum.\n\n\n"
      ]
    },
    {
      "cell_type": "code",
      "execution_count": null,
      "metadata": {
        "collapsed": false
      },
      "outputs": [],
      "source": [
        "# Initialize a power spectrum model\nfm1 = FOOOF(verbose=False)\nfm1.report(freqs_int1, powers_int1)"
      ]
    },
    {
      "cell_type": "markdown",
      "metadata": {},
      "source": [
        "### Multiple Interpolation Regions\n\nLine noise artifacts often also display harmonics, such that when analyzing broader\nfrequency ranges, there may be multiple peaks that need to be interpolated.\n\nThis can be done by passing in multiple interpolation regions to\n:func:`~fooof.utils.interpolate_spectrum`, which we will do in the next example.\n\n\n"
      ]
    },
    {
      "cell_type": "code",
      "execution_count": null,
      "metadata": {
        "collapsed": false
      },
      "outputs": [],
      "source": [
        "# Generate an example power spectrum, with line noise & harmonics\nfreqs2, powers2 = gen_power_spectrum([1, 150], [1, 500, 1.5],\n                                     [[10, 0.5, 2], [60, 0.75, 0.5], [120, 0.5, 0.5]])\n\n# Interpolate away the line noise region & harmonics\ninterp_ranges = [[58, 62], [118, 122]]\nfreqs_int2, powers_int2 = interpolate_spectrum(freqs2, powers2, interp_ranges)"
      ]
    },
    {
      "cell_type": "code",
      "execution_count": null,
      "metadata": {
        "collapsed": false
      },
      "outputs": [],
      "source": [
        "# Plot the power spectrum before and after interpolation\nplot_spectra(freqs2, [powers2, powers_int2], log_powers=True,\n             labels=['Original Spectrum', 'Interpolated Spectrum'])"
      ]
    },
    {
      "cell_type": "code",
      "execution_count": null,
      "metadata": {
        "collapsed": false
      },
      "outputs": [],
      "source": [
        "# Parameterize the interpolated power spectrum\nfm2 = FOOOF(aperiodic_mode='knee', verbose=False)\nfm2.report(freqs2, powers_int2)"
      ]
    },
    {
      "cell_type": "markdown",
      "metadata": {},
      "source": [
        "### Fitting Line Noise as Peaks\n\nIn some cases, you may also be able to simply allow the parameterization to peaks to the\nline noise and harmonics. By simply fitting the line noise as peaks, the model can deal\nwith the peaks in order to accurately fit the aperiodic component.\n\nThese peaks are of course not to be analyzed, but once the model has been fit, you can\nsimply ignore them. There should generally be no issue with fitting and having them in\nthe model, and allowing the model to account for these peaks typically helps the model\nbetter fit the rest of the data.\n\nBelow we can see that the model does indeed work when fitting data with line noise peaks.\n\n\n"
      ]
    },
    {
      "cell_type": "code",
      "execution_count": null,
      "metadata": {
        "collapsed": false
      },
      "outputs": [],
      "source": [
        "# Fit power spectrum models to original spectra\nfm1.report(freqs1, powers1)\nfm2.report(freqs2, powers2)"
      ]
    },
    {
      "cell_type": "markdown",
      "metadata": {},
      "source": [
        "### The Problem with Bandstop Filtering\n\nA common approach for getting rid of line noise activity is to use bandstop filtering to\nremove activity at the line noise frequencies. Such a filter effectively set the power\nof these frequencies to be approximately zero.\n\nUnfortunately, this doesn't work very well with spectral parameterization, since the\nparameterization algorithm tries to fit each power value as either part of the aperiodic\ncomponent, or as an overlying peak. Frequencies that have filtered out are neither, and\nthe model has trouble, as it and has no concept of power values below the aperiodic component.\n\nIn practice, this means that the \"missing\" power will impact the fit, and pull down the\naperiodic component. One way to think of this is that the power spectrum model can deal with,\nand even expects, 'positive outliers' above the aperiodic (these are considered 'peaks'), but\nnot 'negative outliers', or values below the aperiodic, as there is no expectation of this\nhappening in the model.\n\nIn the following example, we can see how bandstop filtering negatively impacts fitting.\nBecause of this, for the purposes of spectral parameterization, bandstop filters are not\nrecommended as a way to remove line noise.\n\nNote that if one has already applied a bandstop filter, then you can still\napply the interpolation from above.\n\n\n"
      ]
    },
    {
      "cell_type": "code",
      "execution_count": null,
      "metadata": {
        "collapsed": false
      },
      "outputs": [],
      "source": [
        "# General settings for the simulation\nn_seconds = 30\nfs = 1000\n\n# Define the settings for the simulated signal\ncomponents = {'sim_powerlaw' : {'exponent' : -1.5},\n              'sim_oscillation' : [{'freq' : 10}, {'freq' : 60}]}\ncomp_vars = [0.5, 1, 1]\n\n# Simulate a time series\nsig = sim_combined(n_seconds, fs, components, comp_vars)"
      ]
    },
    {
      "cell_type": "code",
      "execution_count": null,
      "metadata": {
        "collapsed": false
      },
      "outputs": [],
      "source": [
        "# Bandstop filter the signal to remove line noise frequencies\nsig_filt = filter_signal(sig, fs, 'bandstop', (57, 63),\n                         n_seconds=2, remove_edges=False)"
      ]
    },
    {
      "cell_type": "code",
      "execution_count": null,
      "metadata": {
        "collapsed": false
      },
      "outputs": [],
      "source": [
        "# Compute a power spectrum of the simulated signal\nfreqs, powers_pre = trim_spectrum(*compute_spectrum(sig, fs), [3, 75])\nfreqs, powers_post = trim_spectrum(*compute_spectrum(sig_filt, fs), [3, 75])"
      ]
    },
    {
      "cell_type": "code",
      "execution_count": null,
      "metadata": {
        "collapsed": false
      },
      "outputs": [],
      "source": [
        "# Plot the spectrum of the data, pre and post bandstop filtering\nplot_spectra(freqs, [powers_pre, powers_post], log_powers=True,\n             labels=['Pre-Filter', 'Post-Filter'])"
      ]
    },
    {
      "cell_type": "markdown",
      "metadata": {},
      "source": [
        "In the above, we can see that the the bandstop filter removes power in the filtered range,\nleaving a \"dip\" in the power spectrum. This dip causes issues with subsequent fitting.\n\n\n"
      ]
    },
    {
      "cell_type": "code",
      "execution_count": null,
      "metadata": {
        "collapsed": false
      },
      "outputs": [],
      "source": [
        "# Initialize and fit a power spectrum model\nfm = FOOOF()\nfm.report(freqs, powers_post)"
      ]
    },
    {
      "cell_type": "markdown",
      "metadata": {},
      "source": [
        "In order to try and capture the data points in the \"dip\", the power spectrum model\ngets 'pulled' down, leading to an inaccurate fit of the aperiodic component. This is\nwhy fitting frequency regions that included frequency regions that have been filtered\nout is not recommended.\n\n\n"
      ]
    }
  ],
  "metadata": {
    "kernelspec": {
      "display_name": "Python 3",
      "language": "python",
      "name": "python3"
    },
    "language_info": {
      "codemirror_mode": {
        "name": "ipython",
        "version": 3
      },
      "file_extension": ".py",
      "mimetype": "text/x-python",
      "name": "python",
      "nbconvert_exporter": "python",
      "pygments_lexer": "ipython3",
      "version": "3.8.3"
    }
  },
  "nbformat": 4,
  "nbformat_minor": 0
}