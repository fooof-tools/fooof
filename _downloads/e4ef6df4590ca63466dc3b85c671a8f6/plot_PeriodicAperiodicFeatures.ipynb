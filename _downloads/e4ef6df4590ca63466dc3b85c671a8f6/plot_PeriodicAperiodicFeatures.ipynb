{
  "cells": [
    {
      "cell_type": "markdown",
      "metadata": {},
      "source": [
        "\n# Conflating Periodic & Aperiodic Changes\n\nDemonstrating how changes in periodic & aperiodic parameters can be conflated.\n\nThis example is a code implementation and quantitatively exact version of Figure 1 from the\n[Parameterizing Neural Power Spectra](https://www.biorxiv.org/content/10.1101/2020.01.11.900977v1)\npaper.\n"
      ]
    },
    {
      "cell_type": "markdown",
      "metadata": {},
      "source": [
        "## Measuring Neural Activity\n\nIn electrophysiological data analysis, we often wish to measure and interpret changes\nin particular aspects of our data, for example, measuring changes in the power of\na frequency band of interest.\n\nIn this example, we will examine how using predefined frequency ranges to measure\nand then interpret differences from power spectra can lead to misinterpretations\nin the face of complex data in which multiple different aspects of the data can\nchange or vary within and between recordings.\n\nWe conceptualize neural data as complex data that contains multiple 'components', which\nwe categorize as periodic and aperiodic, and note that each of these components can also\nhave multiple parameters, each of which could vary.\n\nTo briefly recap, these components and parameters include:\n\n- aperiodic activity, the 1/f-like aspect of the data, described, at minimum with:\n\n  - exponent\n  - offset\n- periodic activity, peaks in the power spectrum, each with a:\n\n  - center frequency\n  - power\n  - bandwidth\n\n\n"
      ]
    },
    {
      "cell_type": "code",
      "execution_count": null,
      "metadata": {
        "collapsed": false
      },
      "outputs": [],
      "source": [
        "# Import numpy & matplotlib\nimport numpy as np\nimport matplotlib.pyplot as plt\n\n# Import simulation, utility, and plotting tools\nfrom fooof.bands import Bands\nfrom fooof.utils import trim_spectrum\nfrom fooof.sim.gen import gen_power_spectrum\nfrom fooof.plts.spectra import plot_spectra_shading"
      ]
    },
    {
      "cell_type": "code",
      "execution_count": null,
      "metadata": {
        "collapsed": false
      },
      "outputs": [],
      "source": [
        "# Settings for plotting\nlog_freqs = True\nlog_powers = True\nshade_color = '#0365C0'"
      ]
    },
    {
      "cell_type": "markdown",
      "metadata": {},
      "source": [
        "### Simulating Data\n\nFor this example, we will use simulated data, and consider the example case of\ninvestigating differences in alpha activity.\n\nWe will start by simulating a baseline power spectrum, with an alpha peak, and\nconcurrent aperiodic activity. We will also simulate several altered versions of\nthis spectrum, each which a change in a specific parameter of the power spectrum.\n\n\n"
      ]
    },
    {
      "cell_type": "code",
      "execution_count": null,
      "metadata": {
        "collapsed": false
      },
      "outputs": [],
      "source": [
        "# Define our bands of interest\nbands = Bands({'alpha' : (8, 12)})\n\n# Simulation Settings\nnlv = 0\nf_res = 0.1\nf_range = [3, 35]\n\n# Define baseline parameter values\nap_base = [0, 1.5]\npe_base = [[10, 0.5, 1], [22, 0.2, 2]]\n\n# Define parameters sets with changes in each parameter\npw_diff = [[10, 0.311, 1], [22, 0.2, 2]]\ncf_diff = [[11.75, 0.5, 1], [22, 0.2, 2]]\noff_diff = [-0.126, 1.5]\nexp_diff = [-0.87, 0.75]"
      ]
    },
    {
      "cell_type": "code",
      "execution_count": null,
      "metadata": {
        "collapsed": false
      },
      "outputs": [],
      "source": [
        "# Create baseline power spectrum, to compare to\nfreqs, powers_base = gen_power_spectrum(f_range, ap_base, pe_base, nlv, f_res)"
      ]
    },
    {
      "cell_type": "code",
      "execution_count": null,
      "metadata": {
        "collapsed": false
      },
      "outputs": [],
      "source": [
        "# Create comparison power spectra, with differences in different parameters of the data\n_, powers_pw = gen_power_spectrum(f_range, ap_base, pw_diff, nlv, f_res)\n_, powers_cf = gen_power_spectrum(f_range, ap_base, cf_diff, nlv, f_res)\n_, powers_off = gen_power_spectrum(f_range, off_diff, pe_base, nlv, f_res)\n_, powers_exp = gen_power_spectrum(f_range, exp_diff, pe_base, nlv, f_res)"
      ]
    },
    {
      "cell_type": "code",
      "execution_count": null,
      "metadata": {
        "collapsed": false
      },
      "outputs": [],
      "source": [
        "# Collect the comparison power spectra together\nall_powers = {\n    'Alpha Power Change' : powers_pw,\n    'Alpha Frequency Change' : powers_cf,\n    'Offset Change' : powers_off,\n    'Exponent Change' : powers_exp\n}"
      ]
    },
    {
      "cell_type": "markdown",
      "metadata": {},
      "source": [
        "### Plotting Power Spectra\n\nNow that we have our power spectra simulated, let's plot them all together.\n\nIn the visualization below, we can see that we have created four sets of comparisons,\nwhere each has a change in one parameter of the data.\n\nSpecifically, these changes are:\n\n- a change in alpha **power**, part of the periodic component\n- a change in alpha **center frequency**, part of the periodic component\n- a change in the **offset** of the aperiodic component\n- a change in the **exponent** of the aperiodic component\n\n\n"
      ]
    },
    {
      "cell_type": "code",
      "execution_count": null,
      "metadata": {
        "collapsed": false
      },
      "outputs": [],
      "source": [
        "# Plot and compare all of our power spectra\nfig, axes = plt.subplots(2, 2, figsize=(16, 12))\nfor ax, (title, powers) in zip(axes.reshape(-1), all_powers.items()):\n\n    # Create spectrum plot, with alpha band of interest shaded in\n    plot_spectra_shading(freqs, [powers_base, powers],\n                         bands.alpha, shade_colors=shade_color,\n                         log_freqs=log_freqs, log_powers=log_powers, ax=ax)\n\n    # Add the title, and do some plot styling\n    ax.set_title(title, {'fontsize' : 20})\n    ax.xaxis.label.set_visible(False)\n    ax.yaxis.label.set_visible(False)"
      ]
    },
    {
      "cell_type": "markdown",
      "metadata": {},
      "source": [
        "### Comparing Power Spectra\n\nNow let's compare our different power spectra, in terms of band-specific power measures.\n\nTo do so, we will first define a helper function that calculates the average power in\na band.\n\nThen, for each pair, consisting of the baseline power spectrum and an adapted version\nin which one parameter has been changed, we can measure the change in band specific\nactivity relating to this change.\n\n\n"
      ]
    },
    {
      "cell_type": "code",
      "execution_count": null,
      "metadata": {
        "collapsed": false
      },
      "outputs": [],
      "source": [
        "def calc_avg_power(freqs, powers, freq_range):\n    \"\"\"Helper function to calculate average power in a band.\"\"\"\n\n    _, band_powers = trim_spectrum(freqs, powers, freq_range)\n    avg_power = np.mean(band_powers)\n\n    return avg_power"
      ]
    },
    {
      "cell_type": "code",
      "execution_count": null,
      "metadata": {
        "collapsed": false
      },
      "outputs": [],
      "source": [
        "# Calculate the amount of alpha power in the baseline power spectrum\nbase_alpha = calc_avg_power(freqs, powers_base, bands.alpha)"
      ]
    },
    {
      "cell_type": "code",
      "execution_count": null,
      "metadata": {
        "collapsed": false
      },
      "outputs": [],
      "source": [
        "# Calculate the different in alpha power for each of our comparison pairs\nfor title, powers in all_powers.items():\n    print('{:20s}\\t {:1.4f}'.format(\\\n        title, calc_avg_power(freqs, powers, bands.alpha) - base_alpha))"
      ]
    },
    {
      "cell_type": "markdown",
      "metadata": {},
      "source": [
        "We can see that all of these cases have the exact measured change in alpha power!\n\nHowever, given that we know exactly what was changed in the simulated data, we know\nthat a change in alpha power is only the correct interpretation in one of the cases\nthat we simulated.\n\nFor all the other comparisons, the change in the data is not a change in band specific\npower. Despite this, the common analysis approach measures it as such.\n\nThis shows how measurements that are supposed to reflect band specific power changes\ncan easily be conflated and misinterpreted, as they can be driven by other changes\nin the data.\n\n\n"
      ]
    },
    {
      "cell_type": "markdown",
      "metadata": {},
      "source": [
        "### Spectra Without any Oscillations\n\nSo far we have considered the case in which the goal is to analyze and measure\nalpha power activity, in a scenario in which there actually is alpha activity.\n\nHowever, we can also consider the possible scenario of analyzing alpha power (or, by\nanalogy, any other band), in cases in which there is no band-specific power.\n\nTo do so, we will simulate, plot and measure a new set of data, with the same set up\nas above, but without adding any alpha peaks to the spectra.\n\n\n"
      ]
    },
    {
      "cell_type": "code",
      "execution_count": null,
      "metadata": {
        "collapsed": false
      },
      "outputs": [],
      "source": [
        "# Redefine baseline with no alpha\npe_base_na = [[22, 0.2, 2]]\n\n# Redefine changes in for each parameter\noff_diff_na = [-0.321, 1.5]\nexp_diff_na = [-1.31, 0.5]"
      ]
    },
    {
      "cell_type": "code",
      "execution_count": null,
      "metadata": {
        "collapsed": false
      },
      "outputs": [],
      "source": [
        "# Create baseline power spectrum, to compare to\nfreqs, powers_noa_base = gen_power_spectrum(f_range, ap_base, pe_base_na, nlv, f_res)\n\n# Collect all powers together,\nall_powers_na = {'Offset Change' : \\\n                    gen_power_spectrum(f_range, off_diff_na, pe_base_na, nlv, f_res)[1],\n                 'Exponent Change' : \\\n                    gen_power_spectrum(f_range, exp_diff_na, pe_base_na, nlv, f_res)[1]}"
      ]
    },
    {
      "cell_type": "code",
      "execution_count": null,
      "metadata": {
        "collapsed": false
      },
      "outputs": [],
      "source": [
        "# Plot and compare spectra with no alpha\nfig, axes = plt.subplots(1, 2, figsize=(15, 6))\nfor ax, (title, powers) in zip(axes.reshape(-1), all_powers_na.items()):\n\n    # Create spectrum plot, with alpha band of interest shaded in\n    plot_spectra_shading(freqs, [powers_noa_base, powers],\n                         bands.alpha, shade_colors=shade_color,\n                         log_freqs=log_freqs, log_powers=log_powers, ax=ax)\n\n    # Add the title, and do some plot styling\n    ax.set_title(title, {'fontsize' : 20})\n    ax.xaxis.label.set_visible(False)\n    ax.yaxis.label.set_visible(False)"
      ]
    },
    {
      "cell_type": "code",
      "execution_count": null,
      "metadata": {
        "collapsed": false
      },
      "outputs": [],
      "source": [
        "# Calculate and compare the difference of 'alpha' power\nbase_noa_power = calc_avg_power(freqs, powers_noa_base, [8, 12])\nfor title, powers in all_powers_na.items():\n    print('{:20s}\\t {:1.4f}'.format(\\\n        title, calc_avg_power(freqs, powers, [8, 12]) - base_noa_power))"
      ]
    },
    {
      "cell_type": "markdown",
      "metadata": {},
      "source": [
        "In the plots and analyses above, we can see that when analyzing a predefined narrow-band\nfrequency range, we can get the same measured difference in 'alpha' power between\nspectra, even if there is no evidence of an oscillation at all.\n\n\n"
      ]
    },
    {
      "cell_type": "markdown",
      "metadata": {},
      "source": [
        "### Conclusion\n\nIn the simulations above, we have shown that changes in multiple different parameters can\nlead to the same measured difference in band-specific power.\n\nIn any given case in which narrow-band ranges are used, any of these changes, or\na combination of them, could be contributing to the measured changes.\n\nAs an alternative to analyzing narrow-band power, parameterizing power spectra offers\nan approach that can measure which parameters of the data are changing, and in what\nways.\n\n\n"
      ]
    }
  ],
  "metadata": {
    "kernelspec": {
      "display_name": "Python 3",
      "language": "python",
      "name": "python3"
    },
    "language_info": {
      "codemirror_mode": {
        "name": "ipython",
        "version": 3
      },
      "file_extension": ".py",
      "mimetype": "text/x-python",
      "name": "python",
      "nbconvert_exporter": "python",
      "pygments_lexer": "ipython3",
      "version": "3.8.3"
    }
  },
  "nbformat": 4,
  "nbformat_minor": 0
}