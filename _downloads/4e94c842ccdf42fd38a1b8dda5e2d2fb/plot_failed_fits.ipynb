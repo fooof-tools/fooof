{
  "cells": [
    {
      "cell_type": "markdown",
      "metadata": {},
      "source": [
        "\n# Failed Model Fits\n\nExample of model fit failures and how to debug them.\n"
      ]
    },
    {
      "cell_type": "code",
      "execution_count": null,
      "metadata": {
        "collapsed": false
      },
      "outputs": [],
      "source": [
        "# Import the FOOOFGroup object\nfrom fooof import FOOOFGroup\n\n# Import simulation code to create test power spectra\nfrom fooof.sim.gen import gen_group_power_spectra\n\n# Import FitError, which we will use to help debug model fit errors\nfrom fooof.core.errors import FitError"
      ]
    },
    {
      "cell_type": "markdown",
      "metadata": {},
      "source": [
        "## Model Fit Failures\n\nThe power spectrum model is not guaranteed to fit - sometimes the fit procedure can fail.\n\nModel fit failures are rare, and they typically only happen on spectra that are\nparticular noisy, and/or are some kind of outlier for which the fitting procedure\nfails to find a good model solution.\n\nIn general, model fit failures should lead to a clean exit, meaning that\na failed model fit does not lead to a code error. The failed fit will be encoded in\nthe results as a null model, and the code can continue onwards.\n\nIn this example, we will look through what it looks like when model fits fail.\n\n\n"
      ]
    },
    {
      "cell_type": "code",
      "execution_count": null,
      "metadata": {
        "collapsed": false
      },
      "outputs": [],
      "source": [
        "# Simulate some example power spectra to use for the example\nfreqs, powers = gen_group_power_spectra(25, [1, 50], [1, 1], [10, 0.25, 3],\n                                        nlvs=0.1, freq_res=0.25)"
      ]
    },
    {
      "cell_type": "code",
      "execution_count": null,
      "metadata": {
        "collapsed": false
      },
      "outputs": [],
      "source": [
        "# Initialize a FOOOFGroup object, with some desired settings\nfg = FOOOFGroup(min_peak_height=0.1, max_n_peaks=6)"
      ]
    },
    {
      "cell_type": "code",
      "execution_count": null,
      "metadata": {
        "collapsed": false
      },
      "outputs": [],
      "source": [
        "# Fit power spectra\nfg.fit(freqs, powers)"
      ]
    },
    {
      "cell_type": "markdown",
      "metadata": {},
      "source": [
        "If there are failed fits, these are stored as null models.\n\nLet's check if there were any null models, from model failures, in the models\nthat we have fit so far. To do so, the :class:`~fooof.FOOOFGroup` object has some\nattributes that provide information on any null model fits.\n\nThese attributes are:\n\n- ``n_null_`` : the number of model results that are null\n- ``null_inds_`` : the indices of any null model results\n\n\n"
      ]
    },
    {
      "cell_type": "code",
      "execution_count": null,
      "metadata": {
        "collapsed": false
      },
      "outputs": [],
      "source": [
        "# Check for failed model fits\nprint('Number of Null models  : \\t', fg.n_null_)\nprint('Indices of Null models : \\t', fg.null_inds_)"
      ]
    },
    {
      "cell_type": "markdown",
      "metadata": {},
      "source": [
        "### Inducing Model Fit Failures\n\nSo far, we have no model failures (as is typical).\n\nFor this example, to induce some model fits, we will use a trick to change the number of\niterations the model uses to fit parameters (`_maxfev`), making it much more likely to fail.\n\nNote that in normal usage, you would likely never want to change the value of `_maxfev`,\nand this here is a 'hack' of the code in order to induce reproducible failure modes\nin simulated data.\n\n\n"
      ]
    },
    {
      "cell_type": "code",
      "execution_count": null,
      "metadata": {
        "collapsed": false
      },
      "outputs": [],
      "source": [
        "# Hack the object to induce model failures\nfg._maxfev = 50"
      ]
    },
    {
      "cell_type": "code",
      "execution_count": null,
      "metadata": {
        "collapsed": false
      },
      "outputs": [],
      "source": [
        "# Try fitting again\nfg.fit(freqs, powers)"
      ]
    },
    {
      "cell_type": "markdown",
      "metadata": {},
      "source": [
        "As we can see, there are now some model fit failures! Note that, as above, it will\nbe printed out if there is as model fit failure when in verbose mode.\n\n\n"
      ]
    },
    {
      "cell_type": "code",
      "execution_count": null,
      "metadata": {
        "collapsed": false
      },
      "outputs": [],
      "source": [
        "# Check how many model fit failures we have failed model fits\nprint('Number of Null models  : \\t', fg.n_null_)\nprint('Indices of Null models : \\t', fg.null_inds_)"
      ]
    },
    {
      "cell_type": "markdown",
      "metadata": {},
      "source": [
        "## Debug Mode\n\nThere are multiple possible reasons why a model fit failure can occur, or at least\nmultiple possible steps in the algorithm at which the fit failure can occur.\n\nIf you have a small number of fit failures, you can likely just exclude them.\n\nHowever, if you have multiple fit failures, and/or you want to investigate why the\nmodel is failing, you can use the debug mode to get a bit more information about\nwhere the model is failing.\n\nThe debug mode will stop the FOOOF object catching and continuing any model\nfit errors, allowing you to see where the error is happening, and get more\ninformation about where it is failing.\n\nNote that here we will run the fitting in a try / except to catch the error and\nprint it out, without the error actually being raised (for website purposes).\nIf you just want to see the error, you can run the fit call without the try/except.\n\n\n"
      ]
    },
    {
      "cell_type": "code",
      "execution_count": null,
      "metadata": {
        "collapsed": false
      },
      "outputs": [],
      "source": [
        "# Set FOOOFGroup into debug mode\nfg.set_debug_mode(True)"
      ]
    },
    {
      "cell_type": "code",
      "execution_count": null,
      "metadata": {
        "collapsed": false
      },
      "outputs": [],
      "source": [
        "# Refit in debug mode, in which failed fits will raise an error\ntry:\n    fg.fit(freqs, powers)\nexcept FitError as fooof_error:\n    print(fooof_error)"
      ]
    },
    {
      "cell_type": "markdown",
      "metadata": {},
      "source": [
        "### Debugging Model Fit Errors\n\nThis debug mode should indicate in which step the model is failing, which might indicate\nwhat aspects of the data to look into, and/or which settings to try and tweak.\n\nAlso, all known model fit failures should be caught by the object, and not raise an\nerror (when not in debug mode). If you are finding examples in which the model is failing\nto fit, and raising an error (outside of debug mode), then this might be an unanticipated\nissue with the model fit.\n\nIf you are unsure about why or how the model is failing to fit, consider\nopening an [issue](https://github.com/fooof-tools/fooof/issues) on the project\nrepository, and we will try to look into what seems to be happening.\n\n\n"
      ]
    }
  ],
  "metadata": {
    "kernelspec": {
      "display_name": "Python 3",
      "language": "python",
      "name": "python3"
    },
    "language_info": {
      "codemirror_mode": {
        "name": "ipython",
        "version": 3
      },
      "file_extension": ".py",
      "mimetype": "text/x-python",
      "name": "python",
      "nbconvert_exporter": "python",
      "pygments_lexer": "ipython3",
      "version": "3.8.3"
    }
  },
  "nbformat": 4,
  "nbformat_minor": 0
}