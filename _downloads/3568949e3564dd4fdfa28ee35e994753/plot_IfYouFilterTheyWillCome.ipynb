{
  "cells": [
    {
      "cell_type": "markdown",
      "metadata": {},
      "source": [
        "\n# Finding 'Oscillations' With Filters\n\nExamining the results of filtering aperiodic signals.\n"
      ]
    },
    {
      "cell_type": "markdown",
      "metadata": {},
      "source": [
        "## Filtering Signals\n\nA common component of many analyses of neural time series is to apply filters,\ntypically to try to extract information from frequency bands of interest.\n\nHowever, one thing to keep in mind is that signals with aperiodic activity\nwill always contain power at all frequencies. One of the corollaries of thinking\nof neural signals as containing aperiodic activity, is that there is always power\nwithin any arbitrarily defined frequency range. This power does not necessarily\nentail any periodic activity, but it can look like periodic activity when applying\ntransforms such as narrow-band filters.\n\nIn this notebook we will simulate purely aperiodic signals, and apply filters to\nthem, to explore these ideas.\n\n\n"
      ]
    },
    {
      "cell_type": "code",
      "execution_count": null,
      "metadata": {
        "collapsed": false
      },
      "outputs": [],
      "source": [
        "# Import numpy and matplotlib\nimport numpy as np\nimport matplotlib.pyplot as plt\n\n# Import the Bands object, for managing frequency band definitions\nfrom fooof.bands import Bands\n\n# Imports from NeuroDSP to simulate & plot time series\nfrom neurodsp.sim import sim_powerlaw, set_random_seed\nfrom neurodsp.filt import filter_signal\nfrom neurodsp.plts import plot_time_series\nfrom neurodsp.utils import create_times"
      ]
    },
    {
      "cell_type": "code",
      "execution_count": null,
      "metadata": {
        "collapsed": false
      },
      "outputs": [],
      "source": [
        "# Define our bands of interest\nbands = Bands({'delta' : [2, 4],\n               'theta' : [4, 8],\n               'alpha' : [8, 13],\n               'beta' : [13, 30],\n               'low_gamma' : [30, 50],\n               'high_gamma' : [50, 150]})"
      ]
    },
    {
      "cell_type": "markdown",
      "metadata": {},
      "source": [
        "### Simulating Data\n\nWe will use simulated data for this example, to create some example aperiodic signals,\nthat we can then apply filters to. First, let's simulate some data.\n\n\n"
      ]
    },
    {
      "cell_type": "code",
      "execution_count": null,
      "metadata": {
        "collapsed": false
      },
      "outputs": [],
      "source": [
        "# Simulation settings\ns_rate = 1000\nn_seconds = 4\ntimes = create_times(n_seconds, s_rate)\n\n# Set random seed, for consistency generating simulated data\nset_random_seed(21)"
      ]
    },
    {
      "cell_type": "code",
      "execution_count": null,
      "metadata": {
        "collapsed": false
      },
      "outputs": [],
      "source": [
        "# Simulate a signal of aperiodic activity: pink noise\nsig = sim_powerlaw(n_seconds, s_rate, exponent=-1)"
      ]
    },
    {
      "cell_type": "code",
      "execution_count": null,
      "metadata": {
        "collapsed": false
      },
      "outputs": [],
      "source": [
        "# Plot our simulated time series\nplot_time_series(times, sig)"
      ]
    },
    {
      "cell_type": "markdown",
      "metadata": {},
      "source": [
        "### Filtering Aperiodic Signals\n\nNow that we have a simulated signal, let's filter it into each of our frequency bands.\n\nTo do so, we will loop across our band definitions, and plot the filtered version\nof the signal.\n\n\n"
      ]
    },
    {
      "cell_type": "code",
      "execution_count": null,
      "metadata": {
        "collapsed": false
      },
      "outputs": [],
      "source": [
        "# Apply band-by-band filtering of our signal into each defined frequency band\n_, axes = plt.subplots(len(bands), 1, figsize=(12, 15))\nfor ax, (label, f_range) in zip(axes, bands):\n\n    # Filter the signal to the current band definition\n    band_sig = filter_signal(sig, s_rate, 'bandpass', f_range)\n\n    # Plot the time series of the current band, and adjust plot aesthetics\n    plot_time_series(times, band_sig, title=label + ' ' + str(f_range), ax=ax,\n                     xlim=(0, n_seconds), ylim=(-1, 1), xlabel='')"
      ]
    },
    {
      "cell_type": "markdown",
      "metadata": {},
      "source": [
        "As we can see, filtering a signal with aperiodic activity into arbitrary\nfrequency ranges returns filtered signals that look like rhythmic activity.\n\nAlso, because our simulated signal has some random variation, the filtered components\nalso exhibit some fluctuations.\n\nOverall, we can see from filtering this signal that:\n\n- narrow band filters return rhythmic looking outputs\n- filtering a signal with aperiodic activity will always return non-zero outputs\n- there can be dynamics in the filtered results, due to variations of the\n  aperiodic properties of the input signal\n\nIn this case, recall that our simulated signal contains no periodic activity.\nAltogether, this can be taken as example that just because time series\ncan be represented as and decomposed into sinusoids, this does not indicate\nthat these signals, or resulting decompositions, reflect rhythmic activity.\n\n\n"
      ]
    },
    {
      "cell_type": "markdown",
      "metadata": {},
      "source": [
        "## Observing Changes in Filtered Signals\n\nNext, let's consider what it looks like if you filter a signal that contains\nchanges in the aperiodic activity.\n\nFor this example, we will simulate a signal, with an abrupt change in the aperiodic activity.\n\nWe will then filter this signal into narrow-band frequency ranges, to observe how\nchanges in aperiodic activity appear in filtered data.\n\n\n"
      ]
    },
    {
      "cell_type": "code",
      "execution_count": null,
      "metadata": {
        "collapsed": false
      },
      "outputs": [],
      "source": [
        "# Simulate a two signals with different aperiodic activity\nsig_comp1 = sim_powerlaw(n_seconds/2, s_rate, exponent=-1.5, f_range=(None, 150))\nsig_comp2 = sim_powerlaw(n_seconds/2, s_rate, exponent=-1, f_range=(None, 150))\n\n# Combine each component signal to create a signal with a shift in aperiodic activity\nsig_delta_ap = np.hstack([sig_comp1, sig_comp2])"
      ]
    },
    {
      "cell_type": "code",
      "execution_count": null,
      "metadata": {
        "collapsed": false
      },
      "outputs": [],
      "source": [
        "# Plot our time series, with a shift in aperiodic activity\nplot_time_series(times, sig_delta_ap)"
      ]
    },
    {
      "cell_type": "markdown",
      "metadata": {},
      "source": [
        "Let's first filter this signal in a low-frequency range that is typically\nexamined for oscillatory activity, using the beta band as an example.\n\n\n"
      ]
    },
    {
      "cell_type": "code",
      "execution_count": null,
      "metadata": {
        "collapsed": false
      },
      "outputs": [],
      "source": [
        "# Filter the signal to the current band definition\nband_sig = filter_signal(sig_delta_ap, s_rate, 'bandpass', bands.beta)\n\n# Plot the filtered time series\nplot_time_series(times, band_sig, xlim=(0, n_seconds), ylim=(-1, 1))"
      ]
    },
    {
      "cell_type": "markdown",
      "metadata": {},
      "source": [
        "In the above, we can see that this shift in the aperiodic component of the data\nexhibits as what looks to be change in beta band activity.\n\nWe can also examine what this kind of shift looks like in high frequency regions that\nare sometimes analyzed, like our 'high-gamma' frequency band.\n\n\n"
      ]
    },
    {
      "cell_type": "code",
      "execution_count": null,
      "metadata": {
        "collapsed": false
      },
      "outputs": [],
      "source": [
        "# Filter the signal to the current band definition\nband_sig = filter_signal(sig_delta_ap, s_rate, 'bandpass', bands.high_gamma)\n\n# Plot the filtered time series\nplot_time_series(times, band_sig, xlim=(0, n_seconds), ylim=(-1, 1))"
      ]
    },
    {
      "cell_type": "markdown",
      "metadata": {},
      "source": [
        "Collectively, we can see that changes in aperiodic properties, that affect\nall frequencies, can look like band-specific changes when time series\nare analyzed using narrow-band filters.\n\nIf individual bands are filtered and analyzed in isolation, without comparison to\neither aperiodic measures, or other frequency bands, this kind of analysis could\nmis-interpret broadband aperiodic changes as oscillatory changes.\n\nNote that in real data, to what extent such aperiodic shifts occur is something\nof an open question. Within subject changes in aperiodic activity has been observed,\nand so this remains a possibility that should be considered.\n\n\n"
      ]
    },
    {
      "cell_type": "markdown",
      "metadata": {},
      "source": [
        "## Conclusions\n\nHere we have seen that filtering signals to narrow band signals can return results\nthat reflect periodic activity and dynamics. We therefore suggest that\nnarrow band filtered signals should not be presumed to necessarily reflect periodic\nactivity. In order to ascertain whether narrow band frequency regions reflect\nperiodic and/or aperiodic activity and which aspects are changing in the data,\nadditional analyses, such as parameterizing neural power spectra, are recommended.\n\n\n"
      ]
    }
  ],
  "metadata": {
    "kernelspec": {
      "display_name": "Python 3",
      "language": "python",
      "name": "python3"
    },
    "language_info": {
      "codemirror_mode": {
        "name": "ipython",
        "version": 3
      },
      "file_extension": ".py",
      "mimetype": "text/x-python",
      "name": "python",
      "nbconvert_exporter": "python",
      "pygments_lexer": "ipython3",
      "version": "3.8.3"
    }
  },
  "nbformat": 4,
  "nbformat_minor": 0
}