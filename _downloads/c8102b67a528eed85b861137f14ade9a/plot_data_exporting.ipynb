{
  "cells": [
    {
      "cell_type": "markdown",
      "metadata": {},
      "source": [
        "\n# Exporting Model Results\n\nThis example covers utilities for extracting and exporting model fit results.\n\nNote that the functionality to export to pandas DataFrames was added in version 1.1,\nand requires the optional dependency `pandas` to be installed.\n"
      ]
    },
    {
      "cell_type": "code",
      "execution_count": null,
      "metadata": {
        "collapsed": false
      },
      "outputs": [],
      "source": [
        "# Import model objects, and Bands object to define bands of interest\nfrom fooof import FOOOF, FOOOFGroup, Bands\n\n# Import simulation functions to create some example data\nfrom fooof.sim import gen_power_spectrum, gen_group_power_spectra"
      ]
    },
    {
      "cell_type": "markdown",
      "metadata": {},
      "source": [
        "## Exporting Results\n\nIn this example we will explore available functionality for extracting model fit results,\nspecifically the options available for exporting results to pandas objects.\n\nNote that the main use case of exporting models to pandas DataFrames is for\nanalysis across models. If you are just trying to access the model fit results from\na fit model, you may want the :meth:`~fooof.FOOOF.get_results` and/or\n:meth:`~fooof.FOOOF.get_params` methods.\n\n### Defining Oscillation Bands\n\nA difficulty with exporting and collecting model results across model fits is that the\nmodels may be different sizes - most notably, they may contain different numbers of peaks.\n\nThis means that we need to define some kind of strategy to organize the peak\nparameters across different models. Across these examples, this will include using the\n:class:`~fooof.Bands` object to define oscillations bands of interest.\n\n\n"
      ]
    },
    {
      "cell_type": "code",
      "execution_count": null,
      "metadata": {
        "collapsed": false
      },
      "outputs": [],
      "source": [
        "# Initialize bands object, defining alpha band\nbands1 = Bands({'alpha' : [7, 14]})\n\n# Initialize model object\nfm = FOOOF()"
      ]
    },
    {
      "cell_type": "code",
      "execution_count": null,
      "metadata": {
        "collapsed": false
      },
      "outputs": [],
      "source": [
        "# Simulate example power spectrum\nfreqs, powers = gen_power_spectrum([1, 50], [0, 10, 1], [10, 0.25, 2], freq_res=0.25)\n\n# Fit model to power spectrum\nfm.fit(freqs, powers)"
      ]
    },
    {
      "cell_type": "markdown",
      "metadata": {},
      "source": [
        "The :meth:`~fooof.FOOOF.to_df` method supports exporting model fit results to pandas objects.\n\n\n"
      ]
    },
    {
      "cell_type": "code",
      "execution_count": null,
      "metadata": {
        "collapsed": false
      },
      "outputs": [],
      "source": [
        "# Export results\nfm.to_df(None)"
      ]
    },
    {
      "cell_type": "markdown",
      "metadata": {},
      "source": [
        "In the above, we export the model fit results to a pandas Series.\n\nNote that we explicitly passed in `None` to the `peak_org` argument, meaning we did not define\na strategy for managing peaks. Because of this, the export did not include any peak parameters.\n\nNext, let's can try exporting again, this time passing in an integer to define the number\nof peaks to extract.\n\n\n"
      ]
    },
    {
      "cell_type": "code",
      "execution_count": null,
      "metadata": {
        "collapsed": false
      },
      "outputs": [],
      "source": [
        "# Export results - extracting 1 peak\nfm.to_df(1)"
      ]
    },
    {
      "cell_type": "markdown",
      "metadata": {},
      "source": [
        "### Using Band Definitions\n\nIn the above, we extract the results specifying to extract 1 peak. By default, this approach\nwill extract the dominant (highest power) peak.\n\nNotably, specifying a set number of peaks to extract does allow for combining across peaks\n(in terms of enforcing the same model size), but may not be the ideal way to examine across\npeaks (since the dominant extract peak may vary across model fits).\n\nTherefore, we may often want to instead define a set of band definitions to organize peaks,\nas can be done by passing a `Bands` object in to the `to_df` method.\n\n\n"
      ]
    },
    {
      "cell_type": "code",
      "execution_count": null,
      "metadata": {
        "collapsed": false
      },
      "outputs": [],
      "source": [
        "# Export results - extracting peaks based on bands object\nfm.to_df(bands1)"
      ]
    },
    {
      "cell_type": "markdown",
      "metadata": {},
      "source": [
        "Note that there are limitations to using the bands definitions - notably that doing so\nnecessarily requires extracting at most 1 peak per band. In doing so, the extraction will\nselect the dominant peak per band. However, this may not fully reflect the full model fit\nif there are, for example, multiple peaks fit within a band.\n\n\n"
      ]
    },
    {
      "cell_type": "markdown",
      "metadata": {},
      "source": [
        "### Example on Group Object\n\nIn the above, we used the model object to show the basic exporting functionalities.\n\nThis functionality is more useful when considering multiple model fits together, such\nas can be done using the :meth:`~fooof.FOOOFGroup.to_df` method from the Group object,\nwhich allows for exporting DataFrames of organized model fit parameters across power spectra.\n\nAs with the above, keep in mind that for some cases you may want the\n:meth:`~fooof.FOOOFGroup.get_results` and/or :meth:`~fooof.FOOOFGroup.get_params` methods\ninstead of doing a DataFrame export.\n\n\n"
      ]
    },
    {
      "cell_type": "code",
      "execution_count": null,
      "metadata": {
        "collapsed": false
      },
      "outputs": [],
      "source": [
        "# Simulate an example group of power spectra\nfreqs, powers = gen_group_power_spectra(5, [1, 50], [0, 1], [10, 0.25, 2])\n\n# Initialize a group model object and fit power spectra\nfg = FOOOFGroup(verbose=False)\nfg.fit(freqs, powers)"
      ]
    },
    {
      "cell_type": "code",
      "execution_count": null,
      "metadata": {
        "collapsed": false
      },
      "outputs": [],
      "source": [
        "# Export results to dataframe, with no peak definition\nfg.to_df(None)"
      ]
    },
    {
      "cell_type": "code",
      "execution_count": null,
      "metadata": {
        "collapsed": false
      },
      "outputs": [],
      "source": [
        "# Export results to dataframe, specifying to export a single peak\nfg.to_df(1)"
      ]
    },
    {
      "cell_type": "code",
      "execution_count": null,
      "metadata": {
        "collapsed": false
      },
      "outputs": [],
      "source": [
        "# Export results to dataframe, using bands definition with defines the alpha band\nfg.to_df(bands1)"
      ]
    },
    {
      "cell_type": "markdown",
      "metadata": {},
      "source": [
        "In the above examples, we showed the same exports on the Group object as we previously\nexplored on the single spectrum in the model object.\n\nNote that we can also define new bands objects to change the peak output organization,\nas demonstrated in the following example.\n\n\n"
      ]
    },
    {
      "cell_type": "code",
      "execution_count": null,
      "metadata": {
        "collapsed": false
      },
      "outputs": [],
      "source": [
        "# Define a new bands object, specifying both the alpha and beta band\nbands2 = Bands({'alpha' : [7, 14],\n                'beta' : [15, 30]})"
      ]
    },
    {
      "cell_type": "code",
      "execution_count": null,
      "metadata": {
        "collapsed": false
      },
      "outputs": [],
      "source": [
        "# Export results to dataframe, using bands object with alpha & beta\nfg.to_df(bands2)"
      ]
    },
    {
      "cell_type": "markdown",
      "metadata": {},
      "source": [
        "That covers the pandas export functionality available from the model objects.\n\n\n"
      ]
    }
  ],
  "metadata": {
    "kernelspec": {
      "display_name": "Python 3",
      "language": "python",
      "name": "python3"
    },
    "language_info": {
      "codemirror_mode": {
        "name": "ipython",
        "version": 3
      },
      "file_extension": ".py",
      "mimetype": "text/x-python",
      "name": "python",
      "nbconvert_exporter": "python",
      "pygments_lexer": "ipython3",
      "version": "3.8.3"
    }
  },
  "nbformat": 4,
  "nbformat_minor": 0
}