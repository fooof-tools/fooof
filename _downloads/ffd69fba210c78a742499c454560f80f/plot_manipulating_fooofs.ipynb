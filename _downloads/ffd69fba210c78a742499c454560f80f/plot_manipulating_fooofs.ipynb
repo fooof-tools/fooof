{
  "cells": [
    {
      "cell_type": "markdown",
      "metadata": {},
      "source": [
        "\n# Manipulating FOOOF Objects\n\nExamples with combining, sub-selecting, dropping, and averaging power spectrum models.\n"
      ]
    },
    {
      "cell_type": "markdown",
      "metadata": {},
      "source": [
        "As you fit power spectrum models, you may end up with multiple FOOOF objects, as you fit\nmodels within and across subjects, conditions, trials, etc. To help manage and organize\nthe potentially multiple FOOOF objects that can arise in these cases, here we will\nexplore the utilities offered for managing and organizing within and between FOOOF\nobjects.\n\nUsing simulated data, in this example we will cover:\n\n- combining results across FOOOF objects\n- sub-selecting fits from FOOOFGroup objects\n- dropping specified model fits from FOOOFGroup objects\n- average across groups of FOOOF fits\n\n\n"
      ]
    },
    {
      "cell_type": "code",
      "execution_count": null,
      "metadata": {
        "collapsed": false
      },
      "outputs": [],
      "source": [
        "# Import FOOOF & FOOOFGroup objects\nfrom fooof import FOOOF\n\n# Import Bands object, to manage frequency band definitions\nfrom fooof.bands import Bands\n\n# Import utility functions that manage & manipulate FOOOF objects\nfrom fooof.objs.utils import average_fg, combine_fooofs, compare_info\n\n# Import simulation functions to create our example data\nfrom fooof.sim.gen import gen_power_spectrum"
      ]
    },
    {
      "cell_type": "markdown",
      "metadata": {},
      "source": [
        "First, we will simulate some example data, and fit some individual power spectrum models.\n\n\n"
      ]
    },
    {
      "cell_type": "code",
      "execution_count": null,
      "metadata": {
        "collapsed": false
      },
      "outputs": [],
      "source": [
        "# Settings for simulations\nfreq_range = [1, 50]\nfreq_res = 0.25\n\n# Create some example power spectra\nfreqs, powers_1 = gen_power_spectrum(freq_range, [0, 1.0], [10, 0.25, 2],\n                                     nlv=0.00, freq_res=freq_res)\nfreqs, powers_2 = gen_power_spectrum(freq_range, [0, 1.2], [9, 0.20, 1.5],\n                                     nlv=0.01, freq_res=freq_res)\nfreqs, powers_3 = gen_power_spectrum(freq_range, [0, 1.5], [11, 0.3, 2.5],\n                                     nlv=0.02, freq_res=freq_res)"
      ]
    },
    {
      "cell_type": "code",
      "execution_count": null,
      "metadata": {
        "collapsed": false
      },
      "outputs": [],
      "source": [
        "# Initialize a set of FOOOF objects\nfm1, fm2, fm3 = FOOOF(max_n_peaks=4), FOOOF(max_n_peaks=4), FOOOF(max_n_peaks=4)\n\n# Fit power spectrum models\nfm1.fit(freqs, powers_1)\nfm2.fit(freqs, powers_2)\nfm3.fit(freqs, powers_3)"
      ]
    },
    {
      "cell_type": "markdown",
      "metadata": {},
      "source": [
        "## Combining FOOOF Objects\n\nSometimes, when working with models in :class:`~fooof.FOOOF` or :class:`~fooof.FOOOFGroup`\nobjects, you may want to combine them together, to check some group properties.\n\nThe :func:`~.combine_fooofs` function takes a list of FOOOF and/or\nFOOOFGroup objects, and combines all available fits together into a FOOOFGroup object.\n\nLet's now combine our individual model fits into a FOOOFGroup object.\n\n\n"
      ]
    },
    {
      "cell_type": "code",
      "execution_count": null,
      "metadata": {
        "collapsed": false
      },
      "outputs": [],
      "source": [
        "# Combine a list of FOOOF objects into a FOOOFGroup object\nfg = combine_fooofs([fm1, fm2, fm3])\n\n# Check the number of models in the object\n#   Note that the length of a FOOOFGroup object is defined as the number of model fits\nprint('Number of model fits: ', len(fg))"
      ]
    },
    {
      "cell_type": "markdown",
      "metadata": {},
      "source": [
        "### Note on Manipulating FOOOF Objects\n\nNote that these functions that manipulate FOOOF objects typically do more than just\ncopy results data - they also check and manage settings and meta-data of objects.\n\nFor example, combining FOOOF objects returns a new FOOOFGroup object with the same settings.\n\nWe can see this by using the :func:`~.compare_info` function to compare\nthe settings between FOOOF objects.\n\nYou can also use this function if you wish to compare FOOOF objects to ensure that\nyou are comparing model results that were fit with equivalent settings.\n\n\n"
      ]
    },
    {
      "cell_type": "code",
      "execution_count": null,
      "metadata": {
        "collapsed": false
      },
      "outputs": [],
      "source": [
        "# Compare defined settings across FOOOF objects\ncompare_info([fm1, fg], 'settings')"
      ]
    },
    {
      "cell_type": "markdown",
      "metadata": {},
      "source": [
        "## Sub-Select from FOOOFGroup\n\nWhen you have a :class:`~fooof.FOOOFGroup` object, you may also want to sub-select\na group of models.\n\nExample use cases for this could be:\n\n- you want to sub-select models that meet some kind of goodness-of-fit criterion\n- you want to examine a subset of model reflect, for example, particular channels or trials\n\nTo do so, we can use the :func:`~fooof.FOOOFGroup.get_group` method of the FOOOFGroup object.\nThis method takes in an input specifying which indices to sub-select, and returns a\nnew FOOOFGroup object, containing only the requested model fits.\n\nNote that if you want to sub-select a single FOOOF model you can\nuse the :meth:`~fooof.FOOOFGroup.get_fooof` method.\n\n\n"
      ]
    },
    {
      "cell_type": "code",
      "execution_count": null,
      "metadata": {
        "collapsed": false
      },
      "outputs": [],
      "source": [
        "# Define indices of desired sub-selection of model fits\n#   This could be a the indices for a 'region of interest', for example\ninds = [0, 1]\n\n# Sub-select our selection of models from the FOOOFGroup object\nnfg = fg.get_group(inds)\n\n# Check how many models our new FOOOFGroup object contains\nprint('Number of model fits: ', len(nfg))"
      ]
    },
    {
      "cell_type": "markdown",
      "metadata": {},
      "source": [
        "From here, we could continue to do any analyses of interest on our new\nFOOOFGroup object, which contains only our models of interest.\n\n\n"
      ]
    },
    {
      "cell_type": "markdown",
      "metadata": {},
      "source": [
        "## Dropping Fits from FOOOFGroup\n\nAnother option is to 'drop' model fits from a FOOOFGroup object. You can do this with\nthe :meth:`~fooof.FOOOFGroup.drop` method from a :class:`~fooof.FOOOFGroup` object.\n\nThis can be used, for example, for a quality control step. If you have checked through\nthe object, and noticed some outlier model fits, you may want to exclude them from\nfuture analyses.\n\nIn this case, we'll use an example in which we drop any model fits that\nhave particularly high error.\n\n\n"
      ]
    },
    {
      "cell_type": "code",
      "execution_count": null,
      "metadata": {
        "collapsed": false
      },
      "outputs": [],
      "source": [
        "# Drop all model fits above an error threshold\nfg.drop(fg.get_params('error') > 0.01)"
      ]
    },
    {
      "cell_type": "markdown",
      "metadata": {},
      "source": [
        "### Note on Dropped or Failed Fits\n\nWhen models are dropped from :class:`~fooof.FOOOFGroup` objects, they are set as null models.\nThey are therefore cleared of results, but not literally dropped, which\nis done to preserve the ordering of the FOOOFGroup, so that the `n-th` model\ndoesn't change if some models are dropped.\n\nNote that there may in some cases be Null models in a FOOOFGroup without\nexplicitly dropping them, if any models failed during the fitting process.\n\n\n"
      ]
    },
    {
      "cell_type": "code",
      "execution_count": null,
      "metadata": {
        "collapsed": false
      },
      "outputs": [],
      "source": [
        "# Check information on null models (dropped models)\nprint('Number of Null models  : \\t', fg.n_null_)\nprint('Indices of Null models : \\t', fg.null_inds_)\n\n# Despite the dropped model, the total number of models in the object is the same\n#   This means that the indices are still the same as before dropping models\nprint('Number of model fits: ', len(fg))"
      ]
    },
    {
      "cell_type": "code",
      "execution_count": null,
      "metadata": {
        "collapsed": false
      },
      "outputs": [],
      "source": [
        "# Null models are defined as all NaN (not a number)\nfor ind in fg.null_inds_:\n    print(fg[ind])"
      ]
    },
    {
      "cell_type": "markdown",
      "metadata": {},
      "source": [
        "### Note on Selecting From FOOOF Objects\n\nBoth the :meth:`~fooof.FOOOFGroup.get_group` and :meth:`~fooof.FOOOFGroup.drop` methods\ntake an input of the indices of FOOOF model to select or drop.\n\nIn both cases, the input can be defined in multiple ways, including directly indicating\nthe indices as a list of integers, or boolean masks.\n\n\n"
      ]
    },
    {
      "cell_type": "markdown",
      "metadata": {},
      "source": [
        "## Averaging Across Model Fits\n\nFinally, let's average across the models in our FOOOFGroup object, to examine\nthe average model of the data.\n\nNote that in order to be able to average across individual models, we need to define\na set of frequency bands to average peaks across. Otherwise, there is no clear way\nto average across all the peaks across all models.\n\n\n"
      ]
    },
    {
      "cell_type": "code",
      "execution_count": null,
      "metadata": {
        "collapsed": false
      },
      "outputs": [],
      "source": [
        "# Define the periodic band regions to use to average across\n#   Since our simulated data only had alpha peaks, we will only define alpha here\nbands = Bands({'alpha': [7, 14]})\n\n# Average across individual models fits, specifying bands and an averaging function\nafm = average_fg(fg, bands, avg_method='median')\n\n# Plot our average model of the data\nafm.plot()"
      ]
    }
  ],
  "metadata": {
    "kernelspec": {
      "display_name": "Python 3",
      "language": "python",
      "name": "python3"
    },
    "language_info": {
      "codemirror_mode": {
        "name": "ipython",
        "version": 3
      },
      "file_extension": ".py",
      "mimetype": "text/x-python",
      "name": "python",
      "nbconvert_exporter": "python",
      "pygments_lexer": "ipython3",
      "version": "3.8.3"
    }
  },
  "nbformat": 4,
  "nbformat_minor": 0
}