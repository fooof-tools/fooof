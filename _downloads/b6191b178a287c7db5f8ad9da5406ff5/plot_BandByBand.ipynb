{
  "cells": [
    {
      "cell_type": "markdown",
      "metadata": {},
      "source": [
        "\n# Band-by-Band\n\nComparing how 'Band-by-Band' approaches relate to periodic & aperiodic components.\n\nThis example is based on a recent project investigating band-by-band analyses as\noften done in the context of development. The paper for that project is available\n[here](https://doi.org/10.1101/839258).\n"
      ]
    },
    {
      "cell_type": "code",
      "execution_count": null,
      "metadata": {
        "collapsed": false
      },
      "outputs": [],
      "source": [
        "# Import numpy and matplotlib\nimport numpy as np\nimport matplotlib.pyplot as plt\n\n# Import the FOOOF object\nfrom fooof import FOOOF\n\n# Import simulation, utility, and plotting tools\nfrom fooof.bands import Bands\nfrom fooof.utils import trim_spectrum\nfrom fooof.analysis import get_band_peak_fm\nfrom fooof.sim.gen import gen_power_spectrum\nfrom fooof.sim.utils import set_random_seed\nfrom fooof.plts.spectra import plot_spectra_shading"
      ]
    },
    {
      "cell_type": "markdown",
      "metadata": {},
      "source": [
        "## Overview\n\nA common analysis approach for investigating neural data is to measure and analyze\nchanges across multiple frequency bands.\n\nThis is typically done using predefined bands, such as:\n\n- delta (1-4 Hz)\n- theta (4-8 Hz)\n- alpha (8-13 Hz)\n- beta (13-30 Hz)\n- gamma (30-50 Hz)\n\nWhen analyzed in this way, and comparing within or between subjects, investigations often\nreport a pattern of changes or differences across bands, for example:\n\n- decreased power in lower frequency bands (delta, theta)\n- increased power in higher frequency bands (beta, gamma)\n\nUnder this framework, each defined band reflects a different entity in the data,\nand the interpretation is typically that there are multiple things changing, with\ncorrelated changes in power across multiple distinct bands.\n\nAn alternative hypothesis for what is changing is that this pattern of results could\nbe driven by changes or differences in the aperiodic component of the data. Changes\nin aperiodic activity, when analyzed in a band-by-band manner, can look like correlated\nchanges across multiple bands.\n\nIn this example, we will use simulated data to examine both the different ways of\nanalyzing such data (band-by-band compared to parameterizing neural power spectra),\nand examine what it looks like if data differs in these hypothesized ways.\nTo do so, we will simulate and analyze data with correlated changes in multiple\ndistinct frequency bands, as well as data in which there is a shift in the aperiodic\ncomponent.\n\n\n"
      ]
    },
    {
      "cell_type": "markdown",
      "metadata": {},
      "source": [
        "### Settings\n\nFirst, we can define some settings for this notebook and analysis.\n\n\n"
      ]
    },
    {
      "cell_type": "code",
      "execution_count": null,
      "metadata": {
        "collapsed": false
      },
      "outputs": [],
      "source": [
        "# Define our frequency bands of interest\nbands = Bands({'delta' : [1, 4],\n               'theta' : [4, 8],\n               'alpha' : [8, 13],\n               'beta' : [13, 30],\n               'gamma' : [30, 50]})\n\n# Define plot settings\nt_settings = {'fontsize' : 24, 'fontweight' : 'bold'}\nshade_cols = ['#e8dc35', '#46b870', '#1882d9', '#a218d9', '#e60026']\nlabels = ['Group-1', 'Group-2']\n\n# General simulation settings\nf_range = [1, 50]\nnlv = 0\n\n# Define some template strings for reporting\nexp_template = \"The difference of aperiodic exponent is: \\t {:1.2f}\"\npw_template = (\"The difference of {:5} power is  {: 1.2f}\\t\"\n               \"with peaks or  {: 1.2f}\\t with bands.\")"
      ]
    },
    {
      "cell_type": "markdown",
      "metadata": {},
      "source": [
        "### Helper Functions\n\nThroughout this notebook we will be computing and analyzing differences between\npower spectra. Here, we will define some helper functions to do so.\n\n\n"
      ]
    },
    {
      "cell_type": "code",
      "execution_count": null,
      "metadata": {
        "collapsed": false
      },
      "outputs": [],
      "source": [
        "def compare_exp(fm1, fm2):\n    \"\"\"Compare exponent values.\"\"\"\n\n    exp1 = fm1.get_params('aperiodic_params', 'exponent')\n    exp2 = fm2.get_params('aperiodic_params', 'exponent')\n\n    return exp1 - exp2\n\ndef compare_peak_pw(fm1, fm2, band_def):\n    \"\"\"Compare the power of detected peaks.\"\"\"\n\n    pw1 = get_band_peak_fm(fm1, band_def)[1]\n    pw2 = get_band_peak_fm(fm2, band_def)[1]\n\n    return pw1 - pw2\n\ndef compare_band_pw(fm1, fm2, band_def):\n    \"\"\"Compare the power of frequency band ranges.\"\"\"\n\n    pw1 = np.mean(trim_spectrum(fm1.freqs, fm1.power_spectrum, band_def)[1])\n    pw2 = np.mean(trim_spectrum(fm1.freqs, fm2.power_spectrum, band_def)[1])\n\n    return pw1 - pw2"
      ]
    },
    {
      "cell_type": "markdown",
      "metadata": {},
      "source": [
        "## Band-by-Band\n\nIn the 'band-by-band' idea of the data, analyses and interpretations focus on analyzing\nactivity across a range of frequency bands, and looking for patterns of changes within\nand between these bands.\n\nTo visualize this, we can simulate hypothesized power spectra for different groups,\nin which we will set the same aperiodic activity, and vary overlying periodic peaks.\n\nIn this example, for clarity, the center frequencies for all peaks are\nsimulated as being the same between groups, though in real data these could also vary.\n\n\n"
      ]
    },
    {
      "cell_type": "code",
      "execution_count": null,
      "metadata": {
        "collapsed": false
      },
      "outputs": [],
      "source": [
        "# Set consistent aperiodic parameters\nap_params = [1, 1]\n\n# Set periodic parameters, defined to vary between groups\n#   All parameters are set to match, except for systematic power differences\npe_g1 = [[2, 0.25, 1], [6, 0.2, 1], [10, 0.5, 1.5], [20, 0.2, 3], [40, 0.25, 3.5]]\npe_g2 = [[2, 0.5, 1], [6, 0.3, 1], [10, 0.5, 1.5], [20, 0.15, 3], [40, 0.15, 3.5]]\n\n# Set random seed, for consistency generating simulated data\nset_random_seed(21)"
      ]
    },
    {
      "cell_type": "code",
      "execution_count": null,
      "metadata": {
        "collapsed": false
      },
      "outputs": [],
      "source": [
        "# Simulate example power spectra for each group\nfreqs, g1_spectrum_bands = gen_power_spectrum(f_range, ap_params, pe_g1, nlv)\nfreqs, g2_spectrum_bands = gen_power_spectrum(f_range, ap_params, pe_g2, nlv)"
      ]
    },
    {
      "cell_type": "code",
      "execution_count": null,
      "metadata": {
        "collapsed": false
      },
      "outputs": [],
      "source": [
        "# Plot the power spectra differences, representing the 'band-by-band' idea\nplot_spectra_shading(freqs, [g1_spectrum_bands, g2_spectrum_bands],\n                     log_powers=True, linewidth=3,\n                     shades=bands.definitions, shade_colors=shade_cols,\n                     labels=labels)\nplt.xlim(f_range);\nplt.title('Band-by-Band', t_settings);"
      ]
    },
    {
      "cell_type": "markdown",
      "metadata": {},
      "source": [
        "### Flatten the Spectra\n\nUnder the band-by-band idea, controlling for aperiodic activity and flattening\nthe spectra should show specific differences in each band.\n\nIt should also find no systematic difference in the aperiodic activity between groups.\n\nTo check this, we can fit power spectrum models, and examine which parameters are\nchanging in the data.\n\n\n"
      ]
    },
    {
      "cell_type": "code",
      "execution_count": null,
      "metadata": {
        "collapsed": false
      },
      "outputs": [],
      "source": [
        "# Initialize FOOOF objects\nfm_bands_g1 = FOOOF(verbose=False)\nfm_bands_g2 = FOOOF(verbose=False)\n\n# Fit power spectrum models\nfm_bands_g1.fit(freqs, g1_spectrum_bands)\nfm_bands_g2.fit(freqs, g2_spectrum_bands)"
      ]
    },
    {
      "cell_type": "code",
      "execution_count": null,
      "metadata": {
        "collapsed": false
      },
      "outputs": [],
      "source": [
        "# Plot the power spectra differences\nplot_spectra_shading(freqs, [fm_bands_g1._spectrum_flat, fm_bands_g2._spectrum_flat],\n                     log_powers=False, linewidth=3,\n                     shades=bands.definitions, shade_colors=shade_cols,\n                     labels=labels)\nplt.xlim(f_range);\nplt.title('Band-by-Band - Flattened', t_settings);"
      ]
    },
    {
      "cell_type": "markdown",
      "metadata": {},
      "source": [
        "### Compare Spectral Parameters\n\nNext, let's compare the measured parameters of the data.\n\n\n"
      ]
    },
    {
      "cell_type": "code",
      "execution_count": null,
      "metadata": {
        "collapsed": false
      },
      "outputs": [],
      "source": [
        "# Check the difference of aperiodic activity between age groups\nprint(exp_template.format(compare_exp(fm_bands_g1, fm_bands_g2)))"
      ]
    },
    {
      "cell_type": "code",
      "execution_count": null,
      "metadata": {
        "collapsed": false
      },
      "outputs": [],
      "source": [
        "# Check the difference in periodic activity, across bands, between groups\nfor label, definition in bands:\n    print(pw_template.format(label,\n                             compare_peak_pw(fm_bands_g1, fm_bands_g2, definition),\n                             compare_band_pw(fm_bands_g1, fm_bands_g2, definition)))"
      ]
    },
    {
      "cell_type": "markdown",
      "metadata": {},
      "source": [
        "In the measurements above, we can see there is a negligible difference in the aperiodic\nproperties of the data, but that there are differences within individual bands, with\nthe same pattern of results highlighted by comparing either the parameterized peaks\nor the average band power.\n\nThis is as expected, given that we simulated the data to reflect this idea. In the\nsimulation we can see that both a band-by-band analysis, and parameterizing neural\npower spectra give the same, and correct result for this case.\n\n\n"
      ]
    },
    {
      "cell_type": "markdown",
      "metadata": {},
      "source": [
        "## Periodic & Aperiodic\n\nAn alternative hypothesis is that aperiodic activity may vary between groups.\n\nIn the next simulation, we will simulate each group as having same periodic activity,\nin this case, just an alpha peak, with a difference in the aperiodic activity.\n\n\n"
      ]
    },
    {
      "cell_type": "code",
      "execution_count": null,
      "metadata": {
        "collapsed": false
      },
      "outputs": [],
      "source": [
        "# Simulate spectra for each group, with aperiodic differences\nfreqs, g1_spectrum_pa = gen_power_spectrum(f_range, [1.0, 1.25], [10, 0.5, 1.5], nlv)\nfreqs, g2_spectrum_pa = gen_power_spectrum(f_range, [0.7, 1.00], [10, 0.5, 1.5], nlv)"
      ]
    },
    {
      "cell_type": "code",
      "execution_count": null,
      "metadata": {
        "collapsed": false
      },
      "outputs": [],
      "source": [
        "# Plot the power spectra differences\nplot_spectra_shading(freqs, [g1_spectrum_pa, g2_spectrum_pa],\n                     log_freqs=False, log_powers=True, linewidth=3,\n                     shades=bands.definitions, shade_colors=shade_cols,\n                     labels=labels)\nplt.xlim(f_range);\nplt.title('Periodic & Aperiodic', t_settings);"
      ]
    },
    {
      "cell_type": "markdown",
      "metadata": {},
      "source": [
        "### Flatten the Spectra\n\nIn the scenario in which there are differences in aperiodic activity, flattening\nthe spectra should show no differences in periodic peaks.\n\nWe can again parameterize the spectra to investigate this.\n\n\n"
      ]
    },
    {
      "cell_type": "code",
      "execution_count": null,
      "metadata": {
        "collapsed": false
      },
      "outputs": [],
      "source": [
        "# Initialize FOOOF objects\nfm_pa_g1 = FOOOF(verbose=False)\nfm_pa_g2 = FOOOF(verbose=False)\n\n# Fit power spectrum models\nfm_pa_g1.fit(freqs, g1_spectrum_pa)\nfm_pa_g2.fit(freqs, g2_spectrum_pa)"
      ]
    },
    {
      "cell_type": "code",
      "execution_count": null,
      "metadata": {
        "collapsed": false
      },
      "outputs": [],
      "source": [
        "# Plot the power spectra differences\nplot_spectra_shading(freqs, [fm_pa_g1._spectrum_flat, fm_pa_g2._spectrum_flat],\n                     log_powers=False, linewidth=3,\n                     shades=bands.definitions, shade_colors=shade_cols,\n                     labels=labels)\nplt.xlim(f_range);\nplt.title('Periodic & Aperiodic - Flattened', t_settings);"
      ]
    },
    {
      "cell_type": "markdown",
      "metadata": {},
      "source": [
        "### Compare Spectral Parameters\n\nLet's again compare the measured parameters of the data.\n\n\n"
      ]
    },
    {
      "cell_type": "code",
      "execution_count": null,
      "metadata": {
        "collapsed": false
      },
      "outputs": [],
      "source": [
        "# Check the difference of aperiodic activity between age groups\nprint(exp_template.format(compare_exp(fm_pa_g1, fm_pa_g2)))"
      ]
    },
    {
      "cell_type": "code",
      "execution_count": null,
      "metadata": {
        "collapsed": false
      },
      "outputs": [],
      "source": [
        "# Check the difference in periodic activity, across bands, between groups\nfor label, definition in bands:\n    print(pw_template.format(label,\n                             compare_peak_pw(fm_pa_g1, fm_pa_g2, definition),\n                             compare_band_pw(fm_pa_g1, fm_pa_g2, definition)))"
      ]
    },
    {
      "cell_type": "markdown",
      "metadata": {},
      "source": [
        "In the measurements above, we can now see that we are measuring a difference in the\naperiodic properties of the data.\n\nWe also see a different results when looking at bands / peaks, depending on how we\nanalyze them. The band-by-band analysis reports a pattern of differences across\nthe frequency bands. However, the parameterized analysis reports no differences in\nidentified peaks.\n\nNote that when comparing peaks, 'nan' reflects that there were no identified peaks to\ncompare, where are a zero value reflects that peaks were detected, but they did not differ.\n\nIn this case, we know that the parameterization approach results in the correct\ninterpretation of the changes in the data.\n\n\n"
      ]
    },
    {
      "cell_type": "markdown",
      "metadata": {},
      "source": [
        "## Conclusion\n\nHere we have investigated changes across power spectra, comparing a 'band-by-band'\napproach to the parameterizing neural power spectra notion of 'periodic & aperiodic'\ncomponents.\n\nWhat we can see is that parameterizing neural power spectra is able to determine\nif changes are driven by differences in oscillatory peaks, and/or by changes in the\naperiodic component of the data.\n\nHowever, we also saw that simply doing a band-by-band power analysis can conflate differences\nfrom aperiodic and periodic changes. Specifically, when we change the aperiodic activity\nin a power spectrum, the band-by-band analysis suggests that multiple distinct frequency\nbands are changing, whereas the more parsimonious (and in the simulated case, the true)\nconclusion should be that changes are driven by changes in the aperiodic activity\nthat affects all frequencies. This also means that if a band-by-band analysis finds\ndifferences across bands, this is not enough to know if there are band-specific changes,\nor aperiodic changes, as this analysis approach does not differentiate the two.\n\nWe conclude here that band-by-band analysis, without measuring or controlling for\naperiodic activity, are ill posed to adjudicate which aspects of the data are changing.\nParameterizing neural power spectra allows for disentangling changes in\nperiodic and aperiodic components of the data.\n\nIn this example, with simulated data, we cannot conclude which changes are more likely\nto be occurring in real data. However, in the real data analysis that this example\nis based on, it was found that a great deal of the changes across development are\ndriven by aperiodic changes, and not by band-by-band differences. This finding\ncame from using the parameterization approach, but was not evidence in prior\nwork using only a band-by-band approach.\nYou can find more on that project\n[here](https://doi.org/10.1101/839258).\n\n\n"
      ]
    }
  ],
  "metadata": {
    "kernelspec": {
      "display_name": "Python 3",
      "language": "python",
      "name": "python3"
    },
    "language_info": {
      "codemirror_mode": {
        "name": "ipython",
        "version": 3
      },
      "file_extension": ".py",
      "mimetype": "text/x-python",
      "name": "python",
      "nbconvert_exporter": "python",
      "pygments_lexer": "ipython3",
      "version": "3.8.3"
    }
  },
  "nbformat": 4,
  "nbformat_minor": 0
}