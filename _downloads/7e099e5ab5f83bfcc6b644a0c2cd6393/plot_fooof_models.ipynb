{
  "cells": [
    {
      "cell_type": "markdown",
      "metadata": {},
      "source": [
        "\n# Plot Power Spectrum Models\n\nPlotting power spectrum models, directly from FOOOF objects.\n\nIn order to the get a qualitative sense of if the model is fitting well, and what\nthe results look like, it can be useful to visualize power spectrum model reconstructions.\n\nThis example dives deeper into plotting model reconstructions, using the\n:meth:`~fooof.FOOOF.plot` method from a :class:`~fooof.FOOOF` object, and explores\noptions for tuning these these visualizations.\n"
      ]
    },
    {
      "cell_type": "code",
      "execution_count": null,
      "metadata": {
        "collapsed": false
      },
      "outputs": [],
      "source": [
        "# Import matplotlib to help manage plotting\nimport matplotlib.pyplot as plt\n\n# Import the FOOOF object\nfrom fooof import FOOOF\n\n# Import simulation functions to create some example data\nfrom fooof.sim.gen import gen_power_spectrum"
      ]
    },
    {
      "cell_type": "code",
      "execution_count": null,
      "metadata": {
        "collapsed": false
      },
      "outputs": [],
      "source": [
        "# Generate an example power spectrum\nfreqs, powers = gen_power_spectrum([3, 50], [1, 1],\n                                   [[9, 0.25, 0.5], [22, 0.1, 1.5], [25, 0.2, 1.]])"
      ]
    },
    {
      "cell_type": "markdown",
      "metadata": {},
      "source": [
        "## Plotting From FOOOF Objects\n\nThe FOOOF object has a :meth:`~fooof.FOOOF.plot` method that can be used to visualize\ndata and models available in the :class:`~fooof.FOOOF` object.\n\n\n"
      ]
    },
    {
      "cell_type": "code",
      "execution_count": null,
      "metadata": {
        "collapsed": false
      },
      "outputs": [],
      "source": [
        "# Initialize a FOOOF object, and add some data to it\nfm = FOOOF(verbose=False)\nfm.add_data(freqs, powers)"
      ]
    },
    {
      "cell_type": "markdown",
      "metadata": {},
      "source": [
        "Once you have added data to a FOOOF object, you can visualize the data using\n:func:`~fooof.FOOOF.plot`.\n\n\n"
      ]
    },
    {
      "cell_type": "code",
      "execution_count": null,
      "metadata": {
        "collapsed": false
      },
      "outputs": [],
      "source": [
        "# Plot the data available in the FOOOF object\nfm.plot()"
      ]
    },
    {
      "cell_type": "markdown",
      "metadata": {},
      "source": [
        "When the model is available, the :meth:`~fooof.FOOOF.plot` call also displays the\nfull model reconstruction, in red.\n\n\n"
      ]
    },
    {
      "cell_type": "code",
      "execution_count": null,
      "metadata": {
        "collapsed": false
      },
      "outputs": [],
      "source": [
        "# Fit the model, and plot the reconstruction\nfm.fit()\nfm.plot()"
      ]
    },
    {
      "cell_type": "markdown",
      "metadata": {},
      "source": [
        "## Plotting Aperiodic Components\n\nAs you can see above, the :meth:`~fooof.FOOOF.plot` call by default also plots the\naperiodic component, in a dashed blue line.\n\nYou can toggle whether to display the aperiodic component with the\n``plot_aperiodic`` parameter.\n\n\n"
      ]
    },
    {
      "cell_type": "code",
      "execution_count": null,
      "metadata": {
        "collapsed": false
      },
      "outputs": [],
      "source": [
        "# Control whether to plot the aperiodic component\nfm.plot(plot_aperiodic=False)"
      ]
    },
    {
      "cell_type": "markdown",
      "metadata": {},
      "source": [
        "## Plotting Periodic Components\n\nBy default the peaks are only visualized as parts of the full model fit.\n\nHowever, in some cases it can be useful to more explicitly visualize individual peaks,\nincluding where they are and if and how they overlap.\n\nTo do so, you can use the ``plot_peaks`` parameter, passing in a string specifier\nof which approach you wish to use to visualize the peaks.\n\nThere are four options for visualizing peaks:\n\n- 'shade' : shade in peaks\n- 'dot' : add a line through the peak, with a dot at the top\n- 'outline' : outline each peak\n- 'line' : add a vertical line through the whole plot at peak locations\n\n\n"
      ]
    },
    {
      "cell_type": "code",
      "execution_count": null,
      "metadata": {
        "collapsed": false
      },
      "outputs": [],
      "source": [
        "# Plotting Periodic Components\nfig, axes = plt.subplots(2, 2, figsize=[16, 12])\npeak_plots = ['shade', 'dot', 'outline', 'line']\nfor ax, peak_plot in zip(axes.flatten(), peak_plots):\n    fm.plot(plot_peaks=peak_plot, add_legend=False, ax=ax)"
      ]
    },
    {
      "cell_type": "markdown",
      "metadata": {},
      "source": [
        "Note that you can also combine different peak visualizations together.\n\nThis can be done by joining all requested peak visualization approaches, with dashes (-).\n\nFor example, as `plot_peaks='dot-outline-shade'`.\n\n\n"
      ]
    },
    {
      "cell_type": "code",
      "execution_count": null,
      "metadata": {
        "collapsed": false
      },
      "outputs": [],
      "source": [
        "# Combine peak representations\nfm.plot(plot_aperiodic=True, plot_peaks='line-shade-outline', plt_log=False)"
      ]
    },
    {
      "cell_type": "markdown",
      "metadata": {},
      "source": [
        "Which peak visualization is best depends on how you want to look at peaks,\nand what you want to check.\n\nFor example, for investigating possible peak overlaps, the outline approach may be\nthe most useful. Or, across broader frequency ranges, it may be easier to visualize\nwhere peaks were fit with the full-length vertical lines.\n\n\n"
      ]
    },
    {
      "cell_type": "code",
      "execution_count": null,
      "metadata": {
        "collapsed": false
      },
      "outputs": [],
      "source": [
        "# Simulate a new power spectrum, over a broader frequency region\nfreqs, powers = gen_power_spectrum([1, 150], [0, 10, 1.5],\n                                   [[4, 0.25, 1], [12, 0.2, 1.5], [25, 0.1, 2]])"
      ]
    },
    {
      "cell_type": "code",
      "execution_count": null,
      "metadata": {
        "collapsed": false
      },
      "outputs": [],
      "source": [
        "# Initialize a new FOOOF object, in 'knee' mode\nfm = FOOOF(aperiodic_mode='knee', verbose=False)\n\n# Fit the model and visualize the fit, highlighting peaks\nfm.fit(freqs, powers)\nfm.plot(plot_peaks='shade-line')"
      ]
    },
    {
      "cell_type": "markdown",
      "metadata": {},
      "source": [
        "## Other Plotting Options\n\nThere are also some other optional inputs to the :meth:`~fooof.FOOOF.plot` call, including:\n\n- `plt_log` : Optional input for plotting the frequency axis in log10 spacing\n- `add_legend` : Optional input to toggle whether to add a legend\n- `save_fig` : Optional input for whether to save out the figure\n\n  - you can control the filename and where to save to with `file_name` and `file_path`\n- `ax` : Optional input to specify a matplotlib axes object to plot to\n\n\n"
      ]
    },
    {
      "cell_type": "code",
      "execution_count": null,
      "metadata": {
        "collapsed": false
      },
      "outputs": [],
      "source": [
        "# Plot from FOOOF, using a custom axes with some optional inputs to tune the plot\n_, ax = plt.subplots(figsize=[10, 10])\nfm.plot(plt_log=True, add_legend=False, ax=ax)"
      ]
    }
  ],
  "metadata": {
    "kernelspec": {
      "display_name": "Python 3",
      "language": "python",
      "name": "python3"
    },
    "language_info": {
      "codemirror_mode": {
        "name": "ipython",
        "version": 3
      },
      "file_extension": ".py",
      "mimetype": "text/x-python",
      "name": "python",
      "nbconvert_exporter": "python",
      "pygments_lexer": "ipython3",
      "version": "3.8.3"
    }
  },
  "nbformat": 4,
  "nbformat_minor": 0
}