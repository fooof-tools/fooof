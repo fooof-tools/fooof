{
  "cells": [
    {
      "cell_type": "markdown",
      "metadata": {},
      "source": [
        "\n# 'Oscillations' as Peaks\n\nExploring the idea of oscillations as peaks of power.\n"
      ]
    },
    {
      "cell_type": "code",
      "execution_count": null,
      "metadata": {
        "collapsed": false
      },
      "outputs": [],
      "source": [
        "# Imports from NeuroDSP to simulate & plot time series\nfrom neurodsp.sim import sim_powerlaw, sim_oscillation, sim_combined, set_random_seed\nfrom neurodsp.spectral import compute_spectrum\nfrom neurodsp.plts import plot_time_series, plot_power_spectra\nfrom neurodsp.utils import create_times"
      ]
    },
    {
      "cell_type": "code",
      "execution_count": null,
      "metadata": {
        "collapsed": false
      },
      "outputs": [],
      "source": [
        "# Define simulation settings\nn_seconds = 30\nfs = 1000\n\n# Create a times vector\ntimes = create_times(n_seconds, fs)"
      ]
    },
    {
      "cell_type": "markdown",
      "metadata": {},
      "source": [
        "## Frequency Specific Power\n\nPart of the motivation behind spectral parameterization is dissociating aperiodic\nactivity, with no characteristic frequency, to periodic power, which is defined as\nhaving frequency specific power. This leads to the idea of oscillations as 'peaks'\nof power in the power spectrum, which can be detected and measured.\n\nIn this exploration, we will use simulated time series to examine how rhythmic signals\ndo display as 'peaks' of power in frequency domain representations. We will also\nexplore some limitations of this idea.\n\n\n"
      ]
    },
    {
      "cell_type": "code",
      "execution_count": null,
      "metadata": {
        "collapsed": false
      },
      "outputs": [],
      "source": [
        "# Simulate an ongoing sine wave\nsine_wave = sim_oscillation(n_seconds, fs, 10)\n\n# Visualize the sine wave\nplot_time_series(times, sine_wave, xlim=[0, 5])"
      ]
    },
    {
      "cell_type": "markdown",
      "metadata": {},
      "source": [
        "In the above, we simulated a pure sinusoid, at 10 Hz.\n\n\n"
      ]
    },
    {
      "cell_type": "code",
      "execution_count": null,
      "metadata": {
        "collapsed": false
      },
      "outputs": [],
      "source": [
        "# Compute the power spectrum of the sine wave\nfreqs, powers = compute_spectrum(sine_wave, fs)\n\n# Visualize the power spectrum\nplot_power_spectra(freqs, powers)"
      ]
    },
    {
      "cell_type": "markdown",
      "metadata": {},
      "source": [
        "The power spectrum of the sine wave shows a clear peak of power at 10 Hz, reflecting\nthe simulated rhythm, with close to zero power at all other frequencies.\n\nThis is characteristic of a sine wave, and demonstrates the basic idea of considering\noscillations as peaks of power in the power spectrum.\n\nNext lets examine a more complicated signal, with multiple components.\n\n\n"
      ]
    },
    {
      "cell_type": "code",
      "execution_count": null,
      "metadata": {
        "collapsed": false
      },
      "outputs": [],
      "source": [
        "# Define components for a combined signal\ncomponents = {\n    'sim_oscillation' : {'freq' : 10},\n    'sim_powerlaw' : {'exponent' : -1},\n}\n\n# Simulate a combined signal\nsig = sim_combined(n_seconds, fs, components)\n\n# Visualize the time series\nplot_time_series(times, sig, xlim=[0, 5])"
      ]
    },
    {
      "cell_type": "markdown",
      "metadata": {},
      "source": [
        "Here we see a simply simulation meant to be closer to neural data, reflecting an oscillatory\ncomponent, as well as an aperiodic component, which contributes power across all frequencies.\n\n\n"
      ]
    },
    {
      "cell_type": "code",
      "execution_count": null,
      "metadata": {
        "collapsed": false
      },
      "outputs": [],
      "source": [
        "# Compute the power spectrum of the sine wave\nfreqs, powers = compute_spectrum(sig, fs)\n\n# Visualize the power spectrum\nplot_power_spectra(freqs, powers)"
      ]
    },
    {
      "cell_type": "markdown",
      "metadata": {},
      "source": [
        "### Interim Conclusion\n\nIn the power spectrum of the combined signal, we can still the peak of power at 10 Hz, as\nwell as the pattern of power across all frequencies contributed by the aperiodic component.\n\nThis basic example serves as the basic motivation for spectral parameterization. In this\nsimulated example, we know there are two components, and so a procedure for detecting the\npeaks and measuring the pattern of aperiodic power (as is done in spectral parameterization)\nprovides a method to measuring these components in the data.\n\n\n"
      ]
    },
    {
      "cell_type": "markdown",
      "metadata": {},
      "source": [
        "## Harmonic Peaks\n\nThe above seeks to demonstrate the basic idea whereby a peak of power _may_ reflect\nan oscillation at that frequency, where as patterns of power across all frequencies\nlikely reflect aperiodic activity.\n\nIn the this section, we will further explore peaks of power in the frequency domain,\nshowing that not every peak necessarily reflect an independent oscillation.\n\nTo do so, we will start by simulating a non-sinusoidal oscillation.\n\n\n"
      ]
    },
    {
      "cell_type": "code",
      "execution_count": null,
      "metadata": {
        "collapsed": false
      },
      "outputs": [],
      "source": [
        "# Simulate a sawtooth wave\nsawtooth = sim_oscillation(n_seconds, fs, 10, 'sawtooth', width=0.5)\n\n# Visualize the sine wave\nplot_time_series(times, sawtooth, xlim=[0, 5])"
      ]
    },
    {
      "cell_type": "markdown",
      "metadata": {},
      "source": [
        "In the above, we can see that there is again an oscillation, although it is not sinusoidal.\n\n\n"
      ]
    },
    {
      "cell_type": "code",
      "execution_count": null,
      "metadata": {
        "collapsed": false
      },
      "outputs": [],
      "source": [
        "# Compute the power spectrum of the sine wave\nfreqs, powers = compute_spectrum(sawtooth, fs)\n\n# Visualize the power spectrum\nplot_power_spectra(freqs, powers)"
      ]
    },
    {
      "cell_type": "markdown",
      "metadata": {},
      "source": [
        "Note the 10 Hz peak, as well as the additional peaks in the frequency domain.\n\nBefore further discussing this, let's create an example with an aperiodic component.\n\n\n"
      ]
    },
    {
      "cell_type": "code",
      "execution_count": null,
      "metadata": {
        "collapsed": false
      },
      "outputs": [],
      "source": [
        "# Define components for a combined signal\ncomponents = {\n    'sim_oscillation' : {'freq' : 10, 'cycle' : 'sawtooth', 'width' : 0.25},\n    'sim_powerlaw' : {'exponent' : -1.},\n}\n\n# Simulate a combined signal\nsig = sim_combined(n_seconds, fs, components)\n\n# Visualize the time series\nplot_time_series(times, sig, xlim=[0, 5])"
      ]
    },
    {
      "cell_type": "code",
      "execution_count": null,
      "metadata": {
        "collapsed": false
      },
      "outputs": [],
      "source": [
        "# Compute the power spectrum of the sine wave\nfreqs, powers = compute_spectrum(sig, fs)\n\n# Visualize the power spectrum\nplot_power_spectra(freqs, powers)"
      ]
    },
    {
      "cell_type": "markdown",
      "metadata": {},
      "source": [
        "In the power spectrum above, we see that there is a peak of power at the fundamental frequency\nof the rhythm (10 Hz), but there are also numerous other peaks. These additional peaks are\n'harmonics', and that are components of the frequency domain representation that reflect\nthe non-sinusoidality of the time domain signal.\n\nThis serves as the basic motivation for the claim that although a peak _may_ reflect an\nindependent oscillation, this need not be the case, as a given peak could simply be the harmonic\nof an asymmetric oscillation at a different frequency. For this reason, the number of peaks in\na model can not be interpreted as the number of oscillations in a signal.\n\n\n"
      ]
    }
  ],
  "metadata": {
    "kernelspec": {
      "display_name": "Python 3",
      "language": "python",
      "name": "python3"
    },
    "language_info": {
      "codemirror_mode": {
        "name": "ipython",
        "version": 3
      },
      "file_extension": ".py",
      "mimetype": "text/x-python",
      "name": "python",
      "nbconvert_exporter": "python",
      "pygments_lexer": "ipython3",
      "version": "3.8.3"
    }
  },
  "nbformat": 4,
  "nbformat_minor": 0
}