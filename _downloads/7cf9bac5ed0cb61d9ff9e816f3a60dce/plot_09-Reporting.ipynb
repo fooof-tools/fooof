{
  "cells": [
    {
      "cell_type": "markdown",
      "metadata": {},
      "source": [
        "\n# 09: Reporting & Referencing\n\nThis section covers how to access reporting info and reference use of the module.\n\nThis page is a hands-on example of the reporting and referencing information on the\n[Reference page](https://fooof-tools.github.io/fooof/reference.html).\n"
      ]
    },
    {
      "cell_type": "code",
      "execution_count": null,
      "metadata": {
        "collapsed": false
      },
      "outputs": [],
      "source": [
        "# Import FOOOF model objects\nfrom fooof import FOOOF, FOOOFGroup\n\n# Import simulation functions to create some example data\nfrom fooof.sim import gen_power_spectrum, gen_group_power_spectra\n\n# Import utilities to print out information for reporting\nfrom fooof.utils.reports import methods_report_info, methods_report_text"
      ]
    },
    {
      "cell_type": "markdown",
      "metadata": {},
      "source": [
        "## Checking Module Version\n\nIt's useful and important to keep track of which version of the module you are using,\nand to report this information when referencing use of the tool.\n\nThere are several ways to check the version of the the module that you are using,\nincluding checking what is installed in the Python environment you are using.\n\nFrom within Python, you can also check the version of the module by checking\n`__version__`, as shown below:\n\n\n"
      ]
    },
    {
      "cell_type": "code",
      "execution_count": null,
      "metadata": {
        "collapsed": false
      },
      "outputs": [],
      "source": [
        "# Check the version of the module\nfrom fooof import __version__ as fooof_version\nprint('Current fooof version:', fooof_version)"
      ]
    },
    {
      "cell_type": "markdown",
      "metadata": {},
      "source": [
        "## Getting Model Reporting Information\n\nTo assist with reporting information, the module has the following utilities:\n\n- the :func:`~.methods_report_info`, which prints out methods reporting information\n- the :func:`~.methods_report_text`, which prints out a template of methods reporting text\n\nBoth of the these functions take as input a model object, and use the object to\ncollect and return information related to the model fits.\n\nNote that not all information may be returned by the model - these methods only have access\nto the current object. This means it is also important that if you use these functions,\nyou use them with objects that match the settings and data used in the analysis to be reported.\n\nIn the following, we will explore an example of using these functions for an example model fit.\n\n\n"
      ]
    },
    {
      "cell_type": "code",
      "execution_count": null,
      "metadata": {
        "collapsed": false
      },
      "outputs": [],
      "source": [
        "# Initialize model object\nfooof_obj = FOOOF()"
      ]
    },
    {
      "cell_type": "code",
      "execution_count": null,
      "metadata": {
        "collapsed": false
      },
      "outputs": [],
      "source": [
        "# Print out all the methods information for reporting\nmethods_report_info(fooof_obj)"
      ]
    },
    {
      "cell_type": "markdown",
      "metadata": {},
      "source": [
        "You might notice that the above function prints out several different sections,\nsome of which might look familiar.\n\nThe settings information, for example, is the same as printed using the\n# - :meth:`~fooof.FOOOF.print_settings` method.\n\nNext, let's check out the text version of the methods report.\n\n\n"
      ]
    },
    {
      "cell_type": "code",
      "execution_count": null,
      "metadata": {
        "collapsed": false
      },
      "outputs": [],
      "source": [
        "# Generate methods text, with methods information inserted\nmethods_report_text(fooof_obj)"
      ]
    },
    {
      "cell_type": "markdown",
      "metadata": {},
      "source": [
        "### Additional Examples\n\nIn the above examples, not all the information was printed, as not all information was\navailable in the example object (for example, it had no data).\n\nIn the next example, let's see how the outputs look for an example object with model fit results.\n\n\n"
      ]
    },
    {
      "cell_type": "code",
      "execution_count": null,
      "metadata": {
        "collapsed": false
      },
      "outputs": [],
      "source": [
        "# Simulate an example power spectrum\nfreqs, powers = gen_power_spectrum([1, 50], [0, 10, 1], [10, 0.25, 2], freq_res=0.25)\n\n# Initialize model object\nfm = FOOOF(min_peak_height=0.1, peak_width_limits=[1, 6], aperiodic_mode='knee')\nfm.fit(freqs, powers)"
      ]
    },
    {
      "cell_type": "code",
      "execution_count": null,
      "metadata": {
        "collapsed": false
      },
      "outputs": [],
      "source": [
        "# Generate methods text, with methods information inserted\nmethods_report_info(fm)"
      ]
    },
    {
      "cell_type": "code",
      "execution_count": null,
      "metadata": {
        "collapsed": false
      },
      "outputs": [],
      "source": [
        "# Generate methods text, with methods information inserted\nmethods_report_text(fm)"
      ]
    },
    {
      "cell_type": "markdown",
      "metadata": {},
      "source": [
        "The report text is meant as a template / example that could be added to a methods section.\n\nNote that there may be missing information that needs to be filled in (indicated by 'XX's),\nand you can and should consider this a template to be edited as needed.\n\n\n"
      ]
    },
    {
      "cell_type": "markdown",
      "metadata": {},
      "source": [
        "### Other Model Objects\n\nNote that the reporting functions work with any model object.\n\nFor example, next we will use them on a :class:`~fooof.FOOOFGroup` object.\n\n\n"
      ]
    },
    {
      "cell_type": "code",
      "execution_count": null,
      "metadata": {
        "collapsed": false
      },
      "outputs": [],
      "source": [
        "# Simulate an example group of power spectra\nfreqs, powers = gen_group_power_spectra(10, [1, 75], [0, 1], [10, 0.25, 2])"
      ]
    },
    {
      "cell_type": "code",
      "execution_count": null,
      "metadata": {
        "collapsed": false
      },
      "outputs": [],
      "source": [
        "# Initialize and fit group model object\nfg = FOOOFGroup(max_n_peaks=4, peak_threshold=1.75)\nfg.fit(freqs, powers)"
      ]
    },
    {
      "cell_type": "code",
      "execution_count": null,
      "metadata": {
        "collapsed": false
      },
      "outputs": [],
      "source": [
        "# Generate the methods report information\nmethods_report_info(fg)"
      ]
    },
    {
      "cell_type": "code",
      "execution_count": null,
      "metadata": {
        "collapsed": false
      },
      "outputs": [],
      "source": [
        "# Generate the methods report text\nmethods_report_text(fg)"
      ]
    },
    {
      "cell_type": "markdown",
      "metadata": {},
      "source": [
        "That concludes the example of using the helper utilities for generating methods reports!\n\n\n"
      ]
    }
  ],
  "metadata": {
    "kernelspec": {
      "display_name": "Python 3",
      "language": "python",
      "name": "python3"
    },
    "language_info": {
      "codemirror_mode": {
        "name": "ipython",
        "version": 3
      },
      "file_extension": ".py",
      "mimetype": "text/x-python",
      "name": "python",
      "nbconvert_exporter": "python",
      "pygments_lexer": "ipython3",
      "version": "3.8.3"
    }
  },
  "nbformat": 4,
  "nbformat_minor": 0
}