{
  "cells": [
    {
      "cell_type": "markdown",
      "metadata": {},
      "source": [
        "\n# 06: FOOOFGroup\n\nUsing FOOOFGroup to run fit models across multiple power spectra.\n"
      ]
    },
    {
      "cell_type": "code",
      "execution_count": null,
      "metadata": {
        "collapsed": false
      },
      "outputs": [],
      "source": [
        "# Import the FOOOFGroup object\nfrom fooof import FOOOFGroup\n\n# Import a utility to download and load example data\nfrom fooof.utils.download import load_fooof_data"
      ]
    },
    {
      "cell_type": "markdown",
      "metadata": {},
      "source": [
        "## Fitting Multiple Spectra\n\nSo far, we have explored using the :class:`~fooof.FOOOF` object to fit individual power spectra.\n\nHowever, many potential analyses will including many power spectra that need to be fit.\n\nTo support this, here we will introduce the :class:`~fooof.FOOOFGroup` object, which\napplies the model fitting procedure across multiple power spectra.\n\n\n"
      ]
    },
    {
      "cell_type": "code",
      "execution_count": null,
      "metadata": {
        "collapsed": false
      },
      "outputs": [],
      "source": [
        "# Load examples data files needed for this example\nfreqs = load_fooof_data('group_freqs.npy', folder='data')\nspectra = load_fooof_data('group_powers.npy', folder='data')"
      ]
    },
    {
      "cell_type": "markdown",
      "metadata": {},
      "source": [
        "For parameterizing a group of spectra, we can use a 1d array of frequency values\ncorresponding to a 2d array for power spectra.\n\nThis is the organization of the data we just loaded.\n\n\n"
      ]
    },
    {
      "cell_type": "code",
      "execution_count": null,
      "metadata": {
        "collapsed": false
      },
      "outputs": [],
      "source": [
        "# Check the shape of the loaded data\nprint(freqs.shape)\nprint(spectra.shape)"
      ]
    },
    {
      "cell_type": "markdown",
      "metadata": {},
      "source": [
        "## FOOOFGroup\n\nThe :class:`~fooof.FOOOFGroup` object is very similar to the FOOOF object (programmatically,\nit inherits from the FOOOF object), and can be used in the same way.\n\nThe main difference is that instead of running across a single power spectrum, it\noperates across 2D matrices containing multiple power spectra.\n\nNote that by 'group' we mean merely to refer to a group of power-spectra. We\nare not using the term 'group' in terms of necessarily referring to multiple subjects\nor any particular idea of what a 'group' may be. A group of power spectra could\nbe spectra from across channels, or across trials, or across subjects, or\nwhatever organization makes sense for the analysis at hand.\n\nThe main differences with the :class:`~fooof.FOOOFGroup` object, are that it uses a\n`power_spectra` attribute, which stores the matrix of power-spectra to be fit,\nand collects fit results into a `group_results` attribute.\n\nOtherwise, :class:`~fooof.FOOOFGroup` supports all the same functionality,\naccessed in the same way as the :class:`~fooof.FOOOF` object.\n\nInternally, it runs the exact same fitting procedure, per spectrum, as the FOOOF object.\n\n\n"
      ]
    },
    {
      "cell_type": "code",
      "execution_count": null,
      "metadata": {
        "collapsed": false
      },
      "outputs": [],
      "source": [
        "# Initialize a FOOOFGroup object, which accepts all the same settings as FOOOF\nfg = FOOOFGroup(peak_width_limits=[1, 8], min_peak_height=0.05, max_n_peaks=6)"
      ]
    },
    {
      "cell_type": "code",
      "execution_count": null,
      "metadata": {
        "collapsed": false
      },
      "outputs": [],
      "source": [
        "# Fit a group of power spectra with the .fit() method\n#  The key difference (compared to FOOOF) is that it takes a 2D array of spectra\n#     This matrix should have the shape of [n_spectra, n_freqs]\nfg.fit(freqs, spectra, [3, 30])"
      ]
    },
    {
      "cell_type": "code",
      "execution_count": null,
      "metadata": {
        "collapsed": false
      },
      "outputs": [],
      "source": [
        "# Print out results\nfg.print_results()"
      ]
    },
    {
      "cell_type": "code",
      "execution_count": null,
      "metadata": {
        "collapsed": false
      },
      "outputs": [],
      "source": [
        "# Plot a summary of the results across the group\nfg.plot()"
      ]
    },
    {
      "cell_type": "markdown",
      "metadata": {},
      "source": [
        "Just as with the FOOOF object, you can call the convenience method\n:meth:`fooof.FOOOFGroup.report` to run the fitting, and then print the results and plots.\n\n\n"
      ]
    },
    {
      "cell_type": "code",
      "execution_count": null,
      "metadata": {
        "collapsed": false
      },
      "outputs": [],
      "source": [
        "# You can also save out PDF reports of the FOOOFGroup fits, same as with FOOOF\nfg.save_report('FOOOFGroup_report')"
      ]
    },
    {
      "cell_type": "markdown",
      "metadata": {},
      "source": [
        "## FOOOFGroup Results\n\nFOOOFGroup collects fits across power spectra, and stores them in an attribute\ncalled ``group_results``, which is a list of FOOOFResults objects.\n\n\n"
      ]
    },
    {
      "cell_type": "code",
      "execution_count": null,
      "metadata": {
        "collapsed": false
      },
      "outputs": [],
      "source": [
        "# Check out some of the results stored in 'group_results'\nprint(fg.group_results[0:2])"
      ]
    },
    {
      "cell_type": "markdown",
      "metadata": {},
      "source": [
        "### get_params\n\nTo collect results from across all model fits, and to select specific parameters\nyou can use the :func:`~fooof.FOOOFGroup.get_params` method.\n\nThis method works the same as in the :class:`~fooof.FOOOF` object, and lets you extract\nspecific results by specifying a field, as a string, and (optionally) a specific column\nto extract.\n\nSince the :class:`~fooof.FOOOFGroup` object collects results from across multiple model fits,\nyou should always use :func:`~fooof.FOOOFGroup.get_params` to access model parameters.\nThe results attributes introduced with the FOOOF object (such as `aperiodic_params_` or\n`peak_params_`) do not store results across the group, as they are defined for individual\nmodel fits (and used internally as such by the FOOOFGroup object).\n\n\n"
      ]
    },
    {
      "cell_type": "code",
      "execution_count": null,
      "metadata": {
        "collapsed": false
      },
      "outputs": [],
      "source": [
        "# Extract aperiodic parameters\naps = fg.get_params('aperiodic_params')\nexps = fg.get_params('aperiodic_params', 'exponent')\n\n# Extract peak parameters\npeaks = fg.get_params('peak_params')\ncfs = fg.get_params('peak_params', 'CF')\n\n# Extract goodness-of-fit metrics\nerrors = fg.get_params('error')\nr2s = fg.get_params('r_squared')"
      ]
    },
    {
      "cell_type": "code",
      "execution_count": null,
      "metadata": {
        "collapsed": false
      },
      "outputs": [],
      "source": [
        "# The full list of parameters you can extract is available in the documentation of `get_params`\nprint(fg.get_params.__doc__)"
      ]
    },
    {
      "cell_type": "markdown",
      "metadata": {},
      "source": [
        "More information about the parameters you can extract is also documented in the\nFOOOFResults object.\n\n\n"
      ]
    },
    {
      "cell_type": "code",
      "execution_count": null,
      "metadata": {
        "collapsed": false
      },
      "outputs": [],
      "source": [
        "# Grab a particular FOOOFResults item\n#  Note that as a shortcut, you can index the FOOOFGroup object directly to access 'group_results'\nf_res = fg[0]\n\n# Check the documentation for the FOOOFResults, which has descriptions of the parameters\nprint(f_res.__doc__)"
      ]
    },
    {
      "cell_type": "code",
      "execution_count": null,
      "metadata": {
        "collapsed": false
      },
      "outputs": [],
      "source": [
        "# Check out the extracted exponent values\n#  Note that this extraction will return an array of length equal to the number of model fits\n#    The model fit that each parameter relates to is the index of this array\nprint(exps)"
      ]
    },
    {
      "cell_type": "code",
      "execution_count": null,
      "metadata": {
        "collapsed": false
      },
      "outputs": [],
      "source": [
        "# Check out some of the fit center-frequencies\n#  Note when you extract peak parameters, an extra column is returned,\n#  specifying which model fit it came from\nprint(cfs[0:10, :])"
      ]
    },
    {
      "cell_type": "markdown",
      "metadata": {},
      "source": [
        "### Saving & Loading with FOOOFGroup\n\nFOOOFGroup also support saving and loading, with the same options for saving out\ndifferent things as defined and described for the FOOOF object.\n\nThe only difference in saving FOOOFGroup, is that it saves out a 'jsonlines' file,\nin which each line is a JSON object, saving the specified data, settings, and results for\na single power spectrum.\n\n\n"
      ]
    },
    {
      "cell_type": "code",
      "execution_count": null,
      "metadata": {
        "collapsed": false
      },
      "outputs": [],
      "source": [
        "# Save out FOOOFGroup settings & results\nfg.save('FG_results', save_settings=True, save_results=True)"
      ]
    },
    {
      "cell_type": "code",
      "execution_count": null,
      "metadata": {
        "collapsed": false
      },
      "outputs": [],
      "source": [
        "# You can then reload this group\nnfg = FOOOFGroup()\nnfg.load('FG_results')"
      ]
    },
    {
      "cell_type": "code",
      "execution_count": null,
      "metadata": {
        "collapsed": false
      },
      "outputs": [],
      "source": [
        "# Print results to check that the loaded group\nnfg.print_results()"
      ]
    },
    {
      "cell_type": "markdown",
      "metadata": {},
      "source": [
        "### Parallel Support\n\nFOOOFGroup also has support for running in parallel, which can speed things up, since\neach power spectrum can be fit independently.\n\nThe fit method includes an optional parameter ``n_jobs``, which if set at 1 (as default),\nwill fit models linearly (one at a time, in order). If you set this parameter to some other\ninteger, fitting will launch 'n_jobs' number of jobs, in parallel. Setting n_jobs to -1 will\nlaunch model fitting in parallel across all available cores.\n\nNote, however, that fitting power spectrum models in parallel does not guarantee a quicker\nruntime overall. The computation time per model fit scales with the frequency range fit over,\nand the 'complexity' of the power spectra, in terms of number of peaks. For relatively small\nnumbers of power spectra (less than ~100), across relatively small frequency ranges\n(say ~3-40Hz), running in parallel may offer no appreciable speed up.\n\n\n"
      ]
    },
    {
      "cell_type": "code",
      "execution_count": null,
      "metadata": {
        "collapsed": false
      },
      "outputs": [],
      "source": [
        "# Fit power spectrum models across a group of power spectra in parallel, using all cores\nfg.fit(freqs, spectra, n_jobs=-1)"
      ]
    },
    {
      "cell_type": "markdown",
      "metadata": {},
      "source": [
        "### Progress Bar\n\nIf you have a large number of spectra to fit with a :class:`~fooof.FOOOFGroup`, and you\nwant to monitor it's progress, you can also use a progress bar to print out fitting progress.\n\nProgress bar options are:\n\n- ``tqdm`` : a progress bar for running in terminals\n- ``tqdm.notebook`` : a progress bar for running in Jupyter notebooks\n\n\n"
      ]
    },
    {
      "cell_type": "code",
      "execution_count": null,
      "metadata": {
        "collapsed": false
      },
      "outputs": [],
      "source": [
        "# Fit power spectrum models across a group of power spectra, printing a progress bar\nfg.fit(freqs, spectra, progress='tqdm')"
      ]
    },
    {
      "cell_type": "markdown",
      "metadata": {},
      "source": [
        "### Extracting Individual Fits\n\nWhen fitting power spectrum models for a group of power spectra, results are stored\nin FOOOFResults objects, which store (only) the results of the model fit,\nnot the full model fits themselves.\n\nTo examine individual model fits, :class:`~fooof.FOOOFGroup` can regenerate\n:class:`~fooof.FOOOF` objects for individual power spectra, with the full model available\nfor visualization. To do so, you can use the :meth:`~fooof.FOOOFGroup.get_fooof` method.\n\n\n"
      ]
    },
    {
      "cell_type": "code",
      "execution_count": null,
      "metadata": {
        "collapsed": false
      },
      "outputs": [],
      "source": [
        "# Extract a particular spectrum, specified by index\n#  Here we also specify to regenerate the the full model fit, from the results\nfm = fg.get_fooof(ind=2, regenerate=True)"
      ]
    },
    {
      "cell_type": "code",
      "execution_count": null,
      "metadata": {
        "collapsed": false
      },
      "outputs": [],
      "source": [
        "# Print results and plot extracted model fit\nfm.print_results()\nfm.plot()"
      ]
    },
    {
      "cell_type": "markdown",
      "metadata": {},
      "source": [
        "## Conclusion\n\nNow we have explored fitting power spectrum models and running these fits across multiple\npower spectra. Next we dig deeper into how to choose and tune the algorithm settings,\nand how to troubleshoot if any of the fitting seems to go wrong.\n\n\n"
      ]
    }
  ],
  "metadata": {
    "kernelspec": {
      "display_name": "Python 3",
      "language": "python",
      "name": "python3"
    },
    "language_info": {
      "codemirror_mode": {
        "name": "ipython",
        "version": 3
      },
      "file_extension": ".py",
      "mimetype": "text/x-python",
      "name": "python",
      "nbconvert_exporter": "python",
      "pygments_lexer": "ipython3",
      "version": "3.8.3"
    }
  },
  "nbformat": 4,
  "nbformat_minor": 0
}