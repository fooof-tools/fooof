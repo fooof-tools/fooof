{
  "cells": [
    {
      "cell_type": "markdown",
      "metadata": {},
      "source": [
        "\n# Simulation Parameters\n\nManage parameters for creating simulated power spectra.\n"
      ]
    },
    {
      "cell_type": "code",
      "execution_count": null,
      "metadata": {
        "collapsed": false
      },
      "outputs": [],
      "source": [
        "# Import simulation functions for creating spectra\nfrom fooof.sim.gen import gen_power_spectrum, gen_group_power_spectra\n\n# Import simulation utilities for managing parameters\nfrom fooof.sim.params import param_sampler, param_iter, param_jitter, Stepper\n\n# Import plotting functions to visualize spectra\nfrom fooof.plts.spectra import plot_spectra"
      ]
    },
    {
      "cell_type": "markdown",
      "metadata": {},
      "source": [
        "## Simulation Parameters\n\nOne of the useful things about using simulated data is being able to compare results\nto ground truth values - but in order to do that, one needs to keep track of the\nsimulation parameters themselves.\n\nTo do so, there is the :obj:`~.SimParams` object to manage\nand keep track of simulation parameters.\n\nFor example, when you simulate power spectra, the parameters for each spectrum are stored\nin a :obj:`~.SimParams` object, and then these objects are collected and returned.\n\nSimParams objects are named tuples with the following fields:\n\n- ``aperiodic_params``\n- ``periodic_params``\n- ``nlv``\n\n\n"
      ]
    },
    {
      "cell_type": "code",
      "execution_count": null,
      "metadata": {
        "collapsed": false
      },
      "outputs": [],
      "source": [
        "# Set up settings for simulating a group of power spectra\nn_spectra = 2\nfreq_range = [3, 40]\nap_params = [[0.5, 1], [1, 1.5]]\npe_params = [[10, 0.4, 1], [10, 0.2, 1, 22, 0.1, 3]]\nnlv = 0.02"
      ]
    },
    {
      "cell_type": "code",
      "execution_count": null,
      "metadata": {
        "collapsed": false
      },
      "outputs": [],
      "source": [
        "# Simulate a group of power spectra\nfreqs, powers, sim_params = gen_group_power_spectra(n_spectra, freq_range, ap_params,\n                                                    pe_params, nlv, return_params=True)"
      ]
    },
    {
      "cell_type": "code",
      "execution_count": null,
      "metadata": {
        "collapsed": false
      },
      "outputs": [],
      "source": [
        "# Print out the SimParams objects that track the parameters used to create power spectra\nfor sim_param in sim_params:\n    print(sim_param)"
      ]
    },
    {
      "cell_type": "code",
      "execution_count": null,
      "metadata": {
        "collapsed": false
      },
      "outputs": [],
      "source": [
        "# You can also use a SimParams object to regenerate a particular power spectrum\ncur_params = sim_params[0]\nfreqs, powers = gen_power_spectrum(freq_range, *cur_params)"
      ]
    },
    {
      "cell_type": "markdown",
      "metadata": {},
      "source": [
        "## Managing Parameters\n\nThere are also helper functions for managing and selecting parameters for\nsimulating groups of power spectra.\n\nThese functions include:\n\n- :func:`~.param_sampler` which can be used to sample parameters from possible options\n- :func:`~.param_iter` which can be used to iterate across parameter ranges\n- :func:`~.param_jitter` which can be used to add some 'jitter' to simulation parameters\n\n\n"
      ]
    },
    {
      "cell_type": "markdown",
      "metadata": {},
      "source": [
        "### param_sampler\n\nThe :func:`~.param_sampler` function takes a list of parameter options and\nrandomly selects from the parameters to create each power spectrum. You can also optionally\nspecify the probabilities with which to sample from the options.\n\n\n"
      ]
    },
    {
      "cell_type": "code",
      "execution_count": null,
      "metadata": {
        "collapsed": false
      },
      "outputs": [],
      "source": [
        "# Create a sampler to choose from two options for aperiodic parameters\nap_opts = param_sampler([[1, 1.25], [1, 1]])\n\n# Create sampler to choose from two options for periodic parameters, and specify probabilities\npe_opts = param_sampler([[10, 0.5, 1], [[10, 0.5, 1], [20, 0.25, 2]]],\n                        probs=[0.75, 0.25])"
      ]
    },
    {
      "cell_type": "code",
      "execution_count": null,
      "metadata": {
        "collapsed": false
      },
      "outputs": [],
      "source": [
        "# Generate some power spectra, using param_sampler\nfreqs, powers = gen_group_power_spectra(10, freq_range, ap_opts, pe_opts)"
      ]
    },
    {
      "cell_type": "code",
      "execution_count": null,
      "metadata": {
        "collapsed": false
      },
      "outputs": [],
      "source": [
        "# Plot some of the spectra that were generated\nplot_spectra(freqs, powers[0:4, :], log_powers=True)"
      ]
    },
    {
      "cell_type": "markdown",
      "metadata": {},
      "source": [
        "### param_iter\n\nThe :func:`~.param_iter` function can be used to create iterators that\ncan 'step' across a range of parameter values to be simulated.\n\nThe :class:`~.Stepper` object needs to be used in conjunction with\n:func:`~.param_iter`, as it specifies the values to be iterated across.\n\n\n"
      ]
    },
    {
      "cell_type": "code",
      "execution_count": null,
      "metadata": {
        "collapsed": false
      },
      "outputs": [],
      "source": [
        "# Set the aperiodic parameters to be stable\nap_params = [1, 1]\n\n# Use a stepper object to define the range of values to step across\n#   Stepper is defined with `start, stop, step`\n#   Here we'll define a step across alpha center frequency values\ncf_steps = Stepper(8, 12, 1)\n\n# We can use use param_iter, with our Stepper object, to create the full peak params\n#   The other parameter values will be held constant as we step across CF values\npe_params = param_iter([cf_steps, 0.4, 1])"
      ]
    },
    {
      "cell_type": "code",
      "execution_count": null,
      "metadata": {
        "collapsed": false
      },
      "outputs": [],
      "source": [
        "# Generate some power spectra, using param_iter\nfreqs, powers = gen_group_power_spectra(len(cf_steps), freq_range, ap_params, pe_params)"
      ]
    },
    {
      "cell_type": "code",
      "execution_count": null,
      "metadata": {
        "collapsed": false
      },
      "outputs": [],
      "source": [
        "# Plot the generated spectra\nplot_spectra(freqs, powers, log_freqs=True, log_powers=True)"
      ]
    },
    {
      "cell_type": "markdown",
      "metadata": {},
      "source": [
        "### param_jitter\n\nThe :func:`~.param_jitter` function can be used to create iterators that\napply some 'jitter' to the defined parameter values.\n\n\n"
      ]
    },
    {
      "cell_type": "code",
      "execution_count": null,
      "metadata": {
        "collapsed": false
      },
      "outputs": [],
      "source": [
        "# Define default aperiodic values, with some jitter\n#   The first input is the default values, the second the scale of the jitter\n#   You can set zero for any value that should not be jittered\nap_params = param_jitter([1, 1], [0.0, 0.15])\n\n# Define the peak parameters, to be stable, with an alpha and a beta\npe_params = [10, 0.2, 1, 22, 0.1, 3]"
      ]
    },
    {
      "cell_type": "code",
      "execution_count": null,
      "metadata": {
        "collapsed": false
      },
      "outputs": [],
      "source": [
        "# Generate some power spectra, using param_jitter\nfreqs, powers = gen_group_power_spectra(5, freq_range, ap_params, pe_params)"
      ]
    },
    {
      "cell_type": "code",
      "execution_count": null,
      "metadata": {
        "collapsed": false
      },
      "outputs": [],
      "source": [
        "# Plot the generated spectra\nplot_spectra(freqs, powers, log_freqs=True, log_powers=True)"
      ]
    },
    {
      "cell_type": "markdown",
      "metadata": {},
      "source": [
        "We can see that in the generated spectra above, there is some jitter\nto the simulated aperiodic exponent values.\n\n\n"
      ]
    }
  ],
  "metadata": {
    "kernelspec": {
      "display_name": "Python 3",
      "language": "python",
      "name": "python3"
    },
    "language_info": {
      "codemirror_mode": {
        "name": "ipython",
        "version": 3
      },
      "file_extension": ".py",
      "mimetype": "text/x-python",
      "name": "python",
      "nbconvert_exporter": "python",
      "pygments_lexer": "ipython3",
      "version": "3.8.3"
    }
  },
  "nbformat": 4,
  "nbformat_minor": 0
}