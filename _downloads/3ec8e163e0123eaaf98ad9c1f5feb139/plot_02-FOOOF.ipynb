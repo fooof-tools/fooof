{
  "cells": [
    {
      "cell_type": "markdown",
      "metadata": {},
      "source": [
        "\n# 02: Fitting Power Spectrum Models\n\nIntroduction to the module, beginning with the FOOOF object.\n"
      ]
    },
    {
      "cell_type": "code",
      "execution_count": null,
      "metadata": {
        "collapsed": false
      },
      "outputs": [],
      "source": [
        "# Import the FOOOF object\nfrom fooof import FOOOF\n\n# Import a utility to download and load example data\nfrom fooof.utils.download import load_fooof_data"
      ]
    },
    {
      "cell_type": "code",
      "execution_count": null,
      "metadata": {
        "collapsed": false
      },
      "outputs": [],
      "source": [
        "# Download example data files needed for this example\nfreqs = load_fooof_data('freqs.npy', folder='data')\nspectrum = load_fooof_data('spectrum.npy', folder='data')"
      ]
    },
    {
      "cell_type": "markdown",
      "metadata": {},
      "source": [
        "## FOOOF Object\n\nAt the core of the module is the :class:`~fooof.FOOOF` object, which holds relevant data\nand settings as attributes, and contains methods to run the algorithm to parameterize\nneural power spectra.\n\nThe organization and use of the model object is similar to scikit-learn:\n\n- A model object is initialized, with relevant settings\n- The model is used to fit the data\n- Results can be extracted from the object\n\n\n"
      ]
    },
    {
      "cell_type": "markdown",
      "metadata": {},
      "source": [
        "### Calculating Power Spectra\n\nThe :class:`~fooof.FOOOF` object fits models to power spectra. The module itself does not\ncompute power spectra. Computing power spectra needs to be done prior to using\nthe FOOOF module.\n\nThe model is broadly agnostic to exactly how power spectra are computed. Common\nmethods, such as Welch's method, can be used to compute the spectrum.\n\nIf you need a module in Python that has functionality for computing power spectra, try\n[NeuroDSP](https://neurodsp-tools.github.io/neurodsp/).\n\nNote that FOOOF objects require frequency and power values passed in as inputs to\nbe in linear spacing. Passing in non-linear spaced data (such logged values) may\nproduce erroneous results.\n\n\n"
      ]
    },
    {
      "cell_type": "markdown",
      "metadata": {},
      "source": [
        "## Fitting an Example Power Spectrum\n\nThe following example demonstrates fitting a power spectrum model to a single power spectrum.\n\n\n"
      ]
    },
    {
      "cell_type": "code",
      "execution_count": null,
      "metadata": {
        "collapsed": false
      },
      "outputs": [],
      "source": [
        "# Initialize a FOOOF object\nfm = FOOOF()\n\n# Set the frequency range to fit the model\nfreq_range = [2, 40]\n\n# Report: fit the model, print the resulting parameters, and plot the reconstruction\nfm.report(freqs, spectrum, freq_range)"
      ]
    },
    {
      "cell_type": "markdown",
      "metadata": {},
      "source": [
        "### Fitting Models with 'Report'\n\nThe above method 'report', is a convenience method that calls a series of methods:\n\n- :meth:`~fooof.FOOOF.fit`: fits the power spectrum model\n- :meth:`~fooof.FOOOF.print_results`: prints out the results\n- :meth:`~fooof.FOOOF.plot`: plots the data and model fit\n\nEach of these methods can also be called individually.\n\n\n"
      ]
    },
    {
      "cell_type": "code",
      "execution_count": null,
      "metadata": {
        "collapsed": false
      },
      "outputs": [],
      "source": [
        "# Alternatively, just fit the model with FOOOF.fit() (without printing anything)\nfm.fit(freqs, spectrum, freq_range)\n\n# After fitting, plotting and parameter fitting can be called independently:\n# fm.print_results()\n# fm.plot()"
      ]
    },
    {
      "cell_type": "markdown",
      "metadata": {},
      "source": [
        "### Model Parameters\n\nOnce the power spectrum model has been calculated, the model fit parameters are stored\nas object attributes that can be accessed after fitting.\n\nFollowing scikit-learn conventions, attributes that are fit as a result of\nthe model have a trailing underscore, for example:\n\n- ``aperiodic_params_``\n- ``peak_params_``\n- ``error_``\n- ``r2_``\n- ``n_peaks_``\n\n\n"
      ]
    },
    {
      "cell_type": "markdown",
      "metadata": {},
      "source": [
        "Access model fit parameters from FOOOF object, after fitting:\n\n\n"
      ]
    },
    {
      "cell_type": "code",
      "execution_count": null,
      "metadata": {
        "collapsed": false
      },
      "outputs": [],
      "source": [
        "# Aperiodic parameters\nprint('Aperiodic parameters: \\n', fm.aperiodic_params_, '\\n')\n\n# Peak parameters\nprint('Peak parameters: \\n', fm.peak_params_, '\\n')\n\n# Goodness of fit measures\nprint('Goodness of fit:')\nprint(' Error - ', fm.error_)\nprint(' R^2   - ', fm.r_squared_, '\\n')\n\n# Check how many peaks were fit\nprint('Number of fit peaks: \\n', fm.n_peaks_)"
      ]
    },
    {
      "cell_type": "markdown",
      "metadata": {},
      "source": [
        "### Selecting Parameters\n\nYou can also select parameters using the :meth:`~fooof.FOOOF.get_params`\nmethod, which can be used to specify which parameters you want to extract.\n\n\n"
      ]
    },
    {
      "cell_type": "code",
      "execution_count": null,
      "metadata": {
        "collapsed": false
      },
      "outputs": [],
      "source": [
        "# Extract a model parameter with `get_params`\nerr = fm.get_params('error')\n\n# Extract parameters, indicating sub-selections of parameters\nexp = fm.get_params('aperiodic_params', 'exponent')\ncfs = fm.get_params('peak_params', 'CF')\n\n# Print out a custom parameter report\ntemplate = (\"With an error level of {error:1.2f}, FOOOF fit an exponent \"\n            \"of {exponent:1.2f} and peaks of {cfs:s} Hz.\")\nprint(template.format(error=err, exponent=exp,\n                      cfs=' & '.join(map(str, [round(cf, 2) for cf in cfs]))))"
      ]
    },
    {
      "cell_type": "markdown",
      "metadata": {},
      "source": [
        "For a full description of how you can access data with :meth:`~fooof.FOOOF.get_params`,\ncheck the method's documentation.\n\nAs a reminder, you can access the documentation for a function using '?' in a\nJupyter notebook (ex: `fm.get_params?`), or more generally with the `help` function\nin general Python (ex: `help(fm.get_params)`).\n\n\n"
      ]
    },
    {
      "cell_type": "markdown",
      "metadata": {},
      "source": [
        "## Notes on Interpreting Peak Parameters\n\nPeak parameters are labeled as:\n\n- CF: center frequency of the extracted peak\n- PW: power of the peak, over and above the aperiodic component\n- BW: bandwidth of the extracted peak\n\nNote that the peak parameters that are returned are not exactly the same as the\nparameters of the Gaussians used internally to fit the peaks.\n\nSpecifically:\n\n- CF is the exact same as mean parameter of the Gaussian\n- PW is the height of the model fit above the aperiodic component [1],\n  which is not necessarily the same as the Gaussian height\n- BW is 2 * the standard deviation of the Gaussian [2]\n\n[1] Since the Gaussians are fit together, if any Gaussians overlap,\nthan the actual height of the fit at a given point can only be assessed\nwhen considering all Gaussians. To be better able to interpret heights\nfor individual peaks, we re-define the peak height as above, and label it\nas 'power', as the units of the input data are expected to be units of power.\n\n[2] Gaussian standard deviation is '1 sided', where as the returned BW is '2 sided'.\n\n\n"
      ]
    },
    {
      "cell_type": "markdown",
      "metadata": {},
      "source": [
        "The underlying gaussian parameters are also available from the FOOOF object,\nin the ``gaussian_params_`` attribute.\n\n\n"
      ]
    },
    {
      "cell_type": "code",
      "execution_count": null,
      "metadata": {
        "collapsed": false
      },
      "outputs": [],
      "source": [
        "# Compare the 'peak_params_' to the underlying gaussian parameters\nprint('  Peak Parameters \\t Gaussian Parameters')\nfor peak, gauss in zip(fm.peak_params_, fm.gaussian_params_):\n    print('{:5.2f} {:5.2f} {:5.2f} \\t {:5.2f} {:5.2f} {:5.2f}'.format(*peak, *gauss))"
      ]
    },
    {
      "cell_type": "markdown",
      "metadata": {},
      "source": [
        "### FOOOFResults\n\nThere is also a convenience method to return all model fit results:\n:func:`~fooof.FOOOF.get_results`.\n\nThis method returns all the model fit parameters, including the underlying Gaussian\nparameters, collected together into a FOOOFResults object.\n\nThe FOOOFResults object, which in Python terms is a named tuple, is a standard data\nobject used with FOOOF to organize and collect parameter data.\n\n\n"
      ]
    },
    {
      "cell_type": "code",
      "execution_count": null,
      "metadata": {
        "collapsed": false
      },
      "outputs": [],
      "source": [
        "# Grab each model fit result with `get_results` to gather all results together\n#   Note that this returns a FOOOFResult object\nfres = fm.get_results()\n\n# You can also unpack all fit parameters when using `get_results`\nap_params, peak_params, r_squared, fit_error, gauss_params = fm.get_results()"
      ]
    },
    {
      "cell_type": "code",
      "execution_count": null,
      "metadata": {
        "collapsed": false
      },
      "outputs": [],
      "source": [
        "# Print out the FOOOFResults\nprint(fres, '\\n')\n\n# From FOOOFResults, you can access the different results\nprint('Aperiodic Parameters: \\n', fres.aperiodic_params)\n\n# Check the R^2 and error of the model fit\nprint('R-squared: \\n {:5.4f}'.format(fm.r_squared_))\nprint('Fit error: \\n {:5.4f}'.format(fm.error_))"
      ]
    },
    {
      "cell_type": "markdown",
      "metadata": {},
      "source": [
        "## Conclusion\n\nIn this tutorial, we have explored the basics of the :class:`~fooof.FOOOF` object,\nfitting power spectrum models, and extracting parameters.\n\nIn the next tutorial, we will explore how this algorithm actually works to fit the model.\n\n\n"
      ]
    }
  ],
  "metadata": {
    "kernelspec": {
      "display_name": "Python 3",
      "language": "python",
      "name": "python3"
    },
    "language_info": {
      "codemirror_mode": {
        "name": "ipython",
        "version": 3
      },
      "file_extension": ".py",
      "mimetype": "text/x-python",
      "name": "python",
      "nbconvert_exporter": "python",
      "pygments_lexer": "ipython3",
      "version": "3.8.3"
    }
  },
  "nbformat": 4,
  "nbformat_minor": 0
}