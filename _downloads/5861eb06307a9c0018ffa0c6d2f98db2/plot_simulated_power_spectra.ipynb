{
  "cells": [
    {
      "cell_type": "markdown",
      "metadata": {},
      "source": [
        "\n# Simulating Neural Power Spectra\n\nCreating simulated power spectra.\n"
      ]
    },
    {
      "cell_type": "code",
      "execution_count": null,
      "metadata": {
        "collapsed": false
      },
      "outputs": [],
      "source": [
        "# Import functions for creating simulated power spectra\nfrom fooof.sim.gen import gen_power_spectrum, gen_group_power_spectra\n\n# Import plotting functions\nfrom fooof.plts.spectra import plot_spectra"
      ]
    },
    {
      "cell_type": "markdown",
      "metadata": {},
      "source": [
        "## Creating Simulated Power Spectra\n\nThe module also contains utilities to create simulated power spectra. Power spectra\nare simulated using the same model and conception that the model employs, namely that\nneural power spectra can be conceptualized as an aperiodic component, with overlying\nperiodic peaks.\n\nTo simulate power spectra, required parameters are:\n\n- ``freq_range``: the frequency range to simulate across\n- ``aperiodic_params``: parameters that define the aperiodic component\n\n  - this component is defined with 2 or 3 parameters, as [offset, (knee), exponent]\n- ``gaussian_params``: parameters that define the periodic component\n\n  - each peak is defined with three parameters, as [center frequency, height, width]\n\nThe :func:`~.gen_power_spectrum` function takes these parameters as input to\ncreate and return a simulated power spectrum. Note that the parameters that define the peaks\nare labeled as gaussian parameters, as these parameters define the simulated gaussians\ndirectly, and are not the modified peak parameters that the model outputs.\n\n\n"
      ]
    },
    {
      "cell_type": "code",
      "execution_count": null,
      "metadata": {
        "collapsed": false
      },
      "outputs": [],
      "source": [
        "# Settings & parameters for creating a simulated power spectrum\nfreq_range = [3, 40]              # The frequency range to simulate\naperiodic_params = [1, 1]         # Parameters defining the aperiodic component\nperiodic_params = [10, 0.3, 1]    # Parameters for any periodic components"
      ]
    },
    {
      "cell_type": "code",
      "execution_count": null,
      "metadata": {
        "collapsed": false
      },
      "outputs": [],
      "source": [
        "# Generate a simulated power spectrum\nfreqs, powers = gen_power_spectrum(freq_range, aperiodic_params, periodic_params)"
      ]
    },
    {
      "cell_type": "code",
      "execution_count": null,
      "metadata": {
        "collapsed": false
      },
      "outputs": [],
      "source": [
        "# Plot the simulated power spectrum\nplot_spectra(freqs, powers, log_freqs=True, log_powers=False)"
      ]
    },
    {
      "cell_type": "markdown",
      "metadata": {},
      "source": [
        "## Simulating With Different Parameters\n\nPower spectra can be simulated with any desired parameters in the power spectrum model.\n\nThe aperiodic mode for the simulated power spectrum is inferred from the parameters provided.\nIf two parameters are provided, this is interpreted as [offset, exponent] for simulating\na power spectra with a 'fixed' aperiodic component. If three parameters are provided, as in\nthe example below, this is interpreted as [offset, knee, exponent] for a 'knee' spectrum.\n\nPower spectra can also be simulated with any number of peaks. Peaks can be listed in a flat\nlist with [center frequency, height, bandwidth] listed for as many peaks as you would\nlike to add, or as a list of lists containing the same information.\n\nThe following example shows simulating a different power spectrum with some different\nsetttings, also changing the noise level added to the spectrum, and the frequency\nresolution of the simulated spectrum.\n\n\n"
      ]
    },
    {
      "cell_type": "code",
      "execution_count": null,
      "metadata": {
        "collapsed": false
      },
      "outputs": [],
      "source": [
        "# Define the frequency range to simulate across\nfreq_range = [1, 60]\n# Define the frequency resolution to simulate with\nfreq_res = 0.25\n# Define the amount of noise to add to the spectrum\nnlv = 0.01\n\n# Define aperiodic params, as [offset, knee, exponent]\naperiodic_params = [1, 500, 2]\n\n# Define periodic params, as a flat list of [CF, PW, BW] for each peak\n#   This could also be written as [[9, 0.4, 1], [24, 0.2, 3]]\nperiodic_params = [9, 0.4, 1, 24, 0.2, 3]"
      ]
    },
    {
      "cell_type": "code",
      "execution_count": null,
      "metadata": {
        "collapsed": false
      },
      "outputs": [],
      "source": [
        "# Generate the new simulated power spectrum\nfreqs, powers = gen_power_spectrum(freq_range, aperiodic_params,\n                                   periodic_params, nlv, freq_res)"
      ]
    },
    {
      "cell_type": "code",
      "execution_count": null,
      "metadata": {
        "collapsed": false
      },
      "outputs": [],
      "source": [
        "# Plot the new simulated power spectrum\nplot_spectra(freqs, powers, log_powers=True)"
      ]
    },
    {
      "cell_type": "markdown",
      "metadata": {},
      "source": [
        "## Simulating a Group of Power Spectra\n\nFor simulating multiple power spectra, the :func:`~.gen_group_power_spectra` can be used.\n\nThis function takes the same kind of parameter definitions as\n:func:`~.gen_power_spectrum`, and in addition takes a number specifying\nhow many power spectra to simulate, returning a 2D matrix containing the\ndesired number of spectra.\n\nParameters that are passed into :func:`~.gen_group_power_spectra` can be:\n\n- a single definition, whereby the same value is used for all generated spectra\n- a list of parameters, whereby each successive entry is used for each successive spectrum\n- a function or generator that can be called to return parameters for each spectrum\n\n\n"
      ]
    },
    {
      "cell_type": "code",
      "execution_count": null,
      "metadata": {
        "collapsed": false
      },
      "outputs": [],
      "source": [
        "# Create some new settings for simulating a group of power spectra\nn_spectra = 2\nfreq_range = [3, 40]\nnlv = 0.02\n\n# Aperiodic params: define values for each spectrum, with length equal to n_spectra\naperiodic_params = [[0.5, 1], [1, 1.5]]\n\n# Periodic parameters: define a single definition, to be applied to all spectra\nperiodic_params = [10, 0.4, 1]"
      ]
    },
    {
      "cell_type": "code",
      "execution_count": null,
      "metadata": {
        "collapsed": false
      },
      "outputs": [],
      "source": [
        "# Simulate a group of power spectra\nfreqs, powers = gen_group_power_spectra(n_spectra, freq_range, aperiodic_params,\n                                        periodic_params, nlv)"
      ]
    },
    {
      "cell_type": "code",
      "execution_count": null,
      "metadata": {
        "collapsed": false
      },
      "outputs": [],
      "source": [
        "# Plot the power spectra that were just generated\nplot_spectra(freqs, powers, log_freqs=True, log_powers=True)"
      ]
    },
    {
      "cell_type": "markdown",
      "metadata": {},
      "source": [
        "## Tracking Simulation Parameters\n\nWhen you start simulating multiple power spectra across different parameters,\nyou may want to keep track of these parameters, so that you can compare any measure\ntaken on these power spectra to ground truth values.\n\nWhen simulating power spectra, you also have the option of returning SimParams objects\nthat keep track of the simulation parameters.\n\n\n"
      ]
    },
    {
      "cell_type": "code",
      "execution_count": null,
      "metadata": {
        "collapsed": false
      },
      "outputs": [],
      "source": [
        "# Simulate a power spectrum, returning the simulation parameter information\nfreqs, powers, sp = gen_power_spectrum([1, 50], [1, 1], [10, 0.25, 1.5],\n                                       0.01, return_params=True)\n\n# Check the information stored in the simulation params object\nprint(sp)"
      ]
    },
    {
      "cell_type": "code",
      "execution_count": null,
      "metadata": {
        "collapsed": false
      },
      "outputs": [],
      "source": [
        "# Simulate a group of power spectrum, returning the simulation parameter information\nfreqs, powers, sps = gen_group_power_spectra(3, [1, 150], [1, 100, 150],\n                                             [4, 0.2, 2, 22, 0.15, 3],\n                                             0.01, return_params=True)\n\n# Check the information stored in the simulation params object\nprint(sps)"
      ]
    },
    {
      "cell_type": "markdown",
      "metadata": {},
      "source": [
        "More description of the SimParams object, and other utilities to manage parameters\nfor simulating groups of power spectra can be found in the `Simulation Parameters` example.\n\n\n"
      ]
    }
  ],
  "metadata": {
    "kernelspec": {
      "display_name": "Python 3",
      "language": "python",
      "name": "python3"
    },
    "language_info": {
      "codemirror_mode": {
        "name": "ipython",
        "version": 3
      },
      "file_extension": ".py",
      "mimetype": "text/x-python",
      "name": "python",
      "nbconvert_exporter": "python",
      "pygments_lexer": "ipython3",
      "version": "3.8.3"
    }
  },
  "nbformat": 4,
  "nbformat_minor": 0
}