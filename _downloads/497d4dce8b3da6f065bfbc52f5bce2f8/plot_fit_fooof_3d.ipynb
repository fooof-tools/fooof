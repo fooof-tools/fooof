{
  "cells": [
    {
      "cell_type": "markdown",
      "metadata": {},
      "source": [
        "\n# Fitting Power Spectrum Models Across 3D Arrays\n\nFitting power spectrum models across 3D arrays of power spectra.\n"
      ]
    },
    {
      "cell_type": "markdown",
      "metadata": {},
      "source": [
        "## Running Across 3D\n\nMost of the materials so far have explored using the :class:`~fooof.FOOOF` object to fit\nindividual power spectra, and the :class:`~fooof.FOOOFGroup` object for fitting groups of\npower spectra, where a group of spectra is organized as a 2D array of power spectra.\n\nIn this example, we'll go one step further, and step through how to analyze data\norganized into 3D arrays.\n\n\n"
      ]
    },
    {
      "cell_type": "markdown",
      "metadata": {},
      "source": [
        "### Organizing Data into 3D Objects\n\nElectrophysiological data typically has multiple dimensions including, for example,\nthe number of subjects, the number of channels and/or recording regions, the number\nof conditions, and/or the number of trials.\n\nThis often means that we organize our data into multi-dimensional arrays.\n\nSo, for example, a 3D array of power spectra could reflect:\n\n- power spectra across task conditions, as [n_conditions, n_channels, n_freqs]\n- power spectra across data epochs within subjects, as [n_epochs, n_channels, n_freqs]\n- power spectra across a group of subjects, as [n_subjects, n_channels, n_freqs]\n- power spectra across regions, as [n_regions, n_channels, n_freqs]\n\nIf you do have data that is or can be organized into 3D arrays, here we will\nexplore how to fit, manage, and organize this data.\n\nA reminder that no matter how the data is organized, it's always the exact same model\nthat is fit, that is the one defined in the FOOOF object. All other objects or organizations\nuse this same code to do the fitting. For example, the FOOOFGroup object inherits from the\nFOOOF, and calls the same underlying fit function.\n\nAs we'll see, we can fit 3D arrays of spectra by distributing FOOOFGroup objects\nacross the data, which also uses the same underlying code.\n\n\n"
      ]
    },
    {
      "cell_type": "code",
      "execution_count": null,
      "metadata": {
        "collapsed": false
      },
      "outputs": [],
      "source": [
        "# Imports for helping with managing our simulated data and results\nimport os\nimport numpy as np\n\n# Import the FOOOFGroup object\nfrom fooof import FOOOFGroup\n\n# Import utilities for working with FOOOF objects\nfrom fooof.objs import fit_fooof_3d, combine_fooofs\n\n# Import simulation & IO utilities to help with the example\nfrom fooof.sim.gen import gen_freqs, gen_group_power_spectra\nfrom fooof.sim.params import param_sampler\nfrom fooof.utils.io import load_fooofgroup"
      ]
    },
    {
      "cell_type": "markdown",
      "metadata": {},
      "source": [
        "## Example Set-Up\n\nFor this example, lets imagine we have set up an experiment in which we have recorded\ndata across several different 'conditions', from multiple 'channels'.\n\nWhen managing our time series, we might organize this data as something like:\n[n_conditions, n_channels, n_times]\n\nAfter calculating power spectra, this would become a 3D array of:\n[n_conditions, n_channels, n_freqs]\n\nFor this example, we will use simulated data to explore this example case.\n\nFirst, we'll set up the simulations to create some data.\n\n\n"
      ]
    },
    {
      "cell_type": "code",
      "execution_count": null,
      "metadata": {
        "collapsed": false
      },
      "outputs": [],
      "source": [
        "# Define the frequency range of our data\nfreq_range = [3, 40]\nfreq_res = 0.25\n\n# Set up the shape of the data\nn_conditions = 3\nn_channels = 10\nn_freqs = len(gen_freqs(freq_range, freq_res))\n\n# Define parameters for the simulated power spectra\nap_opts = param_sampler([[0, 1.0], [0, 1.5], [0, 2]])\npe_opts = param_sampler([[], [10, 0.25, 1], [10, 0.25, 1, 20, 0.15, 1]])"
      ]
    },
    {
      "cell_type": "code",
      "execution_count": null,
      "metadata": {
        "collapsed": false
      },
      "outputs": [],
      "source": [
        "# Generate some simulated power spectra, and organize into a 3D array\nspectra = []\nfor ind in range(n_conditions):\n    freqs, powers = gen_group_power_spectra(n_channels, freq_range, ap_opts,\n                                            pe_opts, freq_res=freq_res)\n    spectra.append(powers)\n\n# Convert collected spectra into a numpy array\nspectra = np.array(spectra)"
      ]
    },
    {
      "cell_type": "code",
      "execution_count": null,
      "metadata": {
        "collapsed": false
      },
      "outputs": [],
      "source": [
        "# Check the shape of the spectra\n#   Note that this should reflect [n_conditions, n_channels, n_freqs]\nprint('Shape of the spectra object: \\t\\t\\t{}, {}, {}'.format(*spectra.shape))\nprint('Number of conditions, channels & frequencies: \\t{}, {}, {}'.format(\\\n    n_conditions, n_channels, n_freqs))"
      ]
    },
    {
      "cell_type": "markdown",
      "metadata": {},
      "source": [
        "### Fitting Multiple Power Spectra\n\nThe goal, for fitting all these power spectra, is to apply our power spectrum model\nefficiently across all power spectra, while keeping our data and results organized\nin a way that we keep track of which model results reflect which data.\n\nThe strategy we will take to do so is by systematically applying FOOOF objects across\nthe data.\n\nFor working with 3D arrays of power spectra, we have the :func:`~.fit_fooof_3d`\nfunction which takes in data and a pre-initialized model object, and uses it to fit\npower spectrum models across all the data, while maintaining the organization of\nthe input data.\n\n\n"
      ]
    },
    {
      "cell_type": "markdown",
      "metadata": {},
      "source": [
        "### fit_fooof_3d\n\nMore specifically, :func:`~.fit_fooof_3d` takes in:\n\n- a FOOOFGroup object, pre-initialized with the desired settings\n- an array of frequency values and a 3D array of power spectra\n\nInternally, this function uses the :class:`~fooof.FOOOFGroup` object to\nfit models across the power spectra.\n\nThis function then returns a list of :class:`~fooof.FOOOFGroup` objects, which\ncollectively store all the model fit results.\n\n\n"
      ]
    },
    {
      "cell_type": "code",
      "execution_count": null,
      "metadata": {
        "collapsed": false
      },
      "outputs": [],
      "source": [
        "# Initialize a FOOOFGroup object, with desired settings\nfg = FOOOFGroup(peak_width_limits=[1, 6], min_peak_height=0.1)"
      ]
    },
    {
      "cell_type": "code",
      "execution_count": null,
      "metadata": {
        "collapsed": false
      },
      "outputs": [],
      "source": [
        "# Fit the 3D array of power spectra\nfgs = fit_fooof_3d(fg, freqs, spectra)"
      ]
    },
    {
      "cell_type": "code",
      "execution_count": null,
      "metadata": {
        "collapsed": false
      },
      "outputs": [],
      "source": [
        "# This returns a list of FOOOFGroup objects\nprint(fgs)"
      ]
    },
    {
      "cell_type": "markdown",
      "metadata": {},
      "source": [
        "Note that the length of the returned list of objects should be equivalent to\nthe outermost dimensionality of the input data.\n\nIn our example setup, this corresponds to `n_conditions` :class:`~fooof.FOOOFGroup` objects.\n\n\n"
      ]
    },
    {
      "cell_type": "code",
      "execution_count": null,
      "metadata": {
        "collapsed": false
      },
      "outputs": [],
      "source": [
        "print('Number of FOOOFGroups: \\t{}'.format(len(fgs)))\nprint('Number of conditions: \\t{}'.format(n_conditions))"
      ]
    },
    {
      "cell_type": "markdown",
      "metadata": {},
      "source": [
        "### Analyzing FOOOF Objects\n\nOnce you have fit the power spectrum models, you want to analyze the results in some way!\n\nSince you have a collection of :class:`~fooof.FOOOF` objects, you can analyze these the same\nway as you would look into any other FOOOF objects. You can check out the other examples\nand tutorials for more information on how to do this.\n\nA general strategy for analyzing model fit results as they get returned from\n:func:`~.fit_fooof_3d` is to loop across all the objects in the\nreturned list, and then within the loop you can collect and/or analyze and/or plot\nany data of interest.\n\nFor a simple example analysis here, we can investigate if there appears to be a\ndifference in aperiodic exponent between different conditions.\n\n\n"
      ]
    },
    {
      "cell_type": "code",
      "execution_count": null,
      "metadata": {
        "collapsed": false
      },
      "outputs": [],
      "source": [
        "# Compare the aperiodic exponent results across conditions\nfor ind, fg in enumerate(fgs):\n    print(\"Aperiodic exponent for condition {} is {:1.4f}\".format(\n        ind, np.mean(fg.get_params('aperiodic_params', 'exponent'))))"
      ]
    },
    {
      "cell_type": "markdown",
      "metadata": {},
      "source": [
        "### Managing FOOOF Objects\n\nWhen running analyses like this, you may start to have many :class:`~fooof.FOOOF` objects.\n\nFor example, you may want to save them out, reload them as needed, and analyze\nresults from each :class:`~fooof.FOOOF` or :class:`~fooof.FOOOFGroup` object.\nYou may also manipulate the objects by, for example, combining model results\nacross objects to check overall model fit properties.\n\nHere, we will continue with a quick example of saving, loading and then combining\nFOOOF objects. Note that a broader exploration of managing different FOOOF objects\nand these object utility functions is available in other examples.\n\n\n"
      ]
    },
    {
      "cell_type": "code",
      "execution_count": null,
      "metadata": {
        "collapsed": false
      },
      "outputs": [],
      "source": [
        "# Check for and create a 'results' directory, to save out data to\nif not os.path.isdir('results'):\n    os.mkdir('results')\n\n# Save out results, storing each as with a file name based on the condition\nfor ind, fg in enumerate(fgs):\n    fg.save('subj_01_cond_0' + str(ind), file_path='results', save_results=True)"
      ]
    },
    {
      "cell_type": "code",
      "execution_count": null,
      "metadata": {
        "collapsed": false
      },
      "outputs": [],
      "source": [
        "# Reload our list of FOOOFGroups\nfgs = [load_fooofgroup(file_name, file_path='results') \\\n    for file_name in os.listdir('results')]"
      ]
    },
    {
      "cell_type": "code",
      "execution_count": null,
      "metadata": {
        "collapsed": false
      },
      "outputs": [],
      "source": [
        "# Combine a list of FOOOF objects into a single FOOOFGroup object\nall_fg = combine_fooofs(fgs)\n\n# Explore the results from across all model fits\nall_fg.print_results()\nall_fg.plot()"
      ]
    }
  ],
  "metadata": {
    "kernelspec": {
      "display_name": "Python 3",
      "language": "python",
      "name": "python3"
    },
    "language_info": {
      "codemirror_mode": {
        "name": "ipython",
        "version": 3
      },
      "file_extension": ".py",
      "mimetype": "text/x-python",
      "name": "python",
      "nbconvert_exporter": "python",
      "pygments_lexer": "ipython3",
      "version": "3.8.3"
    }
  },
  "nbformat": 4,
  "nbformat_minor": 0
}