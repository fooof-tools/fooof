{
  "cells": [
    {
      "cell_type": "markdown",
      "metadata": {},
      "source": [
        "\n# Plot Model Components\n\nPlotting power spectrum model parameters and components.\n"
      ]
    },
    {
      "cell_type": "code",
      "execution_count": null,
      "metadata": {
        "collapsed": false
      },
      "outputs": [],
      "source": [
        "# Import the FOOOFGroup object\nfrom fooof import FOOOFGroup\n\n# Import utilities to manage frequency band definitions\nfrom fooof.bands import Bands\nfrom fooof.analysis import get_band_peak_fg\n\n# Import simulation utilities for making example data\nfrom fooof.sim.gen import gen_group_power_spectra\nfrom fooof.sim.params import param_jitter\n\n# Import plotting function for model parameters and components\nfrom fooof.plts.periodic import plot_peak_fits, plot_peak_params\nfrom fooof.plts.aperiodic import plot_aperiodic_params, plot_aperiodic_fits"
      ]
    },
    {
      "cell_type": "markdown",
      "metadata": {},
      "source": [
        "## Experiment Set Up & Simulate Data\n\nIn this example, we will explore the plotting functions available to visualize\nmodel parameters and components from fitting power spectrum models.\n\nTo do so, we will consider a hypothetical experiment in which we are compare power\nspectrum models between two groups of participants, and so we want to visualize differences\nbetween the groups. For simplicity, we will consider that we have one 'grand average'\npower spectrum per subject, which we can compare and visualize.\n\n\n"
      ]
    },
    {
      "cell_type": "code",
      "execution_count": null,
      "metadata": {
        "collapsed": false
      },
      "outputs": [],
      "source": [
        "# Set up labels and colors for plotting\ncolors = ['#2400a8', '#00700b']\nlabels = ['Group-1', 'Group-2']"
      ]
    },
    {
      "cell_type": "code",
      "execution_count": null,
      "metadata": {
        "collapsed": false
      },
      "outputs": [],
      "source": [
        "# Set the number of 'subjects' per group\nn_subjs = 20\n\n# Define the frequency range for our simulations\nfreq_range = [1, 50]\n\n# Define aperiodic parameters for each group, with some variation\ng1_aps = param_jitter([1, 1.25], [0.5, 0.2])\ng2_aps = param_jitter([1, 1.00], [0.5, 0.2])\n\n# Define periodic parameters for each group, with some variation\ng1_peaks = param_jitter([11, 1, 0.5], [0.5, 0.2, 0.2])\ng2_peaks = param_jitter([9, 1, 0.5], [0.25, 0.1, 0.3])"
      ]
    },
    {
      "cell_type": "code",
      "execution_count": null,
      "metadata": {
        "collapsed": false
      },
      "outputs": [],
      "source": [
        "# Simulate some test data, as two groups of power spectra\nfreqs, powers1 = gen_group_power_spectra(n_subjs, freq_range, g1_aps, g1_peaks)\nfreqs, powers2 = gen_group_power_spectra(n_subjs, freq_range, g2_aps, g2_peaks)"
      ]
    },
    {
      "cell_type": "markdown",
      "metadata": {},
      "source": [
        "### Fit Power Spectrum Models\n\nNow that we have our simulated data, we can fit our power spectrum models, using FOOOFGroup.\n\n\n"
      ]
    },
    {
      "cell_type": "code",
      "execution_count": null,
      "metadata": {
        "collapsed": false
      },
      "outputs": [],
      "source": [
        "# Initialize a FOOOFGroup object for each group\nfg1 = FOOOFGroup(verbose=False)\nfg2 = FOOOFGroup(verbose=False)"
      ]
    },
    {
      "cell_type": "code",
      "execution_count": null,
      "metadata": {
        "collapsed": false
      },
      "outputs": [],
      "source": [
        "# Parameterize neural power spectra\nfg1.fit(freqs, powers1)\nfg2.fit(freqs, powers2)"
      ]
    },
    {
      "cell_type": "markdown",
      "metadata": {},
      "source": [
        "## Plotting Parameters & Components\n\nIn the following, we will explore two visualization options:\n\n- plotting parameter values\n- plotting component reconstructions\n\nEach of these approaches can be done for either aperiodic or periodic parameters.\n\nAll of the plots that we will use in this example can be used to visualize either\none or multiple groups of data. As we will see, you can pass in a single group of\nparameters or components to visualize them, or pass in a list of group results to\nvisualize and compare between groups.\n\nYou can also pass in optional inputs `labels` and `colors` to all the following\nfunctions to add plot labels, and to set the colors used for each group.\n\n\n"
      ]
    },
    {
      "cell_type": "markdown",
      "metadata": {},
      "source": [
        "## Periodic Components\n\nFirst, let's have a look at the periodic components.\n\nTo do so, we will use the :obj:`~.Bands` object to store our frequency\nband definitions, which we can then use to sub-select peaks within bands of interest.\n\nWe can then plot visualizations of the peak parameters, and the reconstructed fits.\n\n\n"
      ]
    },
    {
      "cell_type": "code",
      "execution_count": null,
      "metadata": {
        "collapsed": false
      },
      "outputs": [],
      "source": [
        "# Define frequency bands of interest\nbands = Bands({'theta' : [4, 8],\n               'alpha' : [8, 13],\n               'beta' : [13, 30]})"
      ]
    },
    {
      "cell_type": "code",
      "execution_count": null,
      "metadata": {
        "collapsed": false
      },
      "outputs": [],
      "source": [
        "# Extract alpha peaks from each group\ng1_alphas = get_band_peak_fg(fg1, bands.alpha)\ng2_alphas = get_band_peak_fg(fg2, bands.alpha)"
      ]
    },
    {
      "cell_type": "markdown",
      "metadata": {},
      "source": [
        "### Plotting Peak Parameters\n\nThe :func:`~.plot_peak_params` function takes in peak parameters,\nand visualizes them, as:\n\n- Center Frequency on the x-axis\n- Power on the y-axis\n- Bandwidth as the size of the circle\n\n\n"
      ]
    },
    {
      "cell_type": "code",
      "execution_count": null,
      "metadata": {
        "collapsed": false
      },
      "outputs": [],
      "source": [
        "# Explore the peak parameters of Group 1's alphas\nplot_peak_params(g1_alphas, freq_range=bands.alpha)"
      ]
    },
    {
      "cell_type": "code",
      "execution_count": null,
      "metadata": {
        "collapsed": false
      },
      "outputs": [],
      "source": [
        "# Compare the peak parameters of alpha peaks between groups\nplot_peak_params([g1_alphas, g2_alphas], freq_range=bands.alpha,\n                 labels=labels, colors=colors)"
      ]
    },
    {
      "cell_type": "markdown",
      "metadata": {},
      "source": [
        "### Plotting Peak Fits\n\nThe :func:`~.plot_peak_fits` function takes in peak parameters,\nand reconstructs peak fits.\n\n\n"
      ]
    },
    {
      "cell_type": "code",
      "execution_count": null,
      "metadata": {
        "collapsed": false
      },
      "outputs": [],
      "source": [
        "# Plot the peak fits of the alpha fits for Group 1\nplot_peak_fits(g1_alphas)"
      ]
    },
    {
      "cell_type": "code",
      "execution_count": null,
      "metadata": {
        "collapsed": false
      },
      "outputs": [],
      "source": [
        "# Compare the peak fits of alpha peaks between groups\nplot_peak_fits([g1_alphas, g2_alphas],\n               labels=labels, colors=colors)"
      ]
    },
    {
      "cell_type": "markdown",
      "metadata": {},
      "source": [
        "## Aperiodic Components\n\nNext, let's have a look at the aperiodic components.\n\n\n"
      ]
    },
    {
      "cell_type": "code",
      "execution_count": null,
      "metadata": {
        "collapsed": false
      },
      "outputs": [],
      "source": [
        "# Extract the aperiodic parameters for each group\naps1 = fg1.get_params('aperiodic_params')\naps2 = fg2.get_params('aperiodic_params')"
      ]
    },
    {
      "cell_type": "markdown",
      "metadata": {},
      "source": [
        "### Plotting Aperiodic Parameters\n\nThe :func:`~.plot_aperiodic_params` function takes in\naperiodic parameters, and visualizes them, as:\n\n- Offset on the x-axis\n- Exponent on the y-axis\n\n\n"
      ]
    },
    {
      "cell_type": "code",
      "execution_count": null,
      "metadata": {
        "collapsed": false
      },
      "outputs": [],
      "source": [
        "# Plot the aperiodic parameters for Group 1\nplot_aperiodic_params(aps1)"
      ]
    },
    {
      "cell_type": "code",
      "execution_count": null,
      "metadata": {
        "collapsed": false
      },
      "outputs": [],
      "source": [
        "# Compare the aperiodic parameters between groups\nplot_aperiodic_params([aps1, aps2], labels=labels, colors=colors)"
      ]
    },
    {
      "cell_type": "markdown",
      "metadata": {},
      "source": [
        "### Plotting Aperiodic Fits\n\nThe :func:`~.plot_aperiodic_fits` function takes in\naperiodic parameters, and reconstructs aperiodic fits.\n\nHere again we can plot visualizations of the peak parameters, and the reconstructed fits.\n\n\n"
      ]
    },
    {
      "cell_type": "code",
      "execution_count": null,
      "metadata": {
        "collapsed": false
      },
      "outputs": [],
      "source": [
        "# Plot the aperiodic fits for Group 1\nplot_aperiodic_fits(aps1, freq_range, control_offset=True)"
      ]
    },
    {
      "cell_type": "markdown",
      "metadata": {},
      "source": [
        "The :func:`~.plot_aperiodic_fits` also has some additional options\nthat can help to tune the visualization, including:\n\n- `control_offset` : whether the control for offset differences, by setting to zero\n\n  - This can be useful to visualize if it's the exponent specifically that is changing\n- `log_freqs` : whether to log the frequency values, on the x-axis\n\n\n"
      ]
    },
    {
      "cell_type": "code",
      "execution_count": null,
      "metadata": {
        "collapsed": false
      },
      "outputs": [],
      "source": [
        "# Plot the aperiodic fits for both groups\nplot_aperiodic_fits([aps1, aps2], freq_range,\n                    control_offset=True, log_freqs=True,\n                    labels=labels, colors=colors)"
      ]
    },
    {
      "cell_type": "markdown",
      "metadata": {},
      "source": [
        "## Conclusions\n\nIn this example, we explored plotting model parameters and components within and between\ngroups of parameterized neural power spectra.\n\nIf you check the simulation parameters used for the two groups, you can see that\nwe set these groups to vary in their alpha center frequency and in the exponent value.\nQualitatively, we can see those differences in the plots above, and this (in real data)\nwould suggest there may be interesting differences between these groups. Follow up\nanalyses in such a case could investigate whether there are statistically significant\ndifferences between these groups.\n\n\n"
      ]
    }
  ],
  "metadata": {
    "kernelspec": {
      "display_name": "Python 3",
      "language": "python",
      "name": "python3"
    },
    "language_info": {
      "codemirror_mode": {
        "name": "ipython",
        "version": 3
      },
      "file_extension": ".py",
      "mimetype": "text/x-python",
      "name": "python",
      "nbconvert_exporter": "python",
      "pygments_lexer": "ipython3",
      "version": "3.8.3"
    }
  },
  "nbformat": 4,
  "nbformat_minor": 0
}