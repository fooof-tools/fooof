{
  "cells": [
    {
      "cell_type": "markdown",
      "metadata": {},
      "source": [
        "\n# Exploring Data Components\n\nThis example explores the different data components, exploring the isolated aperiodic\nand periodic components as they are extracted from the data.\n"
      ]
    },
    {
      "cell_type": "code",
      "execution_count": null,
      "metadata": {
        "collapsed": false
      },
      "outputs": [],
      "source": [
        "# Import FOOOF model objects\nfrom fooof import FOOOF, FOOOFGroup\n\n# Import function to plot power spectra\nfrom fooof.plts.spectra import plot_spectra\n\n# Import simulation functions to create some example data\nfrom fooof.sim import gen_power_spectrum, gen_group_power_spectra"
      ]
    },
    {
      "cell_type": "code",
      "execution_count": null,
      "metadata": {
        "collapsed": false
      },
      "outputs": [],
      "source": [
        "# Simulate example power spectrum\nfreqs, powers = gen_power_spectrum([1, 50], [0, 10, 1], [10, 0.25, 2], freq_res=0.25)\n\n# Initialize model object and fit power spectrum\nfm = FOOOF()\nfm.fit(freqs, powers)"
      ]
    },
    {
      "cell_type": "markdown",
      "metadata": {},
      "source": [
        "## Data & Model Components\n\nThe model fit process includes procedures for isolating aperiodic and periodic components in\nthe data, fitting each of these components separately, and then combining the model components\nas the final fit (see the Tutorials for further details on these procedures).\n\nIn doing this process, the model fit procedure computes and stores isolated data components,\nwhich are available in the model.\n\n\n"
      ]
    },
    {
      "cell_type": "markdown",
      "metadata": {},
      "source": [
        "### Full Data & Model Components\n\nBefore diving into the isolated data components, let's check 'full' components, including\nthe data (`power_spectrum`) and full model fit of a model object (`fooofed_spectrum`).\n\n\n"
      ]
    },
    {
      "cell_type": "code",
      "execution_count": null,
      "metadata": {
        "collapsed": false
      },
      "outputs": [],
      "source": [
        "# Plot the original power spectrum data from the object\nplot_spectra(fm.freqs, fm.power_spectrum, color='black')"
      ]
    },
    {
      "cell_type": "code",
      "execution_count": null,
      "metadata": {
        "collapsed": false
      },
      "outputs": [],
      "source": [
        "# Plot the power spectrum model from the object\nplot_spectra(fm.freqs, fm.fooofed_spectrum_, color='red')"
      ]
    },
    {
      "cell_type": "markdown",
      "metadata": {},
      "source": [
        "## Isolated Components\n\nAs well as the 'full' data & model components above, the model fitting procedure includes\nsteps that result in isolated periodic and aperiodic components, in both the\ndata and model. These isolated components are stored internally in the model.\n\nTo access these components, we can use the following `getter` methods:\n\n- :meth:`~fooof.FOOOF.get_data`: allows for accessing data components\n- :meth:`~fooof.FOOOF.get_model`: allows for accessing model components\n\n\n"
      ]
    },
    {
      "cell_type": "markdown",
      "metadata": {},
      "source": [
        "### Aperiodic Component\n\nTo fit the aperiodic component, the model fit procedure includes a peak removal process.\n\nThe resulting 'peak-removed' data component is stored in the model object, as well as the\nisolated aperiodic component model fit.\n\n\n"
      ]
    },
    {
      "cell_type": "code",
      "execution_count": null,
      "metadata": {
        "collapsed": false
      },
      "outputs": [],
      "source": [
        "# Plot the peak removed spectrum data component\nplot_spectra(fm.freqs, fm.get_data('aperiodic'), color='black')"
      ]
    },
    {
      "cell_type": "code",
      "execution_count": null,
      "metadata": {
        "collapsed": false
      },
      "outputs": [],
      "source": [
        "# Plot the peak removed spectrum, with the model aperiodic fit\nplot_spectra(fm.freqs, [fm.get_data('aperiodic'), fm.get_model('aperiodic')],\n             colors=['black', 'blue'], linestyle=['-', '--'])"
      ]
    },
    {
      "cell_type": "markdown",
      "metadata": {},
      "source": [
        "### Periodic Component\n\nTo fit the periodic component, the model fit procedure removes the fit peaks from the power\nspectrum.\n\nThe resulting 'flattened' data component is stored in the model object, as well as the\nisolated periodic component model fit.\n\n\n"
      ]
    },
    {
      "cell_type": "code",
      "execution_count": null,
      "metadata": {
        "collapsed": false
      },
      "outputs": [],
      "source": [
        "# Plot the flattened spectrum data component\nplot_spectra(fm.freqs, fm.get_data('peak'), color='black')"
      ]
    },
    {
      "cell_type": "code",
      "execution_count": null,
      "metadata": {
        "collapsed": false
      },
      "outputs": [],
      "source": [
        "# Plot the flattened spectrum data with the model peak fit\nplot_spectra(fm.freqs, [fm.get_data('peak'), fm.get_model('peak')],\n             colors=['black', 'green'], linestyle=['-', '--'])"
      ]
    },
    {
      "cell_type": "markdown",
      "metadata": {},
      "source": [
        "### Full Model Fit\n\nThe full model fit, which we explored earlier, is calculated as the combination of the\naperiodic and peak fit, which we can check by plotting these combined components.\n\n\n"
      ]
    },
    {
      "cell_type": "code",
      "execution_count": null,
      "metadata": {
        "collapsed": false
      },
      "outputs": [],
      "source": [
        "# Plot the full model fit, as the combination of the aperiodic and peak model components\nplot_spectra(fm.freqs, [fm.get_model('aperiodic') + fm.get_model('peak')], color='red')"
      ]
    },
    {
      "cell_type": "markdown",
      "metadata": {},
      "source": [
        "## Linear vs Log Spacing\n\nThe above shows data components as they are available on the model object, and used in\nthe fitting process - notable, in log10 spacing.\n\nSome analyses may aim to use these isolated components to compute certain measures of\ninterest on the data. However, when doing so, one may often want the linear power\nrepresentations of these components.\n\nBoth the `get_data` and `get_model` methods accept a 'space' argument, whereby the user\ncan specify whether the return the components in log10 or linear spacing.\n\n"
      ]
    },
    {
      "cell_type": "markdown",
      "metadata": {},
      "source": [
        "### Aperiodic Components in Linear Space\n\nFirst we can examine the aperiodic data & model components, in linear space.\n\n\n"
      ]
    },
    {
      "cell_type": "code",
      "execution_count": null,
      "metadata": {
        "collapsed": false
      },
      "outputs": [],
      "source": [
        "# Plot the peak removed spectrum, with the model aperiodic fit\nplot_spectra(fm.freqs, [fm.get_data('aperiodic', 'linear'), fm.get_model('aperiodic', 'linear')],\n             colors=['black', 'blue'], linestyle=['-', '--'])"
      ]
    },
    {
      "cell_type": "markdown",
      "metadata": {},
      "source": [
        "### Peak Component in Linear Space\n\nNext, we can examine the peak data & model components, in linear space.\n\n\n"
      ]
    },
    {
      "cell_type": "code",
      "execution_count": null,
      "metadata": {
        "collapsed": false
      },
      "outputs": [],
      "source": [
        "# Plot the flattened spectrum data with the model peak fit\nplot_spectra(fm.freqs, [fm.get_data('peak', 'linear'), fm.get_model('peak', 'linear')],\n             colors=['black', 'green'], linestyle=['-', '--'])"
      ]
    },
    {
      "cell_type": "markdown",
      "metadata": {},
      "source": [
        "### Linear Space Additive Model\n\nNote that specifying 'linear' does not simply unlog the data components to return them\nin linear space, but instead defines the space of the additive data definition such that\n`power_spectrum = aperiodic_component + peak_component` (for data and/or model).\n\nWe can see this by plotting the linear space data (or model) with the corresponding\naperiodic and periodic components summed together. Note that if you simply unlog\nthe components and sum them, they does not add up to reflecting the full data / model.\n\n\n"
      ]
    },
    {
      "cell_type": "code",
      "execution_count": null,
      "metadata": {
        "collapsed": false
      },
      "outputs": [],
      "source": [
        "# Plot the linear data, showing the combination of peak + aperiodic matches the full data\nplot_spectra(fm.freqs,\n             [fm.get_data('full', 'linear'),\n              fm.get_data('aperiodic', 'linear') + fm.get_data('peak', 'linear')],\n             linestyle=['-', 'dashed'], colors=['black', 'red'], alpha=[0.3, 0.75])"
      ]
    },
    {
      "cell_type": "code",
      "execution_count": null,
      "metadata": {
        "collapsed": false
      },
      "outputs": [],
      "source": [
        "# Plot the linear model, showing the combination of peak + aperiodic matches the full model\nplot_spectra(fm.freqs,\n             [fm.get_model('full', 'linear'),\n              fm.get_model('aperiodic', 'linear') + fm.get_model('peak', 'linear')],\n             linestyle=['-', 'dashed'], colors=['black', 'red'], alpha=[0.3, 0.75])"
      ]
    },
    {
      "cell_type": "markdown",
      "metadata": {},
      "source": [
        "### Notes on Analyzing Data & Model Components\n\nThe functionality here allows for accessing the model components in log space (as used by\nthe model for fitting), as well as recomputing in linear space.\n\nIf you are aiming to analyze these components, it is important to consider which version of\nthe data you should analyze for the question at hand, as there are key differences to the\ndifferent representations. Users who wish to do so post-hoc analyses of these data and model\ncomponents should consider the benefits and limitations the different representations.\n\n\n"
      ]
    }
  ],
  "metadata": {
    "kernelspec": {
      "display_name": "Python 3",
      "language": "python",
      "name": "python3"
    },
    "language_info": {
      "codemirror_mode": {
        "name": "ipython",
        "version": 3
      },
      "file_extension": ".py",
      "mimetype": "text/x-python",
      "name": "python",
      "nbconvert_exporter": "python",
      "pygments_lexer": "ipython3",
      "version": "3.8.3"
    }
  },
  "nbformat": 4,
  "nbformat_minor": 0
}