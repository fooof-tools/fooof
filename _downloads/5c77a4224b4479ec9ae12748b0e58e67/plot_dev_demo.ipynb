{
  "cells": [
    {
      "cell_type": "markdown",
      "metadata": {},
      "source": [
        "\n# Developmental Data Demo\n\nAn example analysis applied to developmental data, demonstrating best practices.\n"
      ]
    },
    {
      "cell_type": "markdown",
      "metadata": {},
      "source": [
        "## Spectral Parameterization for studying neurodevelopment\n\nThis example is adapted from the\n[Developmental Data Demo](https://github.com/fooof-tools/DevelopmentalDemo/).\n\nIf you wish to reference this example or use guidelines from it, please cite the associated\npaper `Spectral parameterization for studying neurodevelopment: how and why` by\nBrendan Ostlund, Thomas Donoghue, Berenice Anaya, Kelley E Gunther, Sarah L Karalunas,\nBradley Voytek, and Koraly E P\u00e9rez-Edgar.\n\nPaper link: https://doi.org/10.1016/j.dcn.2022.101073\n\n\n"
      ]
    },
    {
      "cell_type": "code",
      "execution_count": null,
      "metadata": {
        "collapsed": false
      },
      "outputs": [],
      "source": [
        "# Import some useful standard library modules\nfrom pathlib import Path\n\n# Import some general scientific python libraries\nimport numpy as np\nimport pandas as pd\nimport matplotlib.pyplot as plt\n\n# Import the parameterization model objects\nfrom fooof import FOOOF, FOOOFGroup\n\n# Import useful parameterization related utilities and plot functions\nfrom fooof.bands import Bands\nfrom fooof.analysis import get_band_peak_fg\nfrom fooof.utils import trim_spectrum\nfrom fooof.utils.data import subsample_spectra\nfrom fooof.sim.gen import gen_aperiodic\nfrom fooof.data import FOOOFSettings\nfrom fooof.plts.templates import plot_hist\nfrom fooof.plts.spectra import plot_spectra\nfrom fooof.plts.periodic import plot_peak_fits, plot_peak_params\nfrom fooof.plts.aperiodic import plot_aperiodic_params, plot_aperiodic_fits\n\n# Import functions to examine frequency-by-frequency error of model fits\nfrom fooof.analysis.error import compute_pointwise_error_fm, compute_pointwise_error_fg\n\n# Import helper utility to access data\nfrom fooof.utils.download import fetch_fooof_data"
      ]
    },
    {
      "cell_type": "markdown",
      "metadata": {},
      "source": [
        "### Access Example Data\n\nFirst, we will download the example data for this example.\n\n\n"
      ]
    },
    {
      "cell_type": "code",
      "execution_count": null,
      "metadata": {
        "collapsed": false
      },
      "outputs": [],
      "source": [
        "# Set the URL where the data is available\ndata_url = 'https://raw.githubusercontent.com/fooof-tools/DevelopmentalDemo/main/Data/'\n\n# Set the data path to load from\ndata_path = Path('data')\n\n# Collect the example data\nfetch_fooof_data('freqs.csv', data_path, data_url)\nfetch_fooof_data('indv.csv', data_path, data_url)"
      ]
    },
    {
      "cell_type": "markdown",
      "metadata": {},
      "source": [
        "### Fitting an Individual Power Spectrum\n\nFor the first part of this example, we will start by loading and fitting an individual PSD.\n\nTo do so, we start by loading some CSV files, including:\n\n- `freqs.csv`, which contains a vector of frequencies\n- `indvPSD.csv`, which contains the power values for an individual power spectrum\n\n\n"
      ]
    },
    {
      "cell_type": "code",
      "execution_count": null,
      "metadata": {
        "collapsed": false
      },
      "outputs": [],
      "source": [
        "# Load data\nfreqs = np.ravel(pd.read_csv(data_path / \"freqs.csv\"))\nspectrum = np.ravel(pd.read_csv(data_path / \"indv.csv\"))[1:101]"
      ]
    },
    {
      "cell_type": "markdown",
      "metadata": {},
      "source": [
        "Now that we have loaded the data, we can parameterize our power spectrum!\n\n\n"
      ]
    },
    {
      "cell_type": "code",
      "execution_count": null,
      "metadata": {
        "collapsed": false
      },
      "outputs": [],
      "source": [
        "# Define model settings\npeak_width = [1, 8]             # `peak_width_limit` setting\nn_peaks = 6                     # `max_n_peaks` setting\npeak_height = 0.10              # `min_peak_height` setting\n\n# Define frequency range\nPSD_range = [3, 40]"
      ]
    },
    {
      "cell_type": "code",
      "execution_count": null,
      "metadata": {
        "collapsed": false
      },
      "outputs": [],
      "source": [
        "# Initialize a model object for spectral parameterization, with some settings\nfm = FOOOF(peak_width_limits=peak_width, max_n_peaks=n_peaks,\n           min_peak_height=peak_height, verbose=False)\n\n# Fit individual PSD over 3-40 Hz range\nfm.report(freqs, spectrum, PSD_range)"
      ]
    },
    {
      "cell_type": "markdown",
      "metadata": {},
      "source": [
        "As a reminder you can save these reports using the `.save_report()` method, for example,\nby running `fm.save_report('INDV_demo', file_path=output_path)`.\n\n\n"
      ]
    },
    {
      "cell_type": "markdown",
      "metadata": {},
      "source": [
        "All of the model fit information is saved to the model object, which we can then access.\n\nNote that all attributes learned in the model fit process have a trailing underscore.\n\n\n"
      ]
    },
    {
      "cell_type": "code",
      "execution_count": null,
      "metadata": {
        "collapsed": false
      },
      "outputs": [],
      "source": [
        "# Access the model fit parameters from the model object\nprint('Aperiodic parameters: \\n', fm.aperiodic_params_, '\\n')\nprint('Peak parameters: \\n', fm.peak_params_, '\\n')\nprint('Goodness of fit:')\nprint('Error - ', fm.error_)\nprint('R^2   - ', fm.r_squared_, '\\n')\nprint('Number of fit peaks: \\n', fm.n_peaks_)"
      ]
    },
    {
      "cell_type": "markdown",
      "metadata": {},
      "source": [
        "Another way to access model fit parameters is to use the `get_params` method,\nwhich can be used to access model fit attributes.\n\nThis method can be used to extract periodic and aperiodic parameters.\n\n\n"
      ]
    },
    {
      "cell_type": "code",
      "execution_count": null,
      "metadata": {
        "collapsed": false
      },
      "outputs": [],
      "source": [
        "# Extract aperiodic and periodic parameter\naps = fm.get_params('aperiodic_params')\npeaks = fm.get_params('peak_params')"
      ]
    },
    {
      "cell_type": "code",
      "execution_count": null,
      "metadata": {
        "collapsed": false
      },
      "outputs": [],
      "source": [
        "# Extract goodness of fit information\nerr = fm.get_params('error')\nr2s = fm.get_params('r_squared')"
      ]
    },
    {
      "cell_type": "code",
      "execution_count": null,
      "metadata": {
        "collapsed": false
      },
      "outputs": [],
      "source": [
        "# Extract specific parameters\nexp = fm.get_params('aperiodic_params', 'exponent')\ncfs = fm.get_params('peak_params', 'CF')"
      ]
    },
    {
      "cell_type": "code",
      "execution_count": null,
      "metadata": {
        "collapsed": false
      },
      "outputs": [],
      "source": [
        "# Print out a custom parameter report\ntemplate = (\"With an error level of {error:1.2f}, specparam fit an exponent \"\n            \"of {exponent:1.2f} and peaks of {cfs:s} Hz.\")\nprint(template.format(error=err, exponent=exp,\n                      cfs=' & '.join(map(str, [round(CF, 2) for CF in cfs]))))"
      ]
    },
    {
      "cell_type": "markdown",
      "metadata": {},
      "source": [
        "Next, we will plot the flattened power spectrum.\n\nIt may be useful to plot a flattened power spectrum, with the aperiodic fit removed.\n\n\n"
      ]
    },
    {
      "cell_type": "code",
      "execution_count": null,
      "metadata": {
        "collapsed": false
      },
      "outputs": [],
      "source": [
        "# Set whether to plot in log-log space\nplt_log = False\n\n# Do an initial aperiodic fit - a robust fit, that excludes outliers\ninit_ap_fit = gen_aperiodic(fm.freqs, fm._robust_ap_fit(fm.freqs, fm.power_spectrum))\n\n# Recompute the flattened spectrum using the initial aperiodic fit\ninit_flat_spec = fm.power_spectrum - init_ap_fit"
      ]
    },
    {
      "cell_type": "code",
      "execution_count": null,
      "metadata": {
        "collapsed": false
      },
      "outputs": [],
      "source": [
        "# Plot the flattened the power spectrum\nplot_spectra(fm.freqs, init_flat_spec, plt_log, label='Flattened spectrum', color='black')"
      ]
    },
    {
      "cell_type": "markdown",
      "metadata": {},
      "source": [
        "The model object also has I/O utilities for saving and reloading data.\n\nThe `.save` method can be used to save out data from the object,\nspecifying which information to save.\n\nFor example, you can save results with the following:\n- settings: `fm.save('fit_settings', save_settings=True, file_path=output_path)\n- results: `fm.save('fit_results', save_results=True, file_path=output_path)`\n- data: `fm.save('fit_data', save_data=True, file_path=output_path)`\n\nAnother option is to save out data as a .csv rather than the default .json file format.\nYou can do this be exporting the results to a dataframe (see other examples for further\nguidance on this topic).\n\n\n"
      ]
    },
    {
      "cell_type": "code",
      "execution_count": null,
      "metadata": {
        "collapsed": false
      },
      "outputs": [],
      "source": [
        "# Convert results to dataframe\ndf = fm.to_df(None)"
      ]
    },
    {
      "cell_type": "markdown",
      "metadata": {},
      "source": [
        "The above dataframe can be saved out to a csv using the `to_csv` method.\n\n\n"
      ]
    },
    {
      "cell_type": "markdown",
      "metadata": {},
      "source": [
        "### Checking model fit quality\n\nIt can be useful to plot frequency-by-frequency error of the model fit,\nto identify where in frequency space the spectrum is (or is not) being fit well.\nWhen fitting individual spectrum, this can be accomplished using the\n`compute_pointwise_error_fm` function.\n\nIn this case, we can see that error fluctuates around 0.05, which is the same as\nthe mean absolute error for the model (MAE). There are points in the spectrum where\nthe model fit is somewhat poor, particularly < 4 Hz, around 6-9 Hz, and around 14 Hz.\nFurther considerations may be necessary for this model fit.\n\n\n"
      ]
    },
    {
      "cell_type": "code",
      "execution_count": null,
      "metadata": {
        "collapsed": false
      },
      "outputs": [],
      "source": [
        "# Plot frequency-by-frequency error\ncompute_pointwise_error_fm(fm, plot_errors=True)"
      ]
    },
    {
      "cell_type": "code",
      "execution_count": null,
      "metadata": {
        "collapsed": false
      },
      "outputs": [],
      "source": [
        "# Compute the frequency-by-frequency errors\nerrs_fm = compute_pointwise_error_fm(fm, plot_errors=False, return_errors=True)"
      ]
    },
    {
      "cell_type": "code",
      "execution_count": null,
      "metadata": {
        "collapsed": false
      },
      "outputs": [],
      "source": [
        "# Note that the average of this error is the same as the global error stored\nprint('Average freq-by-freq error:\\t {:1.3f}'.format(np.mean(errs_fm)))\nprint('FOOOF model fit error: \\t\\t {:1.3f}'.format(fm.error_))"
      ]
    },
    {
      "cell_type": "markdown",
      "metadata": {},
      "source": [
        "### Fitting a Group of Power Spectra\n\nIn the next example, we will fit a group of power spectra.\n\nFirst we need to load the data, including:\n\n- `freqs.csv`, which contains a vector of frequencies\n- `eopPSDs.csv`, which contains the power values for a group of power spectrum, one for each subject\n\n\n"
      ]
    },
    {
      "cell_type": "code",
      "execution_count": null,
      "metadata": {
        "collapsed": false
      },
      "outputs": [],
      "source": [
        "# Collect the example data\nfetch_fooof_data('freqs.csv', data_path, data_url)\nfetch_fooof_data('eop.csv', data_path, data_url)"
      ]
    },
    {
      "cell_type": "code",
      "execution_count": null,
      "metadata": {
        "collapsed": false
      },
      "outputs": [],
      "source": [
        "# Load csv files containing frequency and power values\nfreqs = np.ravel(pd.read_csv(data_path / \"freqs.csv\"))\nspectra = np.array(pd.read_csv(data_path / \"eop.csv\"))[:, 1:101]"
      ]
    },
    {
      "cell_type": "code",
      "execution_count": null,
      "metadata": {
        "collapsed": false
      },
      "outputs": [],
      "source": [
        "# Get the number of subjects\nn_subjs = spectra.shape[0]\nprint('There are {:d} subjects.'.format(n_subjs))"
      ]
    },
    {
      "cell_type": "markdown",
      "metadata": {},
      "source": [
        "Now we can parameterize our group of power spectra!\n\n\n"
      ]
    },
    {
      "cell_type": "code",
      "execution_count": null,
      "metadata": {
        "collapsed": false
      },
      "outputs": [],
      "source": [
        "# Initialize a model object for spectral parameterization, with some settings\nfg = FOOOFGroup(peak_width_limits=peak_width, max_n_peaks=n_peaks,\n                min_peak_height=peak_height, verbose=False)\n\n# Fit group PSDs over the 3-40 Hz range\nfg.fit(freqs, spectra, PSD_range)"
      ]
    },
    {
      "cell_type": "code",
      "execution_count": null,
      "metadata": {
        "collapsed": false
      },
      "outputs": [],
      "source": [
        "# Print out the group results and plots of fit parameters\nfg.print_results()\nfg.plot()"
      ]
    },
    {
      "cell_type": "markdown",
      "metadata": {},
      "source": [
        "As before, we can also save this report using the `.save_report` method, for example by\ncalling: `fg.save_report('EOP_demo', file_path=output_path)`.\n\n\n"
      ]
    },
    {
      "cell_type": "markdown",
      "metadata": {},
      "source": [
        "As with the individual model object, the `get_params` method can be\nused to access model fit attributes.\n\nIn addition, here we will use a `Bands` object and the `get_band_peak_fg`\nfunction to organize fit peaks into canonical band ranges.\n\n\n"
      ]
    },
    {
      "cell_type": "code",
      "execution_count": null,
      "metadata": {
        "collapsed": false
      },
      "outputs": [],
      "source": [
        "# Extract aperiodic and full periodic parameters\naps = fg.get_params('aperiodic_params')\nper = fg.get_params('peak_params')"
      ]
    },
    {
      "cell_type": "code",
      "execution_count": null,
      "metadata": {
        "collapsed": false
      },
      "outputs": [],
      "source": [
        "# Extract group fit information\nerr = fg.get_params('error')\nr2s = fg.get_params('r_squared')"
      ]
    },
    {
      "cell_type": "code",
      "execution_count": null,
      "metadata": {
        "collapsed": false
      },
      "outputs": [],
      "source": [
        "# Check the average number of fit peaks, per model\nprint('Average number of fit peaks: ', np.mean(fg.n_peaks_))"
      ]
    },
    {
      "cell_type": "code",
      "execution_count": null,
      "metadata": {
        "collapsed": false
      },
      "outputs": [],
      "source": [
        "# Define canonical frequency bands\nbands = Bands({'theta' : [4, 8],\n               'alpha' : [8, 13],\n               'beta' : [13, 30]})"
      ]
    },
    {
      "cell_type": "code",
      "execution_count": null,
      "metadata": {
        "collapsed": false
      },
      "outputs": [],
      "source": [
        "# Extract band-limited peaks information\nthetas = get_band_peak_fg(fg, bands.theta)\nalphas = get_band_peak_fg(fg, bands.alpha)\nbetas = get_band_peak_fg(fg, bands.beta)"
      ]
    },
    {
      "cell_type": "markdown",
      "metadata": {},
      "source": [
        "The specparam module also has functions for plotting the fit parameters.\n\n\n"
      ]
    },
    {
      "cell_type": "code",
      "execution_count": null,
      "metadata": {
        "collapsed": false
      },
      "outputs": [],
      "source": [
        "# Plot the measured aperiodic parameters\nplot_aperiodic_params(aps)"
      ]
    },
    {
      "cell_type": "code",
      "execution_count": null,
      "metadata": {
        "collapsed": false
      },
      "outputs": [],
      "source": [
        "# Plot the parameters for peaks, split up by band\n_, axes = plt.subplots(1, 3, figsize=(14, 7))\nall_bands = [thetas, alphas, betas]\nfor ax, label, peaks in zip(np.ravel(axes), bands.labels, all_bands):\n    plot_peak_params(peaks, ax=ax)\n    ax.set_title(label + ' peaks', fontsize=24)\nplt.subplots_adjust(hspace=0.4)"
      ]
    },
    {
      "cell_type": "markdown",
      "metadata": {},
      "source": [
        "We can also plot reconstructions of model components.\n\nIn the following, we plot reconstructed alpha peaks and aperiodic components.\n\n\n"
      ]
    },
    {
      "cell_type": "code",
      "execution_count": null,
      "metadata": {
        "collapsed": false
      },
      "outputs": [],
      "source": [
        "# Plot reconstructions of model components\n_, axes = plt.subplots(1, 2, figsize=(14, 6))\nplot_peak_fits(alphas, ax=axes[0])\nplot_aperiodic_fits(aps, fg.freq_range, ax=axes[1])"
      ]
    },
    {
      "cell_type": "markdown",
      "metadata": {},
      "source": [
        "### Tuning the specparam algorithm\n\nThere are no strict guidelines about optimal parameters that will be appropriate\nacross data sets and recording modalities. We suggest applying a data-driven approach\nto tune model fitting for optimal performance, while taking into account your expectations\nabout periodic and aperiodic activity given the data, the question of interest, and prior findings.\n\nOne option is to parameterize a subset of data to evaluate the appropriateness of model\nfit settings prior to fitting each power spectrum in the data set.\nHere, we test parameters on a randomly selected 10% of the data.\nResults are saved out to a **Output** folder for further consideration.\n\nFirst, lets randomly sub-sample 10% of the power spectra that we will use to test model settings.\n\n\n"
      ]
    },
    {
      "cell_type": "code",
      "execution_count": null,
      "metadata": {
        "collapsed": false
      },
      "outputs": [],
      "source": [
        "# Set random seed\nnp.random.seed(1)\n\n# Define settings for & subsample a selection of power spectra\nsubsample_frac = 0.10\nspectra_subsample = subsample_spectra(spectra, subsample_frac)"
      ]
    },
    {
      "cell_type": "markdown",
      "metadata": {},
      "source": [
        "Here, we first define settings for two models to be fit and compared.\n\n\n"
      ]
    },
    {
      "cell_type": "code",
      "execution_count": null,
      "metadata": {
        "collapsed": false
      },
      "outputs": [],
      "source": [
        "# Define `peak_width_limit` for each model\nm1_peak_width = [2, 5]\nm2_peak_width = [1, 8]\n\n# Define `max_n_peaks` for each model\nm1_n_peaks = 4\nm2_n_peaks = 6\n\n# Define `min_peak_height` for each model\nm1_peak_height = 0.05\nm2_peak_height = 0.10"
      ]
    },
    {
      "cell_type": "markdown",
      "metadata": {},
      "source": [
        "Next, we set frequency ranges for each model.\n\nTo sub-select frequency ranges, we can use the `trim_spectrum` function\nto extract frequency ranges of interest for each model.\n\n\n"
      ]
    },
    {
      "cell_type": "code",
      "execution_count": null,
      "metadata": {
        "collapsed": false
      },
      "outputs": [],
      "source": [
        "# Define frequency range for each model\nm1_PSD_range = [2, 20]\nm2_PSD_range = [3, 40]\n\n# Sub-select frequency ranges\nm1_freq, m1_spectra = trim_spectrum(freqs, spectra_subsample, m1_PSD_range)\nm2_freq, m2_spectra = trim_spectrum(freqs, spectra_subsample, m2_PSD_range)"
      ]
    },
    {
      "cell_type": "markdown",
      "metadata": {},
      "source": [
        "Fit models, with different settings.\n\n\n"
      ]
    },
    {
      "cell_type": "code",
      "execution_count": null,
      "metadata": {
        "collapsed": false
      },
      "outputs": [],
      "source": [
        "# Fit model object with model 1 settings\nfg1 = FOOOFGroup(peak_width_limits=m1_peak_width, max_n_peaks=m1_n_peaks,\n                 min_peak_height=m1_peak_height)\nfg1.fit(m1_freq, m1_spectra)\n\n# Create individual reports for model 1 settings (these could be saved and checked)\nfor ind in range(len(fg1)):\n    temp_model = fg1.get_fooof(ind, regenerate=True)"
      ]
    },
    {
      "cell_type": "markdown",
      "metadata": {},
      "source": [
        "We can do the same with the other set of settings.\n\n\n"
      ]
    },
    {
      "cell_type": "code",
      "execution_count": null,
      "metadata": {
        "collapsed": false
      },
      "outputs": [],
      "source": [
        "# Fit model object with model 2 settings\nfg2 = FOOOFGroup(peak_width_limits=m2_peak_width, max_n_peaks=m2_n_peaks,\n                 min_peak_height=m2_peak_height)\nfg2.fit(m2_freq, m2_spectra)\n\n# Create individual reports for model 2 settings (these could be saved and checked)\nfor ind in range(len(fg2)):\n    temp_model = fg2.get_fooof(ind, regenerate=True)"
      ]
    },
    {
      "cell_type": "markdown",
      "metadata": {},
      "source": [
        "There are also other ways to manage settings, for example, using the `FOOOFSettings` object.\n\nHere we will redefine group model objects (`FOOOFGroup`),\nagain using different settings for each one.\n\n\n"
      ]
    },
    {
      "cell_type": "code",
      "execution_count": null,
      "metadata": {
        "collapsed": false
      },
      "outputs": [],
      "source": [
        "# Define settings for model 1\nsettings1 = FOOOFSettings(peak_width_limits=m1_peak_width, max_n_peaks=m1_n_peaks,\n                          min_peak_height=m1_peak_height, peak_threshold=2.,\n                          aperiodic_mode='fixed')\n\n# Define settings for model 2\nsettings2 = FOOOFSettings(peak_width_limits=m2_peak_width, max_n_peaks=m2_n_peaks,\n                          min_peak_height=m2_peak_height, peak_threshold=2.,\n                          aperiodic_mode='fixed')"
      ]
    },
    {
      "cell_type": "code",
      "execution_count": null,
      "metadata": {
        "collapsed": false
      },
      "outputs": [],
      "source": [
        "# Initialize model objects for spectral parameterization, with some settings\nfg1 = FOOOFGroup(*settings1)\nfg2 = FOOOFGroup(*settings2)"
      ]
    },
    {
      "cell_type": "markdown",
      "metadata": {},
      "source": [
        "Now, let's fit models with group model object\n\nNote that when fitting power spectra, you can can specify a fit range to fit the model to,\nso you don't have to explicitly trim the spectra.\n\nHere we will refit the example data, specifying the fit range, and then save the group reports.\n\n\n"
      ]
    },
    {
      "cell_type": "code",
      "execution_count": null,
      "metadata": {
        "collapsed": false
      },
      "outputs": [],
      "source": [
        "# Fit group PSD over the 2-20 Hz and 3-40 Hz ranges, respectively\nfg1.fit(freqs, spectra_subsample, freq_range=m1_PSD_range)\nfg2.fit(freqs, spectra_subsample, freq_range=m2_PSD_range)"
      ]
    },
    {
      "cell_type": "markdown",
      "metadata": {},
      "source": [
        "At this point, it may typically be useful to save out reports from the above\ndifferent model fits (using `.save_report`), such that these different setting regimes\ncan be compared.\n\n\n"
      ]
    },
    {
      "cell_type": "markdown",
      "metadata": {},
      "source": [
        "After selecting initial model fit settings, and fitting  power spectra from the full sample,\nit is often worthwhile to check the goodness of model fit parameters. Please note,\nthe model objects below correspond to the model fit at the top of this script.\n\n\n"
      ]
    },
    {
      "cell_type": "code",
      "execution_count": null,
      "metadata": {
        "collapsed": false
      },
      "outputs": [],
      "source": [
        "# Plot distributions of goodness of fit parameters\n# This information is presented in the print_reports output as well\nfig, (ax0, ax1) = plt.subplots(1, 2, figsize=(14, 6))\nplot_hist(r2s, label='Variance explained (R^2)', ax=ax0)\nplot_hist(err, label='Mean absolute error (MAE)', ax=ax1)"
      ]
    },
    {
      "cell_type": "code",
      "execution_count": null,
      "metadata": {
        "collapsed": false
      },
      "outputs": [],
      "source": [
        "# Find the index of the worst model fit from the group\nworst_fit_ind = np.argmax(fg.get_params('error'))\n\n# Extract this model fit from the group\nfm = fg.get_fooof(worst_fit_ind, regenerate=True)"
      ]
    },
    {
      "cell_type": "code",
      "execution_count": null,
      "metadata": {
        "collapsed": false
      },
      "outputs": [],
      "source": [
        "# Check results and visualize the extracted model\nfm.print_results()\nfm.plot()"
      ]
    },
    {
      "cell_type": "markdown",
      "metadata": {},
      "source": [
        "Now, let's check for potential under-fitting.\n\n\n"
      ]
    },
    {
      "cell_type": "code",
      "execution_count": null,
      "metadata": {
        "collapsed": false
      },
      "outputs": [],
      "source": [
        "# Extract all fits that are above some error threshold, for further examination.\nunderfit_error_threshold = 0.100\nunderfit_check = []\nfor ind, res in enumerate(fg):\n    if res.error > underfit_error_threshold:\n        underfit_check.append(fg.get_fooof(ind, regenerate=True))"
      ]
    },
    {
      "cell_type": "code",
      "execution_count": null,
      "metadata": {
        "collapsed": false
      },
      "outputs": [],
      "source": [
        "# Loop through the problem fits check the plots\nfor ind, fm in enumerate(underfit_check):\n    fm.plot()"
      ]
    },
    {
      "cell_type": "markdown",
      "metadata": {},
      "source": [
        "Let's also check for potential over-fitting.\n\n\n"
      ]
    },
    {
      "cell_type": "code",
      "execution_count": null,
      "metadata": {
        "collapsed": false
      },
      "outputs": [],
      "source": [
        "# Extract all fits that are below some error threshold, for further examination.\noverfit_error_threshold = 0.02\noverfit_check = []\nfor ind, res in enumerate(fg):\n    if res.error < overfit_error_threshold:\n        overfit_check.append(fg.get_fooof(ind, regenerate=True))"
      ]
    },
    {
      "cell_type": "code",
      "execution_count": null,
      "metadata": {
        "collapsed": false
      },
      "outputs": [],
      "source": [
        "# Loop through the problem fits and check the plots\nfor ind, fm in enumerate(overfit_check):\n    fm.plot()"
      ]
    },
    {
      "cell_type": "markdown",
      "metadata": {},
      "source": [
        "The same approach for saving out data is available in the group object,\nusing the `save` method, for example:\n\n- settings: `fg.save('group_settings', save_settings=True, file_path=output_path)`\n- results: `fg.save('group_results', save_results=True, file_path=output_path)`\n\n\n"
      ]
    },
    {
      "cell_type": "markdown",
      "metadata": {},
      "source": [
        "Another option is to export results to a dataframe (from which CSV files can be saved).\n\n\n"
      ]
    },
    {
      "cell_type": "code",
      "execution_count": null,
      "metadata": {
        "collapsed": false
      },
      "outputs": [],
      "source": [
        "# Save out aperiodic parameter results\ndf = fg.to_df(2)"
      ]
    },
    {
      "cell_type": "markdown",
      "metadata": {},
      "source": [
        "### Frequency-by-frequency errors\n\nIt can be useful to plot frequency-by-frequency error of the model fit,\nto identify  where in frequency space the spectrum is (or is not) being fit well.\nWhen fitting individual spectrum, this can be accomplished using the\n`compute_pointwise_error_fg` function. When plotting the error, the plot line is\nthe mean error per frequency, across fits, and the shading indicates the standard deviation\nof the error, also per frequency.\n\nIn this case, we can see that error fluctuates around 0.03, which is the same as\nthe mean absolute error for this group fit. There are points in the spectrum where\nthe model fit is somewhat poor, particularly < 4 Hz.\nThe code below lets you identify the highest mean error and largest standard deviation\nin error for the group fit. In this case, that occurs at 3 Hz,\nsuggesting potential issues with fit at the lower end of the examined frequency range.\n\n\n"
      ]
    },
    {
      "cell_type": "code",
      "execution_count": null,
      "metadata": {
        "collapsed": false
      },
      "outputs": [],
      "source": [
        "# Plot frequency-by-frequency error\ncompute_pointwise_error_fg(fg, plot_errors=True)"
      ]
    },
    {
      "cell_type": "code",
      "execution_count": null,
      "metadata": {
        "collapsed": false
      },
      "outputs": [],
      "source": [
        "# Return the errors - this returns a 2D matrix of errors for all fits\nerrs_fg = compute_pointwise_error_fg(fg, plot_errors=False, return_errors=True)\n\n# Check which frequency has the highest error\nf_max_err = fg.freqs[np.argmax(np.mean(errs_fg, 0))]\nprint('Frequency with highest mean error: \\t\\t\\t', f_max_err)\n\n# Check which frequency has the largest standard deviation of error\nf_max_std = fg.freqs[np.argmax(np.std(errs_fg, 0))]\nprint('Frequency with highest standard deviation of error: \\t', f_max_std)"
      ]
    },
    {
      "cell_type": "markdown",
      "metadata": {},
      "source": [
        "In some cases, it may be necessary to drop poor (or failed) model fits from the group object.\nThis can be done using the `fg.drop` function, as shown here.\nIn this case, we remove a participant who has a MAE greater than 0.10.\nThe error threshold will vary depending on sample characteristics and data quality.\n\n\n"
      ]
    },
    {
      "cell_type": "code",
      "execution_count": null,
      "metadata": {
        "collapsed": false
      },
      "outputs": [],
      "source": [
        "# Drop poor model fits based on MAE\nfg.drop(fg.get_params('error') > 0.10)"
      ]
    },
    {
      "cell_type": "markdown",
      "metadata": {},
      "source": [
        "### Conclusions\n\nFor more on this topic, see the\n[DevelopmentalDemo repository](https://github.com/fooof-tools/DevelopmentalDemo/)\nand/or the\n[associated paper](https://doi.org/10.1016/j.dcn.2022.101073)\nfor further information.\n\n\n"
      ]
    }
  ],
  "metadata": {
    "kernelspec": {
      "display_name": "Python 3",
      "language": "python",
      "name": "python3"
    },
    "language_info": {
      "codemirror_mode": {
        "name": "ipython",
        "version": 3
      },
      "file_extension": ".py",
      "mimetype": "text/x-python",
      "name": "python",
      "nbconvert_exporter": "python",
      "pygments_lexer": "ipython3",
      "version": "3.8.3"
    }
  },
  "nbformat": 4,
  "nbformat_minor": 0
}