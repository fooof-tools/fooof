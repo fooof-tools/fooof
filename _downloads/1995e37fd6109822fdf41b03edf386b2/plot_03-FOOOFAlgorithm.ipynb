{
  "cells": [
    {
      "cell_type": "markdown",
      "metadata": {},
      "source": [
        "\n# 03: Fitting Algorithm\n\nA step-by-step overview of the algorithm for parameterizing neural power spectra.\n"
      ]
    },
    {
      "cell_type": "markdown",
      "metadata": {},
      "source": [
        "## Algorithmic Description\n\nIn this tutorial we will step through how the power spectrum model is fit.\n\nNote that this notebook is for demonstrative purposes, and does not represent\nrecommended usage of how to fit power spectrum models.\n\nBroadly, the steps in the algorithm are:\n\n- 1) An initial fit of the aperiodic component is computed from the power spectrum\n- 2) This aperiodic fit is subtracted from the power spectrum, creating a flattened spectrum\n- 3) An iterative process identifies peaks in this flattened spectrum\n- 4) A full peak fit is re-fit from all of the identified peak candidates\n- 5) The peak fit is subtracted from the original power spectrum,\n     creating a peak-removed power spectrum\n- 6) A final fit of the aperiodic component is taken of the peak-removed power spectrum\n- 7) The full model is reconstructed from the combination of the aperiodic and peak fits,\n     and goodness of fit metrics are calculated.\n\n\n"
      ]
    },
    {
      "cell_type": "code",
      "execution_count": null,
      "metadata": {
        "collapsed": false
      },
      "outputs": [],
      "source": [
        "# General imports\nimport matplotlib.pyplot as plt\n\n# Import the FOOOF object\nfrom fooof import FOOOF\n\n# Import some internal functions\n#   These are used here to demonstrate the algorithm\n#   You do not need to import these functions for standard usage of the module\nfrom fooof.sim.gen import gen_aperiodic\nfrom fooof.plts.spectra import plot_spectra\nfrom fooof.plts.annotate import plot_annotated_peak_search\n\n# Import a utility to download and load example data\nfrom fooof.utils.download import load_fooof_data"
      ]
    },
    {
      "cell_type": "code",
      "execution_count": null,
      "metadata": {
        "collapsed": false
      },
      "outputs": [],
      "source": [
        "# Set whether to plot in log-log space\nplt_log = False"
      ]
    },
    {
      "cell_type": "code",
      "execution_count": null,
      "metadata": {
        "collapsed": false
      },
      "outputs": [],
      "source": [
        "# Load example data files needed for this example\nfreqs = load_fooof_data('freqs_2.npy', folder='data')\nspectrum = load_fooof_data('spectrum_2.npy', folder='data')"
      ]
    },
    {
      "cell_type": "code",
      "execution_count": null,
      "metadata": {
        "collapsed": false
      },
      "outputs": [],
      "source": [
        "# Initialize a FOOOF object, with some settings\n#   These settings will be more fully described later in the tutorials\nfm = FOOOF(peak_width_limits=[1, 8], max_n_peaks=6, min_peak_height=0.15)"
      ]
    },
    {
      "cell_type": "markdown",
      "metadata": {},
      "source": [
        "Note that data can be added to a FOOOF object independent of fitting the model, using the\n:meth:`~fooof.FOOOF.add_data` method. FOOOF objects can also be used to plot data,\nprior to fitting any models.\n\n\n"
      ]
    },
    {
      "cell_type": "code",
      "execution_count": null,
      "metadata": {
        "collapsed": false
      },
      "outputs": [],
      "source": [
        "# Add data to the object\nfm.add_data(freqs, spectrum, [3, 40])"
      ]
    },
    {
      "cell_type": "code",
      "execution_count": null,
      "metadata": {
        "collapsed": false
      },
      "outputs": [],
      "source": [
        "# Plot the power spectrum\nfm.plot(plt_log)"
      ]
    },
    {
      "cell_type": "markdown",
      "metadata": {},
      "source": [
        "The FOOOF object stores most of the intermediate steps internally.\n\nFor this notebook, we will first fit the full model, as normal, but then step through,\nand visualize each step the algorithm took to come to that final fit.\n\n\n"
      ]
    },
    {
      "cell_type": "code",
      "execution_count": null,
      "metadata": {
        "collapsed": false
      },
      "outputs": [],
      "source": [
        "# Fit the power spectrum model\nfm.fit(freqs, spectrum, [3, 40])"
      ]
    },
    {
      "cell_type": "markdown",
      "metadata": {},
      "source": [
        "### Step 1: Initial Aperiodic Fit\n\nWe start by taking an initial aperiodic fit. This goal of this fit is to get an initial\nfit that is good enough to get started with the fitting process.\n\n\n"
      ]
    },
    {
      "cell_type": "code",
      "execution_count": null,
      "metadata": {
        "collapsed": false
      },
      "outputs": [],
      "source": [
        "# Do an initial aperiodic fit - a robust fit, that excludes outliers\n#   This recreates an initial fit that isn't ultimately stored in the FOOOF object\ninit_ap_fit = gen_aperiodic(fm.freqs, fm._robust_ap_fit(fm.freqs, fm.power_spectrum))\n\n# Plot the initial aperiodic fit\n_, ax = plt.subplots(figsize=(12, 10))\nplot_spectra(fm.freqs, fm.power_spectrum, plt_log,\n             label='Original Power Spectrum', color='black', ax=ax)\nplot_spectra(fm.freqs, init_ap_fit, plt_log, label='Initial Aperiodic Fit',\n             color='blue', alpha=0.5, linestyle='dashed', ax=ax)"
      ]
    },
    {
      "cell_type": "markdown",
      "metadata": {},
      "source": [
        "### Step 2: Flatten the Spectrum\n\nThe initial fit is then used to create a flattened spectrum.\n\nThe initial aperiodic fit is subtracted out from the original data, leaving a flattened\nversion of the data which no longer contains the aperiodic component.\n\n\n"
      ]
    },
    {
      "cell_type": "code",
      "execution_count": null,
      "metadata": {
        "collapsed": false
      },
      "outputs": [],
      "source": [
        "# Recompute the flattened spectrum using the initial aperiodic fit\ninit_flat_spec = fm.power_spectrum - init_ap_fit\n\n# Plot the flattened the power spectrum\nplot_spectra(fm.freqs, init_flat_spec, plt_log,\n             label='Flattened Spectrum', color='black')"
      ]
    },
    {
      "cell_type": "markdown",
      "metadata": {},
      "source": [
        "### Step 3: Detect Peaks\n\nThe flattened spectrum is then used to detect peaks. We can better isolate\npeaks in the data, as the aperiodic activity has been removed.\n\nThe fitting algorithm uses an iterative procedure to find peaks in the flattened spectrum.\n\nFor each iteration:\n\n- The maximum point of the flattened spectrum is found\n\n  - If this point fails to pass the relative or absolute height threshold,\n    the procedure halts\n- A Gaussian is fit around this maximum point\n- This 'guess' Gaussian is then subtracted from the flatted spectrum\n- The procedure continues to a new iteration with the new version of the flattened spectrum,\n  unless `max_n_peaks` has been reached\n\n\n"
      ]
    },
    {
      "cell_type": "code",
      "execution_count": null,
      "metadata": {
        "collapsed": false
      },
      "outputs": [],
      "source": [
        "# Plot the iterative approach to finding peaks from the flattened spectrum\nplot_annotated_peak_search(fm)"
      ]
    },
    {
      "cell_type": "markdown",
      "metadata": {},
      "source": [
        "### Step 4: Create Full Peak Fit\n\nOnce the iterative procedure has halted and the peaks have been identified in the\nflattened spectrum, the set of identified 'guess' peaks, are then re-fit, all together.\nThis creates the full peak fit of the data.\n\n\n"
      ]
    },
    {
      "cell_type": "code",
      "execution_count": null,
      "metadata": {
        "collapsed": false
      },
      "outputs": [],
      "source": [
        "# Plot the peak fit: created by re-fitting all of the candidate peaks together\nplot_spectra(fm.freqs, fm._peak_fit, plt_log, color='green', label='Final Periodic Fit')"
      ]
    },
    {
      "cell_type": "markdown",
      "metadata": {},
      "source": [
        "### Step 5: Create a Peak-Removed Spectrum\n\nNow that the peak component of the fit is completed and available, this fit is then\nused in order to try and isolate a better aperiodic fit.\n\nTo do so, the peak fit is removed from the original power spectrum,\nleaving an 'aperiodic-only' spectrum for re-fitting.\n\n\n"
      ]
    },
    {
      "cell_type": "code",
      "execution_count": null,
      "metadata": {
        "collapsed": false
      },
      "outputs": [],
      "source": [
        "# Plot the peak removed power spectrum, created by removing peak fit from original spectrum\nplot_spectra(fm.freqs, fm._spectrum_peak_rm, plt_log,\n             label='Peak Removed Spectrum', color='black')"
      ]
    },
    {
      "cell_type": "markdown",
      "metadata": {},
      "source": [
        "### Step 6: Re-fit the Aperiodic Component\n\nThe initial aperiodic component fit we made was a robust fit approach that was\nused to get the fitting process started.\n\nWith the peak-removed spectrum, we can now re-fit the aperiodic component, to\nre-estimate a better fit, without the peaks getting in the way.\n\n\n"
      ]
    },
    {
      "cell_type": "code",
      "execution_count": null,
      "metadata": {
        "collapsed": false
      },
      "outputs": [],
      "source": [
        "# Plot the final aperiodic fit, calculated on the peak removed power spectrum\n_, ax = plt.subplots(figsize=(12, 10))\nplot_spectra(fm.freqs, fm._spectrum_peak_rm, plt_log,\n             label='Peak Removed Spectrum', color='black', ax=ax)\nplot_spectra(fm.freqs, fm._ap_fit, plt_log, label='Final Aperiodic Fit',\n             color='blue', alpha=0.5, linestyle='dashed', ax=ax)"
      ]
    },
    {
      "cell_type": "markdown",
      "metadata": {},
      "source": [
        "### Step 7: Combine the Full Model Fit\n\nNow that we have the final aperiodic fit, we can combine the aperiodic components\nto create the full model fit.\n\nWith this full model fit, we can also calculate the goodness of fit metrics,\nincluding the error of the fit and the R-squared of the fit, by comparing the\nfull model fit to the original data.\n\n\n"
      ]
    },
    {
      "cell_type": "code",
      "execution_count": null,
      "metadata": {
        "collapsed": false
      },
      "outputs": [],
      "source": [
        "# Plot full model, created by combining the peak and aperiodic fits\nplot_spectra(fm.freqs, fm.fooofed_spectrum_, plt_log,\n             label='Full Model', color='red')"
      ]
    },
    {
      "cell_type": "markdown",
      "metadata": {},
      "source": [
        "The last stage is to calculate the goodness of fit metrics, meaning the fit error & R^2.\n\nAt the end of the fitting process, the model object also organizes parameters, such as\nupdating gaussian parameters to be peak parameters,\n\nThese results are part of what are stored, and printed, as the model results.\n\n\n"
      ]
    },
    {
      "cell_type": "code",
      "execution_count": null,
      "metadata": {
        "collapsed": false
      },
      "outputs": [],
      "source": [
        "# Print out the model results\nfm.print_results()"
      ]
    },
    {
      "cell_type": "markdown",
      "metadata": {},
      "source": [
        "Altogether, the full model fit is now available, and can be plotted.\n\n\n"
      ]
    },
    {
      "cell_type": "code",
      "execution_count": null,
      "metadata": {
        "collapsed": false
      },
      "outputs": [],
      "source": [
        "# Plot the full model fit of the power spectrum\n#  The final fit (red), and aperiodic fit (blue), are the same as we plotted above\nfm.plot(plt_log)"
      ]
    },
    {
      "cell_type": "markdown",
      "metadata": {},
      "source": [
        "### Addendum: Data & Model Component Attributes\n\nAs you may have noticed through this tutorial, the :class:`~fooof.FOOOF` object keeps\ntrack of some versions of the original data as well as individual model components fits,\nas well as the final model fit, the ultimate outcome of the fitting procedure.\n\nThese attributes in the FOOOF object are kept at the end of the fitting procedure.\nThough they are primarily computed for internal use (hence being considered 'private'\nattributes, with the leading underscore), they are accessible and potentially\nuseful for some analyses, and so are briefly described here.\n\nStored model components:\n\n- Aperiodic Component: ``_ap_fit``\n\n  - This is the aperiodic-only fit of the data.\n  - It is computed by generating a reconstruction of the measured aperiodic parameters\n\n- Periodic Component: ``_peak_fit``\n\n  - This is the periodic-only (or peak) fit of the data.\n  - It is computed by generating a reconstruction of the measured periodic (peak) parameters\n\nStored data attributes:\n\n- Flattened Spectrum: ``_spectrum_flat``\n\n  - The original data, with the aperiodic component removed\n  - This is computed as ``power_spectrum`` - ``_ap_fit``\n\n- Peak Removed Spectrum: ``_spectrum_peak_rm``\n\n  - The original data, with the periodic component (peaks) removed\n  - This is computed as ``power_spectrum`` - ``_peak_fit``\n\n\n"
      ]
    },
    {
      "cell_type": "markdown",
      "metadata": {},
      "source": [
        "## Conclusion\n\nIn this tutorial we have stepped through the parameterization algorithm for fitting\npower spectrum models.\n\nNext, we will continue to explore the FOOOF object by properly introducing and more\nfully describing the settings for the algorithm.\n\n\n"
      ]
    }
  ],
  "metadata": {
    "kernelspec": {
      "display_name": "Python 3",
      "language": "python",
      "name": "python3"
    },
    "language_info": {
      "codemirror_mode": {
        "name": "ipython",
        "version": 3
      },
      "file_extension": ".py",
      "mimetype": "text/x-python",
      "name": "python",
      "nbconvert_exporter": "python",
      "pygments_lexer": "ipython3",
      "version": "3.8.3"
    }
  },
  "nbformat": 4,
  "nbformat_minor": 0
}