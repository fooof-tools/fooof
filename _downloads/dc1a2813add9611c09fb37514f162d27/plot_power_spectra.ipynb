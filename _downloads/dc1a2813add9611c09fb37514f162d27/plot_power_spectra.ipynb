{
  "cells": [
    {
      "cell_type": "markdown",
      "metadata": {},
      "source": [
        "\n# Plot Power Spectra\n\nVisualizing power spectra.\n"
      ]
    },
    {
      "cell_type": "code",
      "execution_count": null,
      "metadata": {
        "collapsed": false
      },
      "outputs": [],
      "source": [
        "# Import matplotlib, which will be used to manage some plots\nimport matplotlib.pyplot as plt\n\n# Import plotting functions\nfrom fooof.plts.spectra import plot_spectra, plot_spectra_shading\n\n# Import simulation utilities for creating test data\nfrom fooof.sim.gen import gen_power_spectrum, gen_group_power_spectra\nfrom fooof.sim.params import param_iter, Stepper"
      ]
    },
    {
      "cell_type": "markdown",
      "metadata": {},
      "source": [
        "## Plotting Power Spectra\n\nThe module also includes a plotting sub-module that includes several plotting\noptions for visualizing power spectra.\n\nThese plot functions overlap with what is accessible directly through the FOOOF objects,\nas the :meth:`~fooof.FOOOF.plot` method. There are extra functions in the module, and\nextra functionality available in the plotting module.\n\nNote that the plots in the module are all built using matplotlib. They all allow for\npassing in extra matplotlib parameters for tuning the plot aesthetics, and can also be\ncustomized using matplotlib code and approaches.\n\n\n"
      ]
    },
    {
      "cell_type": "markdown",
      "metadata": {},
      "source": [
        "In this example, we will simulated power spectra to explore the available\nplotting options. First, we'll create two spectra, using an example with different\naperiodic components with the same oscillations, including theta, alpha & beta peaks.\n\n\n"
      ]
    },
    {
      "cell_type": "code",
      "execution_count": null,
      "metadata": {
        "collapsed": false
      },
      "outputs": [],
      "source": [
        "# Settings & parameters for the simulations\nfreq_range = [3, 40]\nap_1 = [0.75, 1.5]\nap_2 = [0.25, 1]\npeaks = [[6, 0.2, 1], [10, 0.3, 1], [25, 0.15, 3]]\n\n# Simulate two example power spectra\nfreqs, powers1 = gen_power_spectrum(freq_range, ap_1, peaks)\nfreqs, powers2 = gen_power_spectrum(freq_range, ap_2, peaks)"
      ]
    },
    {
      "cell_type": "markdown",
      "metadata": {},
      "source": [
        "## Plotting Individual Power Spectra\n\nFirst we will start with the core plotting function that plots an individual power spectrum.\n\nThe :func:`~.plot_spectra` function takes in an array of frequency values and a 1d array of\nof power values, and plots the corresponding power spectrum.\n\nThis function, as all the functions in the plotting module, takes in optional inputs\n`log_freqs` and `log_powers` that control whether the frequency and power axes\nare plotted in log space.\n\n\n"
      ]
    },
    {
      "cell_type": "code",
      "execution_count": null,
      "metadata": {
        "collapsed": false
      },
      "outputs": [],
      "source": [
        "# Create a spectrum plot with a single power spectrum\nplot_spectra(freqs, powers1, log_powers=True)"
      ]
    },
    {
      "cell_type": "markdown",
      "metadata": {},
      "source": [
        "## Plotting Multiple Power Spectra\n\nThe :func:`~.plot_spectra` function takes in one or more frequency arrays and one or more\narray of associated power values and plots multiple power spectra.\n\nNote that the inputs for either can be either 2d arrays, or lists of 1d arrays. You can also\npass in additional optional inputs including `labels`, to specify labels to use in a plot\nlegend, and `colors` to specify which colors to plot each spectrum in.\n\n\n"
      ]
    },
    {
      "cell_type": "code",
      "execution_count": null,
      "metadata": {
        "collapsed": false
      },
      "outputs": [],
      "source": [
        "# Plot multiple spectra on the same plot, in log-log space, specifying some labels\nlabels = ['PSD-1', 'PSD-2']\nplot_spectra(freqs, [powers1, powers2], log_freqs=True, log_powers=True, labels=labels)"
      ]
    },
    {
      "cell_type": "markdown",
      "metadata": {},
      "source": [
        "## Plots With Shaded Regions\n\nIn some cases it may be useful to highlight or shade in particular frequency regions,\nfor example, when examining power in particular frequency regions.\n\nThe :func:`~.plot_spectra_shading` function takes in a power spectrum and one or more\nshaded regions, and plot the power spectrum with the indicated region shaded.\n\nThe same can be done for multiple power spectra with :func:`~.plot_spectra_shading`.\n\nThese functions take in an input designating one or more shade regions, each specified\nas [freq_low, freq_high] of the region to shade. They also take in an optional argument\nof `shade_colors` which can be used to control the color(s) of the shade regions.\n\n\n"
      ]
    },
    {
      "cell_type": "code",
      "execution_count": null,
      "metadata": {
        "collapsed": false
      },
      "outputs": [],
      "source": [
        "# Plot a single power spectrum, with a shaded region covering alpha\nplot_spectra_shading(freqs, powers1, [8, 12], log_powers=True)"
      ]
    },
    {
      "cell_type": "code",
      "execution_count": null,
      "metadata": {
        "collapsed": false
      },
      "outputs": [],
      "source": [
        "# Plot multiple power spectra, with shades covering theta & beta ranges\nplot_spectra_shading(freqs, [powers1, powers2], [[4, 8], [20, 30]],\n                     log_powers=True, shade_colors=['green', 'blue'])"
      ]
    },
    {
      "cell_type": "markdown",
      "metadata": {},
      "source": [
        "## Put it all together\n\nFinally, we can put all these plotting tools together.\n\nTo do so, note also that all plot functions also take in an optional `ax` argument\nthat can specify an axes to plot on. This can be used to place plots in multi-axes\nfigures, and/or to add to existing plots.\n\nHere we will also take advantage of being able to pass in parameters for the underlying\nmatplotlib `plot` call to tune the aesthetics of our plot.\n\nAs a final example then, we will simulate different alpha center frequencies (in faded colors)\nas compared to a 'canonical' 10 Hz centered alpha, altogether on a plot with a shaded\nin alpha region.\n\n\n"
      ]
    },
    {
      "cell_type": "code",
      "execution_count": null,
      "metadata": {
        "collapsed": false
      },
      "outputs": [],
      "source": [
        "# Settings & parameters for the simulations\nfreq_range = [3, 30]\nap_params = [1, 1]\n\n# Simulate a single 10 Hz centered alpha\nfreqs_al10, powers_al10 = gen_power_spectrum(freq_range, ap_params,\n                                             [10, 0.25, 1], nlv=0)\n\n# Simulate spectra stepping across alpha center frequency\ncf_steps = Stepper(8, 12.5, 0.5)\nfreqs_al, powers_al = gen_group_power_spectra(len(cf_steps), freq_range, ap_params,\n                                              param_iter([cf_steps, 0.25, 1]))"
      ]
    },
    {
      "cell_type": "code",
      "execution_count": null,
      "metadata": {
        "collapsed": false
      },
      "outputs": [],
      "source": [
        "# Create the plot, plotting onto the same axes object\nfig, ax = plt.subplots(figsize=[12, 8])\nplot_spectra_shading(freqs_al, powers_al, [8, 12],\n                     log_powers=True, alpha=0.6, ax=ax)\nplot_spectra(freqs_al10, powers_al10, log_powers=True,\n             color='black', linewidth=3, label='10 Hz Alpha', ax=ax)\nplt.title('Comparing Alphas', {'fontsize' : 20, 'fontweight' : 'bold'});"
      ]
    }
  ],
  "metadata": {
    "kernelspec": {
      "display_name": "Python 3",
      "language": "python",
      "name": "python3"
    },
    "language_info": {
      "codemirror_mode": {
        "name": "ipython",
        "version": 3
      },
      "file_extension": ".py",
      "mimetype": "text/x-python",
      "name": "python",
      "nbconvert_exporter": "python",
      "pygments_lexer": "ipython3",
      "version": "3.8.3"
    }
  },
  "nbformat": 4,
  "nbformat_minor": 0
}