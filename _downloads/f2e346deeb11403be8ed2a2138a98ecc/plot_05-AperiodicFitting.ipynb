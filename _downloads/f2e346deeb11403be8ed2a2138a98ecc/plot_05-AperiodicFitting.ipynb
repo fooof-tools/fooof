{
  "cells": [
    {
      "cell_type": "markdown",
      "metadata": {},
      "source": [
        "\n# 05: Aperiodic Component Fitting\n\nChoosing and using different modes for fitting the aperiodic component.\n"
      ]
    },
    {
      "cell_type": "code",
      "execution_count": null,
      "metadata": {
        "collapsed": false
      },
      "outputs": [],
      "source": [
        "# Import the FOOOF object\nfrom fooof import FOOOF\n\n# Import a utility to download and load example data\nfrom fooof.utils.download import load_fooof_data"
      ]
    },
    {
      "cell_type": "markdown",
      "metadata": {},
      "source": [
        "## Aperiodic Fitting Approaches\n\nThere are currently two approaches for fitting the aperiodic component:\n\n- Fitting with just an offset and a exponent, equivalent to a linear fit in log-log space\n\n  - `aperiodic_mode` = 'fixed'\n- Including a 'knee' parameter, reflecting a fit with a bend, in log-log space\n\n  - `aperiodic_mode` = 'knee'\n\nFitting in the 'fixed' mode assumes a single 1/f like characteristic to the aperiodic\ncomponent, meaning it looks linear across all frequencies in log-log space.\n\nThough this assumption is true across *some* frequency ranges in neural data, it generally\ndoes not hold up across broad frequency ranges. If fitting is done in the 'fixed' mode,\nbut the assumption of a single 1/f is violated, then fitting will go wrong.\n\nBroad frequency ranges (typically ranges greater than ~40 Hz range) typically do not\nhave a single 1/f, as assumed by 'fixed' mode, as they typically exhibit a 'bend' in\nthe aperiodic component. This indicates that there is not a single 1/f property across\nall frequencies, but rather a 'bend' in the aperiodic component. For these cases, fitting\nshould be done using an extra parameter to capture this, using the 'knee' mode.\n\n\n"
      ]
    },
    {
      "cell_type": "markdown",
      "metadata": {},
      "source": [
        "### Fitting with an Aperiodic 'Knee'\n\nLet's explore fitting power spectrum models across a broader frequency range,\nusing some local field potential data.\n\n\n"
      ]
    },
    {
      "cell_type": "code",
      "execution_count": null,
      "metadata": {
        "collapsed": false
      },
      "outputs": [],
      "source": [
        "# Load example data files needed for this example\nfreqs = load_fooof_data('freqs_lfp.npy', folder='data')\nspectrum = load_fooof_data('spectrum_lfp.npy', folder='data')"
      ]
    },
    {
      "cell_type": "code",
      "execution_count": null,
      "metadata": {
        "collapsed": false
      },
      "outputs": [],
      "source": [
        "# Initialize a FOOOF object, setting the aperiodic mode to use a 'knee' fit\nfm = FOOOF(peak_width_limits=[2, 8], aperiodic_mode='knee')"
      ]
    },
    {
      "cell_type": "code",
      "execution_count": null,
      "metadata": {
        "collapsed": false
      },
      "outputs": [],
      "source": [
        "# Fit a power spectrum model\n#  Note that this time we're specifying an optional parameter to plot in log-log\nfm.report(freqs, spectrum, [2, 70], plt_log=True)"
      ]
    },
    {
      "cell_type": "markdown",
      "metadata": {},
      "source": [
        "## A note on interpreting the 'knee' parameter\n\nThe aperiodic fit has the form:\n\n\\begin{align}AP = 10^b * \\ \\frac{1}{(k + F^\\chi)}\\end{align}\n\nThe knee parameter reported above corresponds to `k` in the equation.\n\nThis parameter is dependent on the frequency at which the aperiodic fit\ntransitions from horizontal to negatively sloped.\n\nTo interpret this parameter as a frequency, take the $\\chi$-th root of `k`, i.e.:\n\n\\begin{align}knee \\ frequency = k^{1/\\ \\chi}\\end{align}\n\nInterpreting the fit results when using knee fits is more complex, as the exponent result is\nno longer a simple measure of the aperiodic component as a whole, but instead reflects the\naperiodic component past the 'knee' inflecting point. Because of this, when doing knee fits,\nknee & exponent values should be considered together.\n\n\n"
      ]
    },
    {
      "cell_type": "markdown",
      "metadata": {},
      "source": [
        "## Example: Aperiodic Fitting Gone Wrong\n\nIn the example above, we jumped directly to fitting with a knee.\n\nHere we will explore what it looks like if we don't use the appropriate mode for fitting\nthe aperiodic component - fitting in 'fixed' mode when we should use 'knee'\n\n\n"
      ]
    },
    {
      "cell_type": "code",
      "execution_count": null,
      "metadata": {
        "collapsed": false
      },
      "outputs": [],
      "source": [
        "# Create and fit a power spectrum model in fixed mode to the same data as above\nfm = FOOOF(peak_width_limits=[2, 8], aperiodic_mode='fixed')\nfm.report(freqs, spectrum, [2, 70], plt_log=True)"
      ]
    },
    {
      "cell_type": "markdown",
      "metadata": {},
      "source": [
        "In this case, we see that the 'fixed' aperiodic component (equivalent to a line\nin log-log space) is not able to capture the data, which has a curve.\n\nTo compensate, the model adds extra peaks, but these are also not a good\ncharacterization of the data.\n\nIn this example, the data, over this frequency range, needs to be fit in\n'knee' mode to be able to appropriately characterize the data.\n\n\n"
      ]
    },
    {
      "cell_type": "markdown",
      "metadata": {},
      "source": [
        "## Choosing an Aperiodic Fitting Procedure\n\nIt is important to choose the appropriate aperiodic fitting approach for your data.\n\nIf there is a clear knee in the power spectrum, fitting in 'fixed' mode will not\nwork well. However fitting with a knee may perform sub-optimally in ambiguous cases\n(where the data may or may not have a knee), or if no knee is present.\n\nGiven this, we recommend:\n\n- Check your data, across the frequency range of interest,\n  for what the aperiodic component looks like.\n\n  - If it looks roughly linear (in log-log space), fit without a knee.\n\n    - This is likely across smaller frequency ranges, such as 3-30.\n    - Do not perform no-knee fits across a range in which this does not hold.\n  - If there is a clear knee, then use knee fits.\n\n    - This is likely across larger fitting ranges such as 1-150 Hz.\n- Be wary of ambiguous ranges, where there may or may not be a knee.\n\n  - Trying to fit without a knee, when there is not a single consistent aperiodic component,\n    can lead to very bad fits. However, trying to fit with a knee may lead to suboptimal fits\n    when no knee is present, and makes interpreting the exponent more difficult.\n\n    - We therefore currently recommend picking frequency ranges in which the expected\n      aperiodic component process is relatively clear.\n\n\n"
      ]
    },
    {
      "cell_type": "markdown",
      "metadata": {},
      "source": [
        "## Conclusion\n\nWe have now explored the :class:`~fooof.FOOOF` object, and different fitting\napproaches for the aperiodic component. Next up, we will be introducing how\nto scale the fitting to apply across multiple power spectra.\n\n\n"
      ]
    }
  ],
  "metadata": {
    "kernelspec": {
      "display_name": "Python 3",
      "language": "python",
      "name": "python3"
    },
    "language_info": {
      "codemirror_mode": {
        "name": "ipython",
        "version": 3
      },
      "file_extension": ".py",
      "mimetype": "text/x-python",
      "name": "python",
      "nbconvert_exporter": "python",
      "pygments_lexer": "ipython3",
      "version": "3.8.3"
    }
  },
  "nbformat": 4,
  "nbformat_minor": 0
}