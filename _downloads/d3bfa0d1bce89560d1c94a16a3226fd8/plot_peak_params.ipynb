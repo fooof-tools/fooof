{
  "cells": [
    {
      "cell_type": "markdown",
      "metadata": {},
      "source": [
        "\n# Periodic Parameters\n\nExploring properties and topics related to peak parameters.\n"
      ]
    },
    {
      "cell_type": "code",
      "execution_count": null,
      "metadata": {
        "collapsed": false
      },
      "outputs": [],
      "source": [
        "from fooof import FOOOF, FOOOFGroup\nfrom fooof.plts.spectra import plot_spectra\nfrom fooof.plts.periodic import plot_peak_params\nfrom fooof.sim.utils import set_random_seed\nfrom fooof.sim.params import Stepper, param_iter\nfrom fooof.sim import gen_power_spectrum, gen_group_power_spectra\nfrom fooof.plts.annotate import plot_annotated_model\nfrom fooof.utils.params import compute_time_constant, compute_knee_frequency"
      ]
    },
    {
      "cell_type": "markdown",
      "metadata": {},
      "source": [
        "## Gaussian Peak Model\n\nBy default, the spectral parameterization model fits Gaussians to any detected peaks.\n\nThese Gaussians are defined by a mean, height, and standard deviation, which we in turn\ninterpret as the center frequency (CF), power (PW), and bandwidth (BW) of the putative\noscillation.\n\nIn this example, we will further explore these peak parameters and some topics and\nlimitations related to their use and interpretations.\n\n\n"
      ]
    },
    {
      "cell_type": "code",
      "execution_count": null,
      "metadata": {
        "collapsed": false
      },
      "outputs": [],
      "source": [
        "# Simulate an example power spectrum\nfreqs, powers = gen_power_spectrum([3, 40], [0, 1], [10, 0.3, 1.], freq_res=0.25)"
      ]
    },
    {
      "cell_type": "code",
      "execution_count": null,
      "metadata": {
        "collapsed": false
      },
      "outputs": [],
      "source": [
        "# Initialize model object and fit power spectrum\nfm = FOOOF(min_peak_height=0.1)\nfm.fit(freqs, powers)"
      ]
    },
    {
      "cell_type": "code",
      "execution_count": null,
      "metadata": {
        "collapsed": false
      },
      "outputs": [],
      "source": [
        "# Plot annotated model labelling the peaks\nplot_annotated_model(fm, annotate_peaks=True, annotate_aperiodic=False, plt_log=True)"
      ]
    },
    {
      "cell_type": "markdown",
      "metadata": {},
      "source": [
        "In the above we can see an example of the fit peak parameters\n\n\n"
      ]
    },
    {
      "cell_type": "markdown",
      "metadata": {},
      "source": [
        "## Overlapping Peaks\n\nLet's now consider some features of fitting Gaussian peaks, and how this relates to\nthe neural data under study. In particular, Gaussian's are symmetric and while they do\nseem to approximate the peaks we observe in emprical data quite well, not all peaks\nin empirical power spectra are quite symmetric.\n\nTo deal with this, the model sometimes fits overlapping peaks, whereby two or more peaks\nare used by the model to capture the shape of what otherwise looks like a single peak.\n\nWe can explore this in a simplified simulation.\n\n\n"
      ]
    },
    {
      "cell_type": "code",
      "execution_count": null,
      "metadata": {
        "collapsed": false
      },
      "outputs": [],
      "source": [
        "# Set the random seed\nset_random_seed(10)"
      ]
    },
    {
      "cell_type": "code",
      "execution_count": null,
      "metadata": {
        "collapsed": false
      },
      "outputs": [],
      "source": [
        "# Simulate an example power spectrum created with an asymmetric peak\nfreqs, powers = gen_power_spectrum([3, 40], [0, 1], [[10, 0.3, 1.], [11.25, 0.175, 0.5]], freq_res=0.25)"
      ]
    },
    {
      "cell_type": "code",
      "execution_count": null,
      "metadata": {
        "collapsed": false
      },
      "outputs": [],
      "source": [
        "# Initialize model object and fit power spectrum\nfm = FOOOF(min_peak_height=0.1)\nfm.report(freqs, powers)"
      ]
    },
    {
      "cell_type": "markdown",
      "metadata": {},
      "source": [
        "As we can see in the above model solution, in the data, it looks like there is a single\noscillatory peak, and yet the model has captured this peak with two Gaussians.\n\nThis example serves to demonstrate two key points. First, not all Gaussians fit in the model\nnecessary reflect separate peaks, as some may overlap. Second, when peaks overlap,\nthe parameters of each individually may accurately capture a peak in the data, as the\noverall shape of the peak may be captured as the interaction across multiple Gaussians\n(this is most common / notable for the bandwidth measure, whereby the width of the peak is\nbest described as the combined width of the two adjacent peaks).\n\nNote that, by construction, this simulated example was created by simulating two overlapping\npeaks, and so in that sense the model is actually correct in it's solution. In empirical\ndata, we do not know if a power spectrum that looks like this does reflect two underlying\noscillatory processes, or perhaps a single oscillatory process that happens to be asymmetric\nin the frequency domain.\n\n\n"
      ]
    }
  ],
  "metadata": {
    "kernelspec": {
      "display_name": "Python 3",
      "language": "python",
      "name": "python3"
    },
    "language_info": {
      "codemirror_mode": {
        "name": "ipython",
        "version": 3
      },
      "file_extension": ".py",
      "mimetype": "text/x-python",
      "name": "python",
      "nbconvert_exporter": "python",
      "pygments_lexer": "ipython3",
      "version": "3.8.3"
    }
  },
  "nbformat": 4,
  "nbformat_minor": 0
}