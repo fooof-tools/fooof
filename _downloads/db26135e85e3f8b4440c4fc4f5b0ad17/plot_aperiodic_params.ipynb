{
  "cells": [
    {
      "cell_type": "markdown",
      "metadata": {},
      "source": [
        "\n# Aperiodic Parameters\n\nExploring properties and topics related to aperiodic parameters.\n"
      ]
    },
    {
      "cell_type": "code",
      "execution_count": null,
      "metadata": {
        "collapsed": false
      },
      "outputs": [],
      "source": [
        "from scipy.stats import spearmanr\n\nfrom fooof import FOOOF, FOOOFGroup\nfrom fooof.plts.spectra import plot_spectra\nfrom fooof.plts.annotate import plot_annotated_model\nfrom fooof.plts.aperiodic import plot_aperiodic_params\nfrom fooof.sim.params import Stepper, param_iter\nfrom fooof.sim import gen_power_spectrum, gen_group_power_spectra\nfrom fooof.utils.params import compute_time_constant, compute_knee_frequency"
      ]
    },
    {
      "cell_type": "markdown",
      "metadata": {},
      "source": [
        "## 'Fixed' Model\n\nFirst, we will explore the 'fixed' model, which fits an offset and exponent value\nto characterize the 1/f-like aperiodic component of the data.\n\n\n"
      ]
    },
    {
      "cell_type": "code",
      "execution_count": null,
      "metadata": {
        "collapsed": false
      },
      "outputs": [],
      "source": [
        "# Simulate an example power spectrum\nfreqs, powers = gen_power_spectrum([1, 50], [0, 1], [10, 0.25, 2], freq_res=0.25)"
      ]
    },
    {
      "cell_type": "code",
      "execution_count": null,
      "metadata": {
        "collapsed": false
      },
      "outputs": [],
      "source": [
        "# Initialize model object and fit power spectrum\nfm = FOOOF(min_peak_height=0.1)\nfm.fit(freqs, powers)"
      ]
    },
    {
      "cell_type": "code",
      "execution_count": null,
      "metadata": {
        "collapsed": false
      },
      "outputs": [],
      "source": [
        "# Check the aperiodic parameters\nfm.aperiodic_params_"
      ]
    },
    {
      "cell_type": "code",
      "execution_count": null,
      "metadata": {
        "collapsed": false
      },
      "outputs": [],
      "source": [
        "# Plot annotated model of aperiodic parameters\nplot_annotated_model(fm, annotate_peaks=False, annotate_aperiodic=True, plt_log=True)"
      ]
    },
    {
      "cell_type": "markdown",
      "metadata": {},
      "source": [
        "## Comparing Offset & Exponent\n\nA common analysis of model fit parameters includes examining and comparing changes\nin the offset and/or exponent values of a set of models, which we will now explore.\n\nTo do so, we will start by simulating a set of power spectra with different exponent values.\n\n\n"
      ]
    },
    {
      "cell_type": "code",
      "execution_count": null,
      "metadata": {
        "collapsed": false
      },
      "outputs": [],
      "source": [
        "# Define simulation parameters, stepping across different exponent values\nexp_steps = Stepper(0, 2, 0.25)\nap_params = param_iter([1, exp_steps])"
      ]
    },
    {
      "cell_type": "code",
      "execution_count": null,
      "metadata": {
        "collapsed": false
      },
      "outputs": [],
      "source": [
        "# Simulate a group of power spectra\nfreqs, powers = gen_group_power_spectra(\\\n    len(exp_steps), [3, 40], ap_params, [10, 0.25, 1], freq_res=0.25, f_rotation=10)"
      ]
    },
    {
      "cell_type": "code",
      "execution_count": null,
      "metadata": {
        "collapsed": false
      },
      "outputs": [],
      "source": [
        "# Plot the set of example power spectra\nplot_spectra(freqs, powers, log_powers=True)"
      ]
    },
    {
      "cell_type": "code",
      "execution_count": null,
      "metadata": {
        "collapsed": false
      },
      "outputs": [],
      "source": [
        "# Initialize a group mode object and parameterize the power spectra\nfg = FOOOFGroup()\nfg.fit(freqs, powers)"
      ]
    },
    {
      "cell_type": "code",
      "execution_count": null,
      "metadata": {
        "collapsed": false
      },
      "outputs": [],
      "source": [
        "# Extract the aperiodic values of the model fits\nap_values = fg.get_params('aperiodic')"
      ]
    },
    {
      "cell_type": "code",
      "execution_count": null,
      "metadata": {
        "collapsed": false
      },
      "outputs": [],
      "source": [
        "# Plot the aperiodic parameters\nplot_aperiodic_params(fg.get_params('aperiodic'))"
      ]
    },
    {
      "cell_type": "code",
      "execution_count": null,
      "metadata": {
        "collapsed": false
      },
      "outputs": [],
      "source": [
        "# Compute the correlation between the offset and exponent\nspearmanr(ap_values[0, :], ap_values[1, :])"
      ]
    },
    {
      "cell_type": "markdown",
      "metadata": {},
      "source": [
        "What we see above matches the common finding that that the offset and exponent are\noften highly correlated! This is because if you imagine a change in exponent as\nthe spectrum 'rotating' around some frequency value, then (almost) any change in exponent\nhas a corresponding change in offset value! If you note in the above, we actually specified\na rotation point around which the exponent changes.\n\nThis can also be seen in this animation showing this effect across different rotation points:\n\n<img src=\"https://raw.githubusercontent.com/fooof-tools/Visualizers/main/gifs/specrot.gif\">\n\nNotably this means that while the offset and exponent can change independently (there can be\noffset changes over and above exponent changes), the baseline expectation is that these\ntwo parameters are highly correlated and likely reflect the same change in the data!\n\n\n"
      ]
    },
    {
      "cell_type": "markdown",
      "metadata": {},
      "source": [
        "## Knee Model\n\nNext, let's explore the knee model, which parameterizes the aperiodic component with\nan offset, knee, and exponent value.\n\n\n"
      ]
    },
    {
      "cell_type": "code",
      "execution_count": null,
      "metadata": {
        "collapsed": false
      },
      "outputs": [],
      "source": [
        "# Generate a power spectrum with a knee\nfreqs2, powers2 = gen_power_spectrum([1, 50], [0, 15, 1], [8, 0.125, 0.75], freq_res=0.25)"
      ]
    },
    {
      "cell_type": "code",
      "execution_count": null,
      "metadata": {
        "collapsed": false
      },
      "outputs": [],
      "source": [
        "# Initialize model object and fit power spectrum\nfm = FOOOF(min_peak_height=0.05, aperiodic_mode='knee')\nfm.fit(freqs2, powers2)"
      ]
    },
    {
      "cell_type": "code",
      "execution_count": null,
      "metadata": {
        "collapsed": false
      },
      "outputs": [],
      "source": [
        "# Plot annotated knee model\nplot_annotated_model(fm, annotate_peaks=False, annotate_aperiodic=True, plt_log=True)"
      ]
    },
    {
      "cell_type": "code",
      "execution_count": null,
      "metadata": {
        "collapsed": false
      },
      "outputs": [],
      "source": [
        "# Check the measured aperiodic parameters\nfm.aperiodic_params_"
      ]
    },
    {
      "cell_type": "markdown",
      "metadata": {},
      "source": [
        "### Knee Frequency\n\nYou might notice that the knee *parameter* is not an obvious value. Notably, this parameter\nvalue as extracted from the model is something of an abstract quantify based on the\nformalization of the underlying fit function. A more intuitive measure that we may\nbe interested in is the 'knee frequency', which is an estimate of the frequency value\nat which the knee occurs.\n\nThe :func:`~.compute_knee_frequency` function can be used to compute the knee frequency.\n\n\n"
      ]
    },
    {
      "cell_type": "code",
      "execution_count": null,
      "metadata": {
        "collapsed": false
      },
      "outputs": [],
      "source": [
        "# Compute the knee frequency from aperiodic parameters\nknee_frequency = compute_knee_frequency(*fm.aperiodic_params_[1:])\nprint('Knee frequency: ', knee_frequency)"
      ]
    },
    {
      "cell_type": "markdown",
      "metadata": {},
      "source": [
        "### Time Constant\n\nAnother interesting property of the knee parameter is that it has a direct relationship\nto the auto-correlation function, and from there to the empirical time constant of the data.\n\nThe :func:`~.compute_time_constant` function can be used to compute the knee-derived\ntime constant.\n\n\n"
      ]
    },
    {
      "cell_type": "code",
      "execution_count": null,
      "metadata": {
        "collapsed": false
      },
      "outputs": [],
      "source": [
        "# Compute the characteristic time constant of a knee value\ntime_constant = compute_time_constant(fm.get_params('aperiodic', 'knee'))\nprint('Knee derived time constant: ', time_constant)"
      ]
    }
  ],
  "metadata": {
    "kernelspec": {
      "display_name": "Python 3",
      "language": "python",
      "name": "python3"
    },
    "language_info": {
      "codemirror_mode": {
        "name": "ipython",
        "version": 3
      },
      "file_extension": ".py",
      "mimetype": "text/x-python",
      "name": "python",
      "nbconvert_exporter": "python",
      "pygments_lexer": "ipython3",
      "version": "3.8.3"
    }
  },
  "nbformat": 4,
  "nbformat_minor": 0
}