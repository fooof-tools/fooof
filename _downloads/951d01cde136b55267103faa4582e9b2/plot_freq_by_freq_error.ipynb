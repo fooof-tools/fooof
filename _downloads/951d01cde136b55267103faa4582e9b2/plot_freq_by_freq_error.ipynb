{
  "cells": [
    {
      "cell_type": "markdown",
      "metadata": {},
      "source": [
        "\n# Frequency-by-Frequency Errors\n\nCheck the error of power spectrum models across frequencies.\n"
      ]
    },
    {
      "cell_type": "code",
      "execution_count": null,
      "metadata": {
        "collapsed": false
      },
      "outputs": [],
      "source": [
        "# Import numpy for some utility functions\nimport numpy as np\n\n# Import the FOOOF and FOOOFGroup objects\nfrom fooof import FOOOF, FOOOFGroup\n\n# Import simulation utilities to create some test data\nfrom fooof.sim.gen import gen_power_spectrum, gen_group_power_spectra\n\n# Import functions to examine frequency-by-frequency error of model fits\nfrom fooof.analysis.error import compute_pointwise_error_fm, compute_pointwise_error_fg"
      ]
    },
    {
      "cell_type": "markdown",
      "metadata": {},
      "source": [
        "## Frequency-by-Frequency Error\n\nWhen fitting power spectrum models, one of the goodness-of-fit measures computed and\nreturned is the total error of th full model fit, compared to the original data.\n\nThough potentially useful for evaluating overall performance, this total error\nmeasure doesn't necessarily help to indicate where, in frequency space, or in what\nways the model might be going wrong.\n\nTo get better insight into the model fitting, here we will explore some utilities\nthat calculate and visualize the frequency-by-frequency error of model fits.\nThis can allow for identifying where in the spectrum is being fit well, or not well.\n\n\n"
      ]
    },
    {
      "cell_type": "markdown",
      "metadata": {},
      "source": [
        "### Checking the Error of Individual Model Fits\n\nFirst we will start by examining frequency-by-frequency error of an individual model fit,\nusing simulated data.\n\nThe function for analyzing error from a FOOOF object is\n:func:`~.compute_pointwise_error_fm`.\nTo start with, we will indicate to this function to plot the frequency-by-frequency\nerror of our model fit.\n\n\n"
      ]
    },
    {
      "cell_type": "code",
      "execution_count": null,
      "metadata": {
        "collapsed": false
      },
      "outputs": [],
      "source": [
        "# Simulate an example power spectrum\nfreqs, powers = gen_power_spectrum([3, 50], [1, 1], [10, 0.25, 0.5])"
      ]
    },
    {
      "cell_type": "code",
      "execution_count": null,
      "metadata": {
        "collapsed": false
      },
      "outputs": [],
      "source": [
        "# Initialize a FOOOF object to fit with\nfm = FOOOF(verbose=False)\n\n# Parameterize our power spectrum\nfm.fit(freqs, powers)"
      ]
    },
    {
      "cell_type": "code",
      "execution_count": null,
      "metadata": {
        "collapsed": false
      },
      "outputs": [],
      "source": [
        "# Calculate the error per frequency of the model\ncompute_pointwise_error_fm(fm, plot_errors=True)"
      ]
    },
    {
      "cell_type": "markdown",
      "metadata": {},
      "source": [
        "In the above, we can see that error is fairly even, and overall low.\nThis suggests no particular problem with the fit.\n\nYou can also calculate and return the frequency-by-frequency errors of a model fit.\n\n\n"
      ]
    },
    {
      "cell_type": "code",
      "execution_count": null,
      "metadata": {
        "collapsed": false
      },
      "outputs": [],
      "source": [
        "# We can also use this function to return the frequency-by-frequency error\nerrs_fm = compute_pointwise_error_fm(fm, plot_errors=False, return_errors=True)"
      ]
    },
    {
      "cell_type": "code",
      "execution_count": null,
      "metadata": {
        "collapsed": false
      },
      "outputs": [],
      "source": [
        "# Note that the average of this error is the same as the global error stored\nprint('Average freq-by-freq error:\\t {:1.3f}'.format(np.mean(errs_fm)))\nprint('FOOOF model fit error: \\t\\t {:1.3f}'.format(fm.error_))"
      ]
    },
    {
      "cell_type": "markdown",
      "metadata": {},
      "source": [
        "### Checking the Error Across Groups of Model Fits\n\nNext, lets move on to calculating frequency-by-frequency error across groups of fits,\nagain using some simulated data.\n\nTo analyze error from a FOOOFGroup object, use :func:`~.compute_pointwise_error_fg`.\n\n\n"
      ]
    },
    {
      "cell_type": "code",
      "execution_count": null,
      "metadata": {
        "collapsed": false
      },
      "outputs": [],
      "source": [
        "# Simulate a group of power spectra\nfreqs, powers = gen_group_power_spectra(10, [3, 50], [1, 1], [10, 0.3, 1], nlvs=0.1)"
      ]
    },
    {
      "cell_type": "code",
      "execution_count": null,
      "metadata": {
        "collapsed": false
      },
      "outputs": [],
      "source": [
        "# Initialize a FOOOFGroup object to fit\nfg = FOOOFGroup(min_peak_height=0.25, verbose=False)"
      ]
    },
    {
      "cell_type": "code",
      "execution_count": null,
      "metadata": {
        "collapsed": false
      },
      "outputs": [],
      "source": [
        "# Parameterize our group of power spectra\nfg.fit(freqs, powers)"
      ]
    },
    {
      "cell_type": "markdown",
      "metadata": {},
      "source": [
        "Just as before, we can plot and/or return the error.\n\nWhen plotting the error, the plot line is the mean error per frequency, across fits,\nand the shading indicates the standard deviation of the error, also per frequency.\n\n\n"
      ]
    },
    {
      "cell_type": "code",
      "execution_count": null,
      "metadata": {
        "collapsed": false
      },
      "outputs": [],
      "source": [
        "# Plot the group frequency-by-frequency error\ncompute_pointwise_error_fg(fg, plot_errors=True)"
      ]
    },
    {
      "cell_type": "code",
      "execution_count": null,
      "metadata": {
        "collapsed": false
      },
      "outputs": [],
      "source": [
        "# Return the errors - this returns a 2D matrix of errors for all fits\nerrs_fg = compute_pointwise_error_fg(fg, False, True)"
      ]
    },
    {
      "cell_type": "code",
      "execution_count": null,
      "metadata": {
        "collapsed": false
      },
      "outputs": [],
      "source": [
        "# We can check which frequency has highest error, or standard deviation of error\nf_max_err = fg.freqs[np.argmax(np.mean(errs_fg, 0))]\nf_max_std = fg.freqs[np.argmax(np.std(errs_fg, 0))]\n\n# Print out frequency of maximal error\nprint('Frequency with highest mean error: \\t\\t\\t', f_max_err)\nprint('Frequency with highest standard deviation of error: \\t', f_max_std)"
      ]
    },
    {
      "cell_type": "markdown",
      "metadata": {},
      "source": [
        "In the plot and checks above, we again see that the error is on average low, and\nthat there is no region that stands out as problematic.\n\n\n"
      ]
    },
    {
      "cell_type": "markdown",
      "metadata": {},
      "source": [
        "### Frequency-by-Frequency Errors When There is a Problem\n\nSo far we have examined cases in which the models were working well, and the\nfrequency-by-frequency error revealed no big surprises.\n\nAs a final example, let's examine a case in which the model is not working well,\nand see how the errors look. In particular, we will simulate some new power spectra,\nwith a knee parameter, and refit with the same FOOOFGroup object, in 'fixed' aperiodic\nmode, and then analyze the frequency-by-frequency errors, as before. In this scenario,\nwe are fitting data with the wrong model form, and so we expect there to be some issues\nwith the fit, and we can use the frequency-by-frequency error to investigate if and how\nthis is the case.\n\n\n"
      ]
    },
    {
      "cell_type": "code",
      "execution_count": null,
      "metadata": {
        "collapsed": false
      },
      "outputs": [],
      "source": [
        "# Simulate a group of power spectra, with a knee\nfreqs, powers = gen_group_power_spectra(10, [1, 50], [0, 10, 2],\n                                        [10, 0.3, 1], nlvs=0.01)\n\n# Parameterize our new group of power spectra\nfg.fit(freqs, powers)"
      ]
    },
    {
      "cell_type": "code",
      "execution_count": null,
      "metadata": {
        "collapsed": false
      },
      "outputs": [],
      "source": [
        "# Plot the group frequency-by-frequency error\ncompute_pointwise_error_fg(fg, plot_errors=True)"
      ]
    },
    {
      "cell_type": "markdown",
      "metadata": {},
      "source": [
        "In the plot above, we can see that there is more error in the model, but also that\nthis error is not evenly distributed. The error is uneven across frequencies, and\nparticularly high around the low frequencies. In this case, this is due to a mismatch\nbetween the data properties we simulated and the aperiodic mode used to fit the data.\n\nIf you see high errors, especially bunched up around particular frequencies,\nthis is a sign that something might be going wrong, and it might be worth\nlooking more into the how the model fits are going.\n\n\n"
      ]
    }
  ],
  "metadata": {
    "kernelspec": {
      "display_name": "Python 3",
      "language": "python",
      "name": "python3"
    },
    "language_info": {
      "codemirror_mode": {
        "name": "ipython",
        "version": 3
      },
      "file_extension": ".py",
      "mimetype": "text/x-python",
      "name": "python",
      "nbconvert_exporter": "python",
      "pygments_lexer": "ipython3",
      "version": "3.8.3"
    }
  },
  "nbformat": 4,
  "nbformat_minor": 0
}