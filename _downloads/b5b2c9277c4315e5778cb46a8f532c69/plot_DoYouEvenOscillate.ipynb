{
  "cells": [
    {
      "cell_type": "markdown",
      "metadata": {},
      "source": [
        "\n# Rhythmicity of Time Series\n\nExploring the rhythmicity of time series and their frequency representations.\n"
      ]
    },
    {
      "cell_type": "markdown",
      "metadata": {},
      "source": [
        "## Rhythmicity of Time Series\n\nCentral to the motivation for parameterizing neural power is the claim that power at a\ngiven frequency is not sufficient to claim that there is evidence for rhythmic, or\nperiodic, activity at that frequency.\n\nIn this example, we will explore this idea by examining some example signals in the\ntime domain, and their frequency domain representations. We will use these signals to\nmotivate if and when signals should be interpreted as containing periodic activity.\n\n\n"
      ]
    },
    {
      "cell_type": "markdown",
      "metadata": {},
      "source": [
        "### The Fourier Theorem\n\nStated informally, the Fourier theorem tells us that any time series can be represented\nas a sum of sinusoids.\n\nThis is a powerful and useful theorem, as it means that we can use tools such as the\nFourier transform and other similar measures, to compute frequency representations\nof any time series data.\n\nHowever, just because a signal can be represented by sinusoids does not mean that any\ngiven signal, or any given aspect of a signal, for which a power spectrum can be computed\nshould be conceptualized as being comprised of rhythmic components.\n\nThe power spectrum is just a possible representation of the original data, not a\ndescriptive claim of the actual components of the data.\n\n\n"
      ]
    },
    {
      "cell_type": "code",
      "execution_count": null,
      "metadata": {
        "collapsed": false
      },
      "outputs": [],
      "source": [
        "# Import numpy\nimport numpy as np\n\n# Use NeuroDSP for time series simulations & analyses\nfrom neurodsp import sim\nfrom neurodsp.utils import create_times\nfrom neurodsp.spectral import compute_spectrum_welch\nfrom neurodsp.plts import plot_time_series, plot_power_spectra"
      ]
    },
    {
      "cell_type": "code",
      "execution_count": null,
      "metadata": {
        "collapsed": false
      },
      "outputs": [],
      "source": [
        "# Set random seed, for consistency generating simulated data\nsim.set_random_seed(21)\n\n# Simulation Settings\nn_seconds = 2\ns_rate = 1000\n\n# Compute an array of time values, for plotting, and check length of data\ntimes = create_times(n_seconds, s_rate)\nn_points = len(times)"
      ]
    },
    {
      "cell_type": "markdown",
      "metadata": {},
      "source": [
        "## Frequency Representations of Aperiodic Signals\n\nLet's start with aperiodic signals, and examine how different types of aperiodic\nsignals are represented in the frequency domain.\n\n\n"
      ]
    },
    {
      "cell_type": "markdown",
      "metadata": {},
      "source": [
        "### The Dirac Delta\n\nThe Dirac delta is arguably the simplest signal, as it's a signal of all zeros,\nexcept for a single value of 1.\n\n\n"
      ]
    },
    {
      "cell_type": "code",
      "execution_count": null,
      "metadata": {
        "collapsed": false
      },
      "outputs": [],
      "source": [
        "# Simulate a delta function\ndirac_sig = np.zeros([n_points])\ndirac_sig[500] = 1"
      ]
    },
    {
      "cell_type": "code",
      "execution_count": null,
      "metadata": {
        "collapsed": false
      },
      "outputs": [],
      "source": [
        "# Plot the time series of the delta signal\nplot_time_series(times, dirac_sig)"
      ]
    },
    {
      "cell_type": "markdown",
      "metadata": {},
      "source": [
        "Next, lets compute the frequency representation of the delta function.\n\n\n"
      ]
    },
    {
      "cell_type": "code",
      "execution_count": null,
      "metadata": {
        "collapsed": false
      },
      "outputs": [],
      "source": [
        "# Compute a power spectrum of the Dirac delta\nfreqs, powers = compute_spectrum_welch(dirac_sig, 100)"
      ]
    },
    {
      "cell_type": "code",
      "execution_count": null,
      "metadata": {
        "collapsed": false
      },
      "outputs": [],
      "source": [
        "# Plot the power spectrum of the Dirac delta\nplot_power_spectra(freqs, powers)"
      ]
    },
    {
      "cell_type": "markdown",
      "metadata": {},
      "source": [
        "#### Section Conclusions\n\nAs we can see above, the power spectrum of the Dirac delta function has\npower across all frequencies.\n\nThis is despite it containing containing a single non-zero value, and thus having\nno rhythmic properties to it in the time domain.\n\nThe Dirac delta example can be taken as a proof of principle that observing power\nat a particular frequency does not necessarily imply that one should consider that\nthere are any rhythmic properties at that frequency in the original time series.\n\nIn this case, and many like it, power across all frequencies is a representation of\ntransient (or aperiodic) activity in the time series. Broadly, when there are transients,\nor aperiodic components, lots of sinusoids have to be added together in order to represent\naperiodic activity out of a basis set of periodic sine waves, and this is why such\nsignals typically look very broadband in the frequency domain.\n\n\n"
      ]
    },
    {
      "cell_type": "markdown",
      "metadata": {},
      "source": [
        "### Colored Noise Signals\n\nLet's now look at 'noise' signals.\n\nIn the signals below, we will simulate colored noise signals, in which samples are\ndrawn randomly from noise distributions, with no rhythmic properties.\n\nAs we will see, in the power spectrum, these signals exhibit power at all frequencies,\nwith specific patterns of powers across frequencies, which is dependent on the 'color'\nof the noise.\n\n\n"
      ]
    },
    {
      "cell_type": "markdown",
      "metadata": {},
      "source": [
        "#### White Noise\n\nA 'white noise' signal is one that is generated with uncorrelated samples drawn from\na random distribution. Since each element of the signal is sampled randomly,\nthere is no consistent rhythmic structure in the signal.\n\n\n"
      ]
    },
    {
      "cell_type": "code",
      "execution_count": null,
      "metadata": {
        "collapsed": false
      },
      "outputs": [],
      "source": [
        "# Generate a white noise time series signal\nwhite_sig = np.random.normal(0, 1, n_points)"
      ]
    },
    {
      "cell_type": "code",
      "execution_count": null,
      "metadata": {
        "collapsed": false
      },
      "outputs": [],
      "source": [
        "# Plot the white noise time series\nplot_time_series(times, white_sig)"
      ]
    },
    {
      "cell_type": "markdown",
      "metadata": {},
      "source": [
        "As before, we can compute and visualize the power spectrum of this signal.\n\n\n"
      ]
    },
    {
      "cell_type": "code",
      "execution_count": null,
      "metadata": {
        "collapsed": false
      },
      "outputs": [],
      "source": [
        "# Compute the power spectrum of the white noise signal\nfreqs, powers = compute_spectrum_welch(white_sig, s_rate)"
      ]
    },
    {
      "cell_type": "code",
      "execution_count": null,
      "metadata": {
        "collapsed": false
      },
      "outputs": [],
      "source": [
        "# Visualize the power spectrum of the white noise signal\nplot_power_spectra(freqs, powers)"
      ]
    },
    {
      "cell_type": "markdown",
      "metadata": {},
      "source": [
        "In the frequency representation, we can see that white noise has a flat power spectrum,\nwith equal power across all frequencies. This is the definition of white noise.\n\nThis is similar to the delta function, though note that in this case the power across\nfrequencies is representing continuous aperiodic activity, rather than a single transient.\n\n\n"
      ]
    },
    {
      "cell_type": "markdown",
      "metadata": {},
      "source": [
        "#### Pink Noise\n\nOther 'colors' of noise refer to different patterns of power distributions\nin the power spectrum.\n\nFor example, pink noise is a signal where power systematically decreases across\nfrequencies in the power spectrum.\n\n\n"
      ]
    },
    {
      "cell_type": "code",
      "execution_count": null,
      "metadata": {
        "collapsed": false
      },
      "outputs": [],
      "source": [
        "# Generate a pink noise signal\npink_sig = sim.sim_powerlaw(n_seconds, s_rate, exponent=-1)"
      ]
    },
    {
      "cell_type": "code",
      "execution_count": null,
      "metadata": {
        "collapsed": false
      },
      "outputs": [],
      "source": [
        "# Plot the pink noise time series\nplot_time_series(times, pink_sig)"
      ]
    },
    {
      "cell_type": "code",
      "execution_count": null,
      "metadata": {
        "collapsed": false
      },
      "outputs": [],
      "source": [
        "# Compute the power spectrum of the pink noise signal\nfreqs, powers = compute_spectrum_welch(pink_sig, s_rate)"
      ]
    },
    {
      "cell_type": "code",
      "execution_count": null,
      "metadata": {
        "collapsed": false
      },
      "outputs": [],
      "source": [
        "# Visualize the power spectrum of the pink noise signal\nplot_power_spectra(freqs, powers)"
      ]
    },
    {
      "cell_type": "markdown",
      "metadata": {},
      "source": [
        "#### Section Conclusion\n\nThe 'colored noise' signals above are simulated signals with no rhythmic properties,\nin the sense that there are no characteristic frequencies or visible rhythms in the data.\n\nNevertheless, and by definition, in the power spectra of such signals, there is power across\nall frequencies, with some pattern of power across frequencies.\n\nHowever, there are no frequencies at which power is different from expected from an\naperiodic noise signal. These signals are statistically, by definition, aperiodic.\n\n\n"
      ]
    },
    {
      "cell_type": "markdown",
      "metadata": {},
      "source": [
        "## Frequency Representations of Rhythmic Signals\n\nNext, lets check what frequency representations look like for time series that do have\nrhythmic activity.\n\n\n"
      ]
    },
    {
      "cell_type": "markdown",
      "metadata": {},
      "source": [
        "### Sinusoidal Signals\n\nThere are many different rhythmic signals we could simulate, in terms of different\nrhythmic shapes, and or temporal properties (such as rhythmic bursts). For this\nexample, we will stick to simulating continuous sinusoidal signals.\n\n\n"
      ]
    },
    {
      "cell_type": "code",
      "execution_count": null,
      "metadata": {
        "collapsed": false
      },
      "outputs": [],
      "source": [
        "# Generate an oscillating signal\nosc_sig = sim.sim_oscillation(n_seconds, s_rate, freq=10)"
      ]
    },
    {
      "cell_type": "code",
      "execution_count": null,
      "metadata": {
        "collapsed": false
      },
      "outputs": [],
      "source": [
        "# Plot the oscillating time series\nplot_time_series(times, osc_sig)"
      ]
    },
    {
      "cell_type": "code",
      "execution_count": null,
      "metadata": {
        "collapsed": false
      },
      "outputs": [],
      "source": [
        "# Compute the power spectrum of the oscillating signal\nfreqs, powers = compute_spectrum_welch(osc_sig, s_rate)"
      ]
    },
    {
      "cell_type": "code",
      "execution_count": null,
      "metadata": {
        "collapsed": false
      },
      "outputs": [],
      "source": [
        "# Visualize the power spectrum of the oscillating signal\nplot_power_spectra(freqs, powers)"
      ]
    },
    {
      "cell_type": "markdown",
      "metadata": {},
      "source": [
        "#### Section Conclusion\n\nWhen there is rhythmic activity at a particular frequency, this exhibits as a 'peak'\nof power in the frequency domain. This peak indicates high power at a specific frequency,\nwhere as the power values at all other frequencies are effectively zero.\n\n\n"
      ]
    },
    {
      "cell_type": "markdown",
      "metadata": {},
      "source": [
        "## Frequency Representations of Complex Signals\n\nNow let's consider the case whereby one could have a signal comprised of multiple\ncomponents, for example one or more oscillations combined with an aperiodic component.\n\n\n"
      ]
    },
    {
      "cell_type": "markdown",
      "metadata": {},
      "source": [
        "### Combined Aperiodic & Periodic Signals\n\nTo examine this, we will simulate combined signals, comprising both periodic and aperiodic\ncomponents, and see what the frequency representations look like.\n\n\n"
      ]
    },
    {
      "cell_type": "code",
      "execution_count": null,
      "metadata": {
        "collapsed": false
      },
      "outputs": [],
      "source": [
        "# Define component of a combined signal: an oscillation and an aperiodic component\ncomponents = {\n    'sim_oscillation' : {'freq' : 10},\n    'sim_powerlaw' : {'exponent' : -1}\n}\n\n# Generate a combined signal\ncombined_sig = sim.sim_combined(n_seconds, s_rate, components)"
      ]
    },
    {
      "cell_type": "code",
      "execution_count": null,
      "metadata": {
        "collapsed": false
      },
      "outputs": [],
      "source": [
        "# Plot the combined time series\nplot_time_series(times, combined_sig)"
      ]
    },
    {
      "cell_type": "code",
      "execution_count": null,
      "metadata": {
        "collapsed": false
      },
      "outputs": [],
      "source": [
        "# Compute the power spectrum of the combined signal\nfreqs, powers = compute_spectrum_welch(combined_sig, s_rate)"
      ]
    },
    {
      "cell_type": "code",
      "execution_count": null,
      "metadata": {
        "collapsed": false
      },
      "outputs": [],
      "source": [
        "# Visualize the power spectrum of the combined signal\nplot_power_spectra(freqs, powers)"
      ]
    },
    {
      "cell_type": "markdown",
      "metadata": {},
      "source": [
        "#### Section Conclusion\n\nIn the power spectrum above, we can see that combined signals, with aperiodic & periodic\nactivity reflect elements of both components. The periodic power can be seen as a\npeak of power over and above the rest of the spectrum, at the frequency of the simulated\nrhythm. Across all frequencies, we also see the power contributed by the aperiodic component.\n\n\n"
      ]
    },
    {
      "cell_type": "markdown",
      "metadata": {},
      "source": [
        "## Conclusion\n\nIn this example, we have seen that, in the frequency domain:\n\n- transients and aperiodic activity exhibit power across all frequencies\n- oscillations exhibit specific power, or a 'peak', at the frequency of the rhythm\n- combined signals display a combination of these properties, with power\n  across all frequencies, and overlying 'peaks' at frequencies with periodic activity\n\nCollectively, we have seen cases that motivate that simply having power at a particularly\nfrequency does not imply any rhythmic component at that frequency. Peaks of frequency specific\npower are associated with rhythmic activity in the time series.\n\nWhat we have covered here are just a starting point for some properties of time\nseries analysis and digital signal processing. For neural data, these properties alone\ndo not tell us how to interpret neural power spectra. However, here we take them as a\nstarting point that motivate why prominent rhythms in the time series can be measured\nas peaks in the power spectrum, but that absent a peak, we should not automatically\ninterpret power at any given frequency as necessarily reflecting rhythmic activity.\n\n\n"
      ]
    }
  ],
  "metadata": {
    "kernelspec": {
      "display_name": "Python 3",
      "language": "python",
      "name": "python3"
    },
    "language_info": {
      "codemirror_mode": {
        "name": "ipython",
        "version": 3
      },
      "file_extension": ".py",
      "mimetype": "text/x-python",
      "name": "python",
      "nbconvert_exporter": "python",
      "pygments_lexer": "ipython3",
      "version": "3.8.3"
    }
  },
  "nbformat": 4,
  "nbformat_minor": 0
}