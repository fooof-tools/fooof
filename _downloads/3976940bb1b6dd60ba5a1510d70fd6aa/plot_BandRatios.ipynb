{
  "cells": [
    {
      "cell_type": "markdown",
      "metadata": {},
      "source": [
        "\n# Band Ratio Measures\n\nExploring how band ratio measures relate to periodic & aperiodic activity.\n"
      ]
    },
    {
      "cell_type": "markdown",
      "metadata": {},
      "source": [
        "## Introduction\n\nBand ratios measures are a relatively common measure, proposed to measure oscillatory,\nor periodic, activity.\n\nThey are typically calculated as:\n\n\\begin{align}BR = \\frac{avg(low band power)}{avg(high band power)}\\end{align}\n\nIn this notebook we will explore this measure in the context of conceptualizing\nneural power spectra as a combination of aperiodic and periodic activity.\n\n\n"
      ]
    },
    {
      "cell_type": "markdown",
      "metadata": {},
      "source": [
        "### Band Ratios Project\n\nThis example offers a relatively quick demonstration of how band ratios measures\nrelate to periodic and aperiodic activity.\n\nWe have completed a full project investigating methodological properties of band\nratio measures, which is available\n[here](https://github.com/voytekresearch/BandRatios).\n\n\n"
      ]
    },
    {
      "cell_type": "code",
      "execution_count": null,
      "metadata": {
        "collapsed": false
      },
      "outputs": [],
      "source": [
        "# Import numpy and matplotlib\nimport numpy as np\nimport matplotlib.pyplot as plt\n\n# Import simulation, utility, and plotting tools\nfrom fooof.bands import Bands\nfrom fooof.utils import trim_spectrum\nfrom fooof.sim.gen import gen_power_spectrum\nfrom fooof.sim.utils import set_random_seed\nfrom fooof.plts.spectra import plot_spectra_shading"
      ]
    },
    {
      "cell_type": "code",
      "execution_count": null,
      "metadata": {
        "collapsed": false
      },
      "outputs": [],
      "source": [
        "# General Settings\n\n# Define band definitions\nbands = Bands({'theta' : [4, 8], 'beta' : [20, 30]})\n\n# Define helper variables for indexing peak data\nicf, ipw, ibw = 0, 1, 2\n\n# Plot settings\nshade_color = '#0365C0'"
      ]
    },
    {
      "cell_type": "markdown",
      "metadata": {},
      "source": [
        "### Simulating Data\n\nFor this example, we will use simulated data. Let's start by simulating a\na baseline power spectrum.\n\n\n"
      ]
    },
    {
      "cell_type": "code",
      "execution_count": null,
      "metadata": {
        "collapsed": false
      },
      "outputs": [],
      "source": [
        "# Simulation Settings\nnlv = 0\nf_res = 0.1\nf_range = [1, 35]\n\n# Define default aperiodic values\nap = [0, 1]\n\n# Define default periodic values for band specific peaks\ntheta = [6, 0.4, 1]\nalpha = [10, 0.5, 0.75]\nbeta  = [25, 0.3, 1.5]\n\n# Set random seed, for consistency generating simulated data\nset_random_seed(21)"
      ]
    },
    {
      "cell_type": "code",
      "execution_count": null,
      "metadata": {
        "collapsed": false
      },
      "outputs": [],
      "source": [
        "# Simulate a power spectrum\nfreqs, powers = gen_power_spectrum(f_range, ap, [theta, alpha, beta], nlv, f_res)"
      ]
    },
    {
      "cell_type": "markdown",
      "metadata": {},
      "source": [
        "### Calculating Band Ratios\n\nBand ratio measures are a ratio of power between defined frequency bands.\n\nWe can now define a function we can use to calculate band ratio measures, and\napply it to our baseline power spectrum.\n\nFor this example, we will be using the theta / beta ratio, which is the\nmost commonly applied band ratio measure.\n\nNote that it doesn't matter exactly which ratio measure or which frequency band\ndefinitions we use, as the general properties demonstrated here generalize\nto different bands and ranges.\n\n\n"
      ]
    },
    {
      "cell_type": "code",
      "execution_count": null,
      "metadata": {
        "collapsed": false
      },
      "outputs": [],
      "source": [
        "def calc_band_ratio(freqs, powers, low_band, high_band):\n    \"\"\"Helper function to calculate band ratio measures.\"\"\"\n\n    # Extract frequencies within each specified band\n    _, low_band = trim_spectrum(freqs, powers, low_band)\n    _, high_band = trim_spectrum(freqs, powers, high_band)\n\n    # Calculate average power within each band, and then the ratio between them\n    ratio = np.mean(low_band) / np.mean(high_band)\n\n    return ratio"
      ]
    },
    {
      "cell_type": "code",
      "execution_count": null,
      "metadata": {
        "collapsed": false
      },
      "outputs": [],
      "source": [
        "# Plot the power spectrum, shading the frequency bands used for the ratio\nplot_spectra_shading(freqs, powers, [bands.theta, bands.beta],\n                     color='black', shade_colors=shade_color,\n                     log_powers=True, linewidth=3.5)"
      ]
    },
    {
      "cell_type": "code",
      "execution_count": null,
      "metadata": {
        "collapsed": false
      },
      "outputs": [],
      "source": [
        "# Calculate a band ratio measure\ntbr = calc_band_ratio(freqs, powers, bands.theta, bands.beta)\nprint('Calculate theta / beta ratio is :\\t {:1.2f}'.format(tbr))"
      ]
    },
    {
      "cell_type": "markdown",
      "metadata": {},
      "source": [
        "### Periodic Impacts on Band Ratio Measures\n\nTypical investigations involving band ratios compare differences in band ratio measures\nwithin and between subjects. The typical interpretation of band ratio measures is that\nthey relate to the relative power between two bands.\n\nNext, lets simulate data that varies across different periodic parameters of the data, and\nsee how this changes our measured theta / beta ratio, as compared to our baseline\npower spectrum.\n\n\n"
      ]
    },
    {
      "cell_type": "code",
      "execution_count": null,
      "metadata": {
        "collapsed": false
      },
      "outputs": [],
      "source": [
        "# Define a helper function for updating parameters\nfrom copy import deepcopy\ndef upd(data, index, value):\n    \"\"\"Return a updated copy of an array.\"\"\"\n    out = deepcopy(data)\n    out[index] = value\n    return out"
      ]
    },
    {
      "cell_type": "code",
      "execution_count": null,
      "metadata": {
        "collapsed": false
      },
      "outputs": [],
      "source": [
        "# Simulate and collect power spectra with changes in each periodic parameter\nspectra = {\n    'Theta Frequency' : None,\n    'Theta Power' : gen_power_spectrum(\\\n        f_range, ap, [upd(theta, ipw, 0.5041), alpha, beta], nlv, f_res)[1],\n    'Theta Bandwidth' : gen_power_spectrum(\\\n        f_range, ap, [upd(theta, ibw, 1.61), alpha, beta], nlv, f_res)[1],\n    'Alpha Frequency' : gen_power_spectrum(\\\n        f_range, ap, [theta, upd(alpha, icf, 8.212), beta], nlv, f_res)[1],\n    'Alpha Power' : None,\n    'Alpha Bandwidth' : gen_power_spectrum(\\\n        f_range, ap, [theta, upd(alpha, ibw, 1.8845), beta], nlv, f_res)[1],\n    'Beta Frequency' : gen_power_spectrum(\\\n        f_range, ap, [theta, alpha, upd(beta, icf, 19.388)], nlv, f_res)[1],\n    'Beta Power' : gen_power_spectrum(\\\n        f_range, ap, [theta, alpha, upd(beta, ipw, 0.1403)], nlv, f_res)[1],\n    'Beta Bandwidth' : gen_power_spectrum(\\\n        f_range, ap, [theta, alpha, upd(beta, ibw, 0.609)], nlv, f_res)[1],\n}"
      ]
    },
    {
      "cell_type": "code",
      "execution_count": null,
      "metadata": {
        "collapsed": false
      },
      "outputs": [],
      "source": [
        "# Calculate changes in theta / beta ratios\nfor label, spectrum in spectra.items():\n    if spectrum is not None:\n        print('TBR difference from   {:20}   is \\t {:1.3f}'.format(\\\n            label, tbr - calc_band_ratio(freqs, spectrum, bands.theta, bands.beta)))"
      ]
    },
    {
      "cell_type": "code",
      "execution_count": null,
      "metadata": {
        "collapsed": false
      },
      "outputs": [],
      "source": [
        "# Create figure of periodic changes\ntitle_settings = {'fontsize': 16, 'fontweight': 'bold'}\nfig, axes = plt.subplots(3, 3, figsize=(15, 14))\n\nfor ax, (label, spectrum) in zip(axes.flatten(), spectra.items()):\n\n    if spectrum is None: continue\n\n    plot_spectra_shading(freqs, [powers, spectrum],\n                         [bands.theta, bands.beta], shade_colors=shade_color,\n                         log_freqs=False, log_powers=True, ax=ax)\n\n    ax.set_title(label, **title_settings)\n    ax.set_xlim([0, 35]); ax.set_ylim([-1.75, 0])\n    ax.xaxis.label.set_visible(False)\n    ax.yaxis.label.set_visible(False)\n\n# Turn off empty axes & space out axes\nfig.subplots_adjust(hspace=.3, wspace=.3)\n_ = [ax.axis('off') for ax in [axes[0, 0], axes[1, 1]]]"
      ]
    },
    {
      "cell_type": "markdown",
      "metadata": {},
      "source": [
        "In the simulations above, we systematically manipulated each parameter of each of the\nthree different band peaks present in our data. For 7 of the 9 possible changes, we can\ndo so in a way that creates an identical change in the measured band ratio measure.\n\nBand ratio measures are therefore not specific to band power differences, but rather\ncan reflect multiple different changes across multiple different periodic parameters.\n\n\n"
      ]
    },
    {
      "cell_type": "markdown",
      "metadata": {},
      "source": [
        "### Aperiodic Impacts on Band Ratio Measures\n\nNext, we can also examine if changes in aperiodic properties of the data can also\nimpact band ratio measures. We will explore changes in the aperiodic exponent, with\nand without overlying peaks.\n\nTo do so, we will use the same approach to simulating, comparing, and plotting\ndata as above (though note that the code to do so has been condensed in the\nnext section).\n\n\n"
      ]
    },
    {
      "cell_type": "code",
      "execution_count": null,
      "metadata": {
        "collapsed": false
      },
      "outputs": [],
      "source": [
        "# Simulate and collect power spectra with changes in aperiodic parameters\nexp_spectra = {\n    'Exponent w Peaks' : \\\n        [powers,\n         gen_power_spectrum(f_range, [0.13, 1.1099],\n                            [theta, alpha, beta], nlv, f_res)[1]],\n    'Exponent w/out Peaks' : \\\n        [gen_power_spectrum(f_range, ap, [], nlv, f_res)[1],\n         gen_power_spectrum(f_range, [0.13, 1.1417], [], nlv, f_res)[1]]}"
      ]
    },
    {
      "cell_type": "code",
      "execution_count": null,
      "metadata": {
        "collapsed": false
      },
      "outputs": [],
      "source": [
        "# Calculate & plot changes in theta / beta ratios\nfig, axes = plt.subplots(1, 2, figsize=(15, 6))\nfig.subplots_adjust(wspace=.3)\nfor ax, (label, (comparison, spectrum)) in zip(axes, exp_spectra.items()):\n    print('\\tTBR difference from   {:20}   is \\t {:1.3f}'.format(label, \\\n        calc_band_ratio(freqs, comparison, bands.theta, bands.beta) - \\\n        calc_band_ratio(freqs, spectrum, bands.theta, bands.beta)))\n    plot_spectra_shading(freqs, [comparison, spectrum],\n                         [bands.theta, bands.beta],\n                         shade_colors=shade_color,\n                         log_freqs=False, log_powers=True, ax=ax)\n    ax.set_title(label, **title_settings)\n    ax.set_xlim([0, 35]); ax.set_ylim([-1.75, 0])"
      ]
    },
    {
      "cell_type": "markdown",
      "metadata": {},
      "source": [
        "In these simulations, we again see that we can obtain the same measured difference in\nband ratio measures from differences in the aperiodic properties of the data. This is\ntrue even if there are no periodic peaks present at all.\n\nThis shows that band ratio measures are not even specific to periodic activity,\nand can be driven by changes in aperiodic activity.\n\n\n"
      ]
    },
    {
      "cell_type": "markdown",
      "metadata": {},
      "source": [
        "## Conclusion\n\nBand ratio measures are supposed to reflect the relative power of rhythmic neural activity.\n\nHowever, here we can see that band ratio measures are actually under-determined\nin that many different changes of both periodic and aperiodic parameters can affect\nband ratio measurements - including aperiodic changes when there is no periodic activity.\n\nFor this reason, we conclude that band-ratio measures, by themselves, are\nan insufficient measure of neural activity. We propose that approaches such as\nparameterizing power spectra are more specific for adjudicating what is changing\nin neural data.\n\nFor more investigation into band ratios, their methodological issues, applications to real\ndata, and a comparison to parameterizing power spectra, see the full project\n[here](https://github.com/voytekresearch/BandRatios),\n\n\n"
      ]
    }
  ],
  "metadata": {
    "kernelspec": {
      "display_name": "Python 3",
      "language": "python",
      "name": "python3"
    },
    "language_info": {
      "codemirror_mode": {
        "name": "ipython",
        "version": 3
      },
      "file_extension": ".py",
      "mimetype": "text/x-python",
      "name": "python",
      "nbconvert_exporter": "python",
      "pygments_lexer": "ipython3",
      "version": "3.8.3"
    }
  },
  "nbformat": 4,
  "nbformat_minor": 0
}